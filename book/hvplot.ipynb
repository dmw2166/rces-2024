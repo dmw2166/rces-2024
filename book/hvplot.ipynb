{
 "cells": [
  {
   "cell_type": "markdown",
   "id": "8a4a0c53-35c3-4168-a6d3-9b93610a24e5",
   "metadata": {},
   "source": [
    "# Holoviz and hvPlot"
   ]
  },
  {
   "cell_type": "markdown",
   "id": "aee86267-9b0a-45d8-90fe-67ef675bc89f",
   "metadata": {},
   "source": [
    "Python's visualization landscape is complex and confusing!"
   ]
  },
  {
   "cell_type": "markdown",
   "id": "42f6f46e-a58c-4c02-8a9f-fed83f7220a6",
   "metadata": {},
   "source": [
    "<div style=\"clear:left;\">\n",
    "<img src=\"landscape.png\" width=75% align=\"left\" style=\"margin: 0px 30px\">\n",
    "</div>"
   ]
  },
  {
   "cell_type": "markdown",
   "id": "7513a38b-c675-47dc-a578-2e8bc137089b",
   "metadata": {},
   "source": [
    "HoloViz to the rescue!!"
   ]
  },
  {
   "cell_type": "markdown",
   "id": "6b8d9c32-6b1e-4501-b27d-20766def1287",
   "metadata": {},
   "source": [
    "## HoloViz libraries\n",
    "\n",
    "<img width=\"800\" src=\"pn_hp_hv_gv_ds_lu_pa_cs.png\"/>\n",
    "\n",
    "-   [Panel](http://panel.pyviz.org): Assembling objects from many different libraries into a layout or app, whether in a Jupyter notebook or in a standalone servable dashboard\n",
    "-   [hvPlot](http://hvplot.pyviz.org): Quickly return Bokeh/Matplotlib/Plotly-based HoloViews plots from Pandas, Xarray, orother data structures\n",
    "-   [HoloViews](http://holoviews.org): Declarative objects for instantly visualizable data, building Bokeh/Matplotlib/Plotly plots from convenient high-level specifications\n",
    "-   [GeoViews](http://geoviews.org): Visualizable geographic data that that can be mixed and matched with HoloViews objects\n",
    "-   [Datashader](http://datashader.org): Rasterizing huge datasets quickly as fixed-size arrays or images\n",
    "-   [Lumen](https://lumen.holoviz.org): Building Panel dashboards with HoloViews plots from a text file (low code) or GUI (no code)\n",
    "-   [Param](http://param.pyviz.org): Declaring user-relevant parameters, making it simple to work with widgets inside and outside of a notebook context\n",
    "-   [Colorcet](http://colorcet.pyviz.org): Perceptually accurate continuous and categorical colormaps for any viz tool\n",
    "\n",
    "\n",
    "These libraries work with and are built upon many other familiar open source [libraries](https://holoviz.org/tutorial/Overview.html)."
   ]
  },
  {
   "cell_type": "markdown",
   "id": "f5ad3d69-7e5b-4e49-b612-d91e8f06b302",
   "metadata": {},
   "source": [
    "### Start with hvPlot\n",
    "hvPlot is a unifying library that easily connects your data (e.g. Pandas, Xarray, etc.) to the rest of the HoloViz world.\n",
    "\n",
    "<img width=\"800\" src=\"diagram.svg\"/>\n"
   ]
  },
  {
   "cell_type": "markdown",
   "id": "1d04ccac-6755-4a4c-a2b3-3af247df1e43",
   "metadata": {},
   "source": [
    "## hvPlot and Pandas"
   ]
  },
  {
   "cell_type": "code",
   "execution_count": null,
   "id": "75e8b2c4-e887-4247-852a-61d862b8f126",
   "metadata": {},
   "outputs": [],
   "source": [
    "import pandas as pd"
   ]
  },
  {
   "cell_type": "code",
   "execution_count": null,
   "id": "f9e0907e-6f6a-4a6e-ab4b-1537764389d2",
   "metadata": {},
   "outputs": [],
   "source": [
    "datafile = '/home/jovyan/.cache/noaa-data/data.txt'\n",
    "df = pd.read_csv(datafile, sep='\\s+',\n",
    "                 na_values=[-9999.0, -99.0],\n",
    "                 parse_dates=[1])"
   ]
  },
  {
   "cell_type": "code",
   "execution_count": null,
   "id": "db92f6a7-3add-4c4c-ab76-d4942dc09761",
   "metadata": {},
   "outputs": [],
   "source": [
    "df.rename(columns={'LST_DATE': 'Date'}, inplace=True)\n",
    "df.set_index('Date', inplace=True)"
   ]
  },
  {
   "cell_type": "code",
   "execution_count": null,
   "id": "c57d6691-ed47-43ff-846a-77f7ff55392d",
   "metadata": {},
   "outputs": [],
   "source": [
    "df.head()"
   ]
  },
  {
   "cell_type": "code",
   "execution_count": null,
   "id": "cd9b6be1-e69b-4338-b001-17d8c0b44d6b",
   "metadata": {},
   "outputs": [],
   "source": [
    "df_mm = df.resample('MS').mean(numeric_only=True)"
   ]
  },
  {
   "cell_type": "code",
   "execution_count": null,
   "id": "304ad467-cf11-43f9-817a-a3c5e2f37288",
   "metadata": {},
   "outputs": [],
   "source": [
    "from matplotlib import pyplot as plt\n",
    "%matplotlib inline"
   ]
  },
  {
   "cell_type": "code",
   "execution_count": null,
   "id": "2f0c7070-3858-4327-ae4a-5266cdc00831",
   "metadata": {},
   "outputs": [],
   "source": [
    "df.T_DAILY_MEAN.plot()"
   ]
  },
  {
   "cell_type": "code",
   "execution_count": null,
   "id": "97300eb5-c6c2-496e-8cca-6bd0b06e343d",
   "metadata": {},
   "outputs": [],
   "source": [
    "import hvplot.pandas\n",
    "df.T_DAILY_MEAN.hvplot()"
   ]
  },
  {
   "cell_type": "code",
   "execution_count": null,
   "id": "eea14963-e2ae-4f84-9847-fdb7be5e3d69",
   "metadata": {},
   "outputs": [],
   "source": [
    "df.T_DAILY_MEAN.hvplot.scatter()"
   ]
  },
  {
   "cell_type": "code",
   "execution_count": null,
   "id": "677c28c0-6f55-45ba-8fe3-df26ff1592b1",
   "metadata": {},
   "outputs": [],
   "source": [
    "df.T_DAILY_MEAN.hvplot.scatter(s=300, alpha=0.1)"
   ]
  },
  {
   "cell_type": "code",
   "execution_count": null,
   "id": "237b8ca2-46d3-4e03-b77a-4a52bded3788",
   "metadata": {},
   "outputs": [],
   "source": [
    "hvplot.help('scatter')"
   ]
  },
  {
   "cell_type": "markdown",
   "id": "fae4ece5-4795-436b-b0ac-a760ecebdb23",
   "metadata": {},
   "source": [
    "### Compositing"
   ]
  },
  {
   "cell_type": "code",
   "execution_count": null,
   "id": "ad037f94-2d04-49cc-9278-3f8b2ca518d0",
   "metadata": {},
   "outputs": [],
   "source": [
    "df.T_DAILY_MEAN.hvplot.scatter(s=300, alpha=0.1, width=450, height=300) + \\\n",
    "df_mm.T_DAILY_MEAN.hvplot(width=450, height=300)"
   ]
  },
  {
   "cell_type": "code",
   "execution_count": null,
   "id": "40e0dac5-0b76-4275-85d6-081dd2e1edeb",
   "metadata": {},
   "outputs": [],
   "source": [
    "df.T_DAILY_MEAN.hvplot.scatter(s=300, alpha=0.1, legend=False) * \\\n",
    "df_mm.T_DAILY_MEAN.hvplot(legend=False) * \\\n",
    "df_mm.T_DAILY_MEAN.hvplot.scatter(c='m', s=100, legend=False)"
   ]
  },
  {
   "cell_type": "code",
   "execution_count": null,
   "id": "e66e3112-0fb5-4bd9-81f6-3d407639bb2b",
   "metadata": {},
   "outputs": [],
   "source": [
    "df.T_DAILY_MEAN.hvplot.scatter(s=300, alpha=0.1, label='Daily Mean T', width=800, height=400).opts(legend_position='top_left')  * \\\n",
    "df_mm.T_DAILY_MEAN.hvplot(label='Monthly Mean T') * \\\n",
    "df_mm.T_DAILY_MEAN.hvplot.scatter(c='m', s=50, label='Monthly Mean T')"
   ]
  },
  {
   "cell_type": "code",
   "execution_count": null,
   "id": "546584b8-8817-404f-afb8-70eeaedd2d84",
   "metadata": {},
   "outputs": [],
   "source": [
    "df.T_DAILY_AVG.hvplot.hist(bins=50)"
   ]
  },
  {
   "cell_type": "markdown",
   "id": "f48a64cc-2da5-48a6-aa61-e8a4d7372566",
   "metadata": {},
   "source": [
    "### Earthquake Catalog"
   ]
  },
  {
   "cell_type": "code",
   "execution_count": null,
   "id": "8cd17657-97a4-4c85-8862-bc84e5b1c466",
   "metadata": {},
   "outputs": [],
   "source": [
    "eqs = pd.read_csv('http://www.ldeo.columbia.edu/~rpa/usgs_earthquakes_2014.csv',\n",
    "                   index_col='time')"
   ]
  },
  {
   "cell_type": "code",
   "execution_count": null,
   "id": "7240a321-0c0a-452b-ba14-5f70261e7ca3",
   "metadata": {},
   "outputs": [],
   "source": [
    "eqs.tail()"
   ]
  },
  {
   "cell_type": "code",
   "execution_count": null,
   "id": "d1a3297c-7b6c-42f9-add1-c83654cb65b6",
   "metadata": {},
   "outputs": [],
   "source": [
    "len(eqs)"
   ]
  },
  {
   "cell_type": "code",
   "execution_count": null,
   "id": "58840af3-482e-4d6c-b7f0-6931e545bbfe",
   "metadata": {},
   "outputs": [],
   "source": [
    "eqs.hvplot.scatter(x='longitude', y='latitude')"
   ]
  },
  {
   "cell_type": "code",
   "execution_count": null,
   "id": "31a7a03a-b4c7-4196-add9-41d957a6acce",
   "metadata": {},
   "outputs": [],
   "source": [
    "eqs.hvplot.hexbin(x='longitude', y='latitude', cnorm='eq_hist')"
   ]
  },
  {
   "cell_type": "code",
   "execution_count": null,
   "id": "2c7b2efb-0697-4a79-937f-2092fc936dad",
   "metadata": {},
   "outputs": [],
   "source": [
    "eqs.hvplot.scatter(x='longitude', y='latitude', s=0.008*eqs['mag'].values**6, c=eqs['mag'].values, cmap='jet')"
   ]
  },
  {
   "cell_type": "code",
   "execution_count": null,
   "id": "60bf6ac4-6ccd-4c59-871b-1e7fcabd8b14",
   "metadata": {},
   "outputs": [],
   "source": [
    "eqs.hvplot.points(x='longitude', y='latitude', rasterize=True, colorbar=False,\n",
    "                  cnorm='eq_hist', geo=True, coastline='50m', frame_width=500)"
   ]
  },
  {
   "cell_type": "code",
   "execution_count": null,
   "id": "26acae99-202a-42be-9fd2-6c1b28d781c8",
   "metadata": {},
   "outputs": [],
   "source": [
    "eqs.hvplot.points(x='longitude', y='latitude', rasterize=True, dynspread=False, cnorm='eq_hist',\n",
    "                  geo=True, coastline='50m', projection='Robinson')"
   ]
  },
  {
   "cell_type": "code",
   "execution_count": null,
   "id": "9651a0cf-eff3-467a-9dcc-bcacd6a826ab",
   "metadata": {},
   "outputs": [],
   "source": [
    "points = pd.DataFrame(np.random.multivariate_normal((0,0), [[0.1, 0.1], [0.1, 1.0]], (int(4e5),)),\n",
    "                     columns=('x', 'y'))"
   ]
  },
  {
   "cell_type": "code",
   "execution_count": null,
   "id": "7feb8966-a4a0-483a-a32a-2a7fc2397c72",
   "metadata": {},
   "outputs": [],
   "source": [
    "points.hvplot.scatter(x='x', y='y')"
   ]
  },
  {
   "cell_type": "code",
   "execution_count": null,
   "id": "f951b067-1105-4e60-b2d0-17e887951d40",
   "metadata": {},
   "outputs": [],
   "source": [
    "points.hvplot.scatter(x='x', y='y', rasterize=True)"
   ]
  },
  {
   "cell_type": "code",
   "execution_count": null,
   "id": "a7a447ce-6efd-4117-87ea-d42b2b3f2e8c",
   "metadata": {},
   "outputs": [],
   "source": [
    "points.hvplot.scatter(x='x', y='y', rasterize=True, dynspread=False) + points.hvplot.scatter(x='x', y='y', rasterize=True, dynspread=True)"
   ]
  },
  {
   "cell_type": "markdown",
   "id": "92860554-d1f6-49c9-b740-6a7dff1d62e1",
   "metadata": {},
   "source": [
    "## hvPlot and Xarray"
   ]
  },
  {
   "cell_type": "code",
   "execution_count": null,
   "id": "10cd05bc-81bd-4bd0-b8b8-50f7cf7d4577",
   "metadata": {},
   "outputs": [],
   "source": [
    "import numpy as np\n",
    "import xarray as xr\n",
    "import hvplot.xarray"
   ]
  },
  {
   "cell_type": "code",
   "execution_count": null,
   "id": "502a41e2-8153-4688-899c-5bb7736597ee",
   "metadata": {},
   "outputs": [],
   "source": [
    "url = 'http://www.esrl.noaa.gov/psd/thredds/dodsC/Datasets/noaa.ersst.v5/sst.mnmean.nc'\n",
    "ds = xr.open_dataset(url, drop_variables=['time_bnds'])\n",
    "ds = ds.sel(time=slice('1960', '2018')).load()\n",
    "ds"
   ]
  },
  {
   "cell_type": "code",
   "execution_count": null,
   "id": "285cd5f9-ac94-4281-8df0-efb8a10582b8",
   "metadata": {},
   "outputs": [],
   "source": [
    "ds.sst.hvplot()"
   ]
  },
  {
   "cell_type": "code",
   "execution_count": null,
   "id": "9be7b643-446d-4718-b8c6-5071737bd39a",
   "metadata": {},
   "outputs": [],
   "source": [
    "ds.sst[0].hvplot.contour(levels=np.arange(-4,31), cmap='viridis', clim=(0, 31))"
   ]
  },
  {
   "cell_type": "code",
   "execution_count": null,
   "id": "3ca5d036-90a6-449b-8c57-9f8e58f82ca7",
   "metadata": {},
   "outputs": [],
   "source": [
    "ds.sst.hvplot.contourf(levels=np.arange(-4,31), cmap='viridis', clim=(0, 31))"
   ]
  },
  {
   "cell_type": "code",
   "execution_count": null,
   "id": "1e349543-a8a8-43cc-8768-96795f99712a",
   "metadata": {},
   "outputs": [],
   "source": [
    "(ds.groupby('time.year').mean()).hvplot.contourf(x='lon',y='lat', levels=np.arange(-4,31), cmap='viridis', clim=(0, 31))"
   ]
  },
  {
   "cell_type": "code",
   "execution_count": null,
   "id": "18ca2907-85b8-4f9c-82b9-569a1ea8860a",
   "metadata": {},
   "outputs": [],
   "source": [
    "import cartopy.crs as ccrs"
   ]
  },
  {
   "cell_type": "code",
   "execution_count": null,
   "id": "43f4ef89-812d-4126-890b-67d33aeb1574",
   "metadata": {},
   "outputs": [],
   "source": [
    "ccrs.InterruptedGoodeHomolosine"
   ]
  },
  {
   "cell_type": "code",
   "execution_count": null,
   "id": "cacc35e0-6b53-42a0-a18e-6d93899e3aab",
   "metadata": {},
   "outputs": [],
   "source": [
    "ds.sst.hvplot.quadmesh(\n",
    "    'lon', 'lat', 'sst', projection=ccrs.Robinson(),\n",
    "    global_extent=True, cmap='viridis',\n",
    "    coastline=True, frame_width=700\n",
    ")"
   ]
  },
  {
   "cell_type": "code",
   "execution_count": null,
   "id": "6f82c571-6073-4aca-930f-2eb10d910779",
   "metadata": {},
   "outputs": [],
   "source": [
    "air_ds = xr.tutorial.open_dataset('air_temperature').load()\n",
    "\n",
    "air_ds.hvplot.quadmesh(\n",
    "    'lon', 'lat', 'air', projection=ccrs.Orthographic(-90, 30),\n",
    "    global_extent=True, frame_height=540, cmap='viridis',\n",
    "    coastline=True\n",
    ")"
   ]
  }
 ],
 "metadata": {
  "kernelspec": {
   "display_name": "Python 3 (ipykernel)",
   "language": "python",
   "name": "python3"
  },
  "language_info": {
   "codemirror_mode": {
    "name": "ipython",
    "version": 3
   },
   "file_extension": ".py",
   "mimetype": "text/x-python",
   "name": "python",
   "nbconvert_exporter": "python",
   "pygments_lexer": "ipython3",
   "version": "3.9.13"
  }
 },
 "nbformat": 4,
 "nbformat_minor": 5
}
