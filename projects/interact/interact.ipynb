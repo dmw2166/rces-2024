{
 "cells": [
  {
   "cell_type": "markdown",
   "metadata": {},
   "source": [
    "# Interact Widget"
   ]
  },
  {
   "cell_type": "code",
   "execution_count": 1,
   "metadata": {},
   "outputs": [],
   "source": [
    "import numpy as np\n",
    "import pandas as pd\n",
    "from matplotlib import pyplot as plt\n",
    "%config InlineBackend.figure_format = 'retina'"
   ]
  },
  {
   "cell_type": "code",
   "execution_count": 2,
   "metadata": {},
   "outputs": [
    {
     "data": {
      "text/html": [
       "<div>\n",
       "<style scoped>\n",
       "    .dataframe tbody tr th:only-of-type {\n",
       "        vertical-align: middle;\n",
       "    }\n",
       "\n",
       "    .dataframe tbody tr th {\n",
       "        vertical-align: top;\n",
       "    }\n",
       "\n",
       "    .dataframe thead th {\n",
       "        text-align: right;\n",
       "    }\n",
       "</style>\n",
       "<table border=\"1\" class=\"dataframe\">\n",
       "  <thead>\n",
       "    <tr style=\"text-align: right;\">\n",
       "      <th></th>\n",
       "      <th>SID</th>\n",
       "      <th>SEASON</th>\n",
       "      <th>NUMBER</th>\n",
       "      <th>BASIN</th>\n",
       "      <th>SUBBASIN</th>\n",
       "      <th>NAME</th>\n",
       "      <th>ISO_TIME</th>\n",
       "      <th>NATURE</th>\n",
       "      <th>LAT</th>\n",
       "      <th>LON</th>\n",
       "      <th>WMO_WIND</th>\n",
       "      <th>WMO_PRES</th>\n",
       "    </tr>\n",
       "  </thead>\n",
       "  <tbody>\n",
       "    <tr>\n",
       "      <th>0</th>\n",
       "      <td>1842298N11080</td>\n",
       "      <td>1842</td>\n",
       "      <td>1</td>\n",
       "      <td>NI</td>\n",
       "      <td>BB</td>\n",
       "      <td>NaN</td>\n",
       "      <td>1842-10-25 03:00:00</td>\n",
       "      <td>NR</td>\n",
       "      <td>10.9000</td>\n",
       "      <td>80.3000</td>\n",
       "      <td>NaN</td>\n",
       "      <td>NaN</td>\n",
       "    </tr>\n",
       "    <tr>\n",
       "      <th>1</th>\n",
       "      <td>1842298N11080</td>\n",
       "      <td>1842</td>\n",
       "      <td>1</td>\n",
       "      <td>NI</td>\n",
       "      <td>BB</td>\n",
       "      <td>NaN</td>\n",
       "      <td>1842-10-25 06:00:00</td>\n",
       "      <td>NR</td>\n",
       "      <td>10.8709</td>\n",
       "      <td>79.8265</td>\n",
       "      <td>NaN</td>\n",
       "      <td>NaN</td>\n",
       "    </tr>\n",
       "    <tr>\n",
       "      <th>2</th>\n",
       "      <td>1842298N11080</td>\n",
       "      <td>1842</td>\n",
       "      <td>1</td>\n",
       "      <td>NI</td>\n",
       "      <td>BB</td>\n",
       "      <td>NaN</td>\n",
       "      <td>1842-10-25 09:00:00</td>\n",
       "      <td>NR</td>\n",
       "      <td>10.8431</td>\n",
       "      <td>79.3524</td>\n",
       "      <td>NaN</td>\n",
       "      <td>NaN</td>\n",
       "    </tr>\n",
       "    <tr>\n",
       "      <th>3</th>\n",
       "      <td>1842298N11080</td>\n",
       "      <td>1842</td>\n",
       "      <td>1</td>\n",
       "      <td>NI</td>\n",
       "      <td>BB</td>\n",
       "      <td>NaN</td>\n",
       "      <td>1842-10-25 12:00:00</td>\n",
       "      <td>NR</td>\n",
       "      <td>10.8188</td>\n",
       "      <td>78.8772</td>\n",
       "      <td>NaN</td>\n",
       "      <td>NaN</td>\n",
       "    </tr>\n",
       "    <tr>\n",
       "      <th>4</th>\n",
       "      <td>1842298N11080</td>\n",
       "      <td>1842</td>\n",
       "      <td>1</td>\n",
       "      <td>NI</td>\n",
       "      <td>BB</td>\n",
       "      <td>NaN</td>\n",
       "      <td>1842-10-25 15:00:00</td>\n",
       "      <td>NR</td>\n",
       "      <td>10.8000</td>\n",
       "      <td>78.4000</td>\n",
       "      <td>NaN</td>\n",
       "      <td>NaN</td>\n",
       "    </tr>\n",
       "  </tbody>\n",
       "</table>\n",
       "</div>"
      ],
      "text/plain": [
       "             SID  SEASON  NUMBER BASIN SUBBASIN NAME            ISO_TIME  \\\n",
       "0  1842298N11080    1842       1    NI       BB  NaN 1842-10-25 03:00:00   \n",
       "1  1842298N11080    1842       1    NI       BB  NaN 1842-10-25 06:00:00   \n",
       "2  1842298N11080    1842       1    NI       BB  NaN 1842-10-25 09:00:00   \n",
       "3  1842298N11080    1842       1    NI       BB  NaN 1842-10-25 12:00:00   \n",
       "4  1842298N11080    1842       1    NI       BB  NaN 1842-10-25 15:00:00   \n",
       "\n",
       "  NATURE      LAT      LON  WMO_WIND  WMO_PRES  \n",
       "0     NR  10.9000  80.3000       NaN       NaN  \n",
       "1     NR  10.8709  79.8265       NaN       NaN  \n",
       "2     NR  10.8431  79.3524       NaN       NaN  \n",
       "3     NR  10.8188  78.8772       NaN       NaN  \n",
       "4     NR  10.8000  78.4000       NaN       NaN  "
      ]
     },
     "execution_count": 2,
     "metadata": {},
     "output_type": "execute_result"
    }
   ],
   "source": [
    "url = 'https://www.ncei.noaa.gov/data/international-best-track-archive-for-climate-stewardship-ibtracs/v04r00/access/csv/ibtracs.ALL.list.v04r00.csv'\n",
    "df = pd.read_csv(url, parse_dates=['ISO_TIME'], usecols=range(12),\n",
    "                 skiprows=[1], na_values=[' ', 'NOT_NAMED'],\n",
    "                 keep_default_na=False, dtype={'NAME': str})\n",
    "df.head()"
   ]
  },
  {
   "cell_type": "code",
   "execution_count": 3,
   "metadata": {
    "tags": []
   },
   "outputs": [],
   "source": [
    "import cartopy.crs as ccrs\n",
    "import cartopy"
   ]
  },
  {
   "cell_type": "code",
   "execution_count": 4,
   "metadata": {
    "tags": []
   },
   "outputs": [],
   "source": [
    "def scatter_globe(central_lat):\n",
    "    fig = plt.figure(figsize=(9,6))\n",
    "    ax = plt.axes(projection=ccrs.Orthographic(central_lat))\n",
    "    ax.coastlines()\n",
    "    ax.gridlines()\n",
    "    ax.set_global()\n",
    "    ax.scatter(df.LON, df.LAT, transform=ccrs.PlateCarree(), s=0.01);"
   ]
  },
  {
   "cell_type": "code",
   "execution_count": 5,
   "metadata": {
    "tags": []
   },
   "outputs": [
    {
     "data": {
      "application/vnd.jupyter.widget-view+json": {
       "model_id": "4ffd9030470c40a39e5a87c4ffb4a423",
       "version_major": 2,
       "version_minor": 0
      },
      "text/plain": [
       "interactive(children=(IntSlider(value=0, description='central_lat', max=360, min=-360, step=20), Output()), _d…"
      ]
     },
     "metadata": {},
     "output_type": "display_data"
    }
   ],
   "source": [
    "from ipywidgets import interact\n",
    "interact(scatter_globe, central_lat=(-360, 360, 20));"
   ]
  }
 ],
 "metadata": {
  "kernelspec": {
   "display_name": "Python 3 (ipykernel)",
   "language": "python",
   "name": "python3"
  },
  "language_info": {
   "codemirror_mode": {
    "name": "ipython",
    "version": 3
   },
   "file_extension": ".py",
   "mimetype": "text/x-python",
   "name": "python",
   "nbconvert_exporter": "python",
   "pygments_lexer": "ipython3",
   "version": "3.9.13"
  }
 },
 "nbformat": 4,
 "nbformat_minor": 4
}
