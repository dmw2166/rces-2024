{
 "cells": [
  {
   "cell_type": "markdown",
   "id": "304d545f-02de-4efd-bdd5-34ff04efa22a",
   "metadata": {},
   "source": [
    "# Numpy and Matplotlib"
   ]
  },
  {
   "cell_type": "markdown",
   "id": "035064aa-a8a3-4510-875a-2a55e938972b",
   "metadata": {},
   "source": [
    "## Importing a Package"
   ]
  },
  {
   "cell_type": "code",
   "execution_count": 3,
   "id": "12f5f2ea-f1c7-44d6-b310-95a589bedc66",
   "metadata": {},
   "outputs": [],
   "source": [
    "import numpy as np"
   ]
  },
  {
   "cell_type": "code",
   "execution_count": 2,
   "id": "54939201-aae8-4bb0-ab4c-787dac312ef4",
   "metadata": {},
   "outputs": [
    {
     "name": "stdout",
     "output_type": "stream",
     "text": [
      "Variable   Type      Data/Info\n",
      "------------------------------\n",
      "np         module    <module 'numpy' from '/sr<...>kages/numpy/__init__.py'>\n"
     ]
    }
   ],
   "source": [
    "whos"
   ]
  },
  {
   "cell_type": "code",
   "execution_count": null,
   "id": "699ce03d-97b7-4f14-9a40-f8b209f6073a",
   "metadata": {},
   "outputs": [],
   "source": [
    "dir(np)"
   ]
  },
  {
   "cell_type": "markdown",
   "id": "bd42a83e-988e-451f-a059-c22d86f54a3d",
   "metadata": {},
   "source": [
    "## NDArrays"
   ]
  },
  {
   "cell_type": "code",
   "execution_count": 4,
   "id": "e510a71e-c559-401f-9ab3-63ac1c35885b",
   "metadata": {},
   "outputs": [],
   "source": [
    "a = np.array([9, 0, 2, 1, 0])"
   ]
  },
  {
   "cell_type": "code",
   "execution_count": 5,
   "id": "4f3837ce-5f77-45ae-93c7-4c081827a8af",
   "metadata": {},
   "outputs": [
    {
     "data": {
      "text/plain": [
       "array([9, 0, 2, 1, 0])"
      ]
     },
     "execution_count": 5,
     "metadata": {},
     "output_type": "execute_result"
    }
   ],
   "source": [
    "a"
   ]
  },
  {
   "cell_type": "code",
   "execution_count": 6,
   "id": "552d6b71-4688-461d-8d22-5a2106a8f483",
   "metadata": {},
   "outputs": [
    {
     "data": {
      "text/plain": [
       "numpy.ndarray"
      ]
     },
     "execution_count": 6,
     "metadata": {},
     "output_type": "execute_result"
    }
   ],
   "source": [
    "type(a)"
   ]
  },
  {
   "cell_type": "code",
   "execution_count": 7,
   "id": "4cd2db34-fe68-48ee-8188-1997c92d4a06",
   "metadata": {},
   "outputs": [
    {
     "data": {
      "text/plain": [
       "(5,)"
      ]
     },
     "execution_count": 7,
     "metadata": {},
     "output_type": "execute_result"
    }
   ],
   "source": [
    "a.shape"
   ]
  },
  {
   "cell_type": "code",
   "execution_count": 8,
   "id": "a188af15-f12f-411c-9299-044675c55905",
   "metadata": {},
   "outputs": [
    {
     "ename": "TypeError",
     "evalue": "'tuple' object is not callable",
     "output_type": "error",
     "traceback": [
      "\u001b[0;31m---------------------------------------------------------------------------\u001b[0m",
      "\u001b[0;31mTypeError\u001b[0m                                 Traceback (most recent call last)",
      "Input \u001b[0;32mIn [8]\u001b[0m, in \u001b[0;36m<cell line: 1>\u001b[0;34m()\u001b[0m\n\u001b[0;32m----> 1\u001b[0m \u001b[43ma\u001b[49m\u001b[38;5;241;43m.\u001b[39;49m\u001b[43mshape\u001b[49m\u001b[43m(\u001b[49m\u001b[43m)\u001b[49m\n",
      "\u001b[0;31mTypeError\u001b[0m: 'tuple' object is not callable"
     ]
    }
   ],
   "source": [
    "a.shape()"
   ]
  },
  {
   "cell_type": "code",
   "execution_count": 12,
   "id": "fc11522c-dc8a-4056-861e-97a76699cb14",
   "metadata": {},
   "outputs": [
    {
     "data": {
      "text/plain": [
       "numpy.int64"
      ]
     },
     "execution_count": 12,
     "metadata": {},
     "output_type": "execute_result"
    }
   ],
   "source": [
    "type(a[0])"
   ]
  },
  {
   "cell_type": "code",
   "execution_count": 13,
   "id": "1e7e771b-cf5d-495b-80c4-8a6eeae2da47",
   "metadata": {},
   "outputs": [],
   "source": [
    "b = np.array([[5, 3, 1, 9], [9, 2, 3, 0]], dtype=np.float64)"
   ]
  },
  {
   "cell_type": "code",
   "execution_count": 14,
   "id": "07daf639-5011-4801-ba9c-7a7579ff4bad",
   "metadata": {},
   "outputs": [
    {
     "data": {
      "text/plain": [
       "array([[5., 3., 1., 9.],\n",
       "       [9., 2., 3., 0.]])"
      ]
     },
     "execution_count": 14,
     "metadata": {},
     "output_type": "execute_result"
    }
   ],
   "source": [
    "b"
   ]
  },
  {
   "cell_type": "code",
   "execution_count": 15,
   "id": "80155e8e-6a2b-4794-8b78-153b5ccd59b4",
   "metadata": {},
   "outputs": [
    {
     "data": {
      "text/plain": [
       "(2, 4)"
      ]
     },
     "execution_count": 15,
     "metadata": {},
     "output_type": "execute_result"
    }
   ],
   "source": [
    "b.shape"
   ]
  },
  {
   "cell_type": "code",
   "execution_count": 17,
   "id": "fd5dd719-da52-42d6-851e-528368207d1a",
   "metadata": {},
   "outputs": [
    {
     "data": {
      "text/plain": [
       "numpy.float64"
      ]
     },
     "execution_count": 17,
     "metadata": {},
     "output_type": "execute_result"
    }
   ],
   "source": [
    "type(b[1,2])"
   ]
  },
  {
   "cell_type": "markdown",
   "id": "caf3c9bc-ac4e-431e-b2d6-b884a1b24e70",
   "metadata": {},
   "source": [
    "## Array Creation"
   ]
  },
  {
   "cell_type": "code",
   "execution_count": 19,
   "id": "11e31a20-e53a-4048-bea5-d89bff8a3ba9",
   "metadata": {},
   "outputs": [
    {
     "data": {
      "text/plain": [
       "array([[0., 0., 0., 0., 0., 0., 0., 0., 0.],\n",
       "       [0., 0., 0., 0., 0., 0., 0., 0., 0.],\n",
       "       [0., 0., 0., 0., 0., 0., 0., 0., 0.],\n",
       "       [0., 0., 0., 0., 0., 0., 0., 0., 0.],\n",
       "       [0., 0., 0., 0., 0., 0., 0., 0., 0.],\n",
       "       [0., 0., 0., 0., 0., 0., 0., 0., 0.],\n",
       "       [0., 0., 0., 0., 0., 0., 0., 0., 0.],\n",
       "       [0., 0., 0., 0., 0., 0., 0., 0., 0.],\n",
       "       [0., 0., 0., 0., 0., 0., 0., 0., 0.]])"
      ]
     },
     "execution_count": 19,
     "metadata": {},
     "output_type": "execute_result"
    }
   ],
   "source": [
    "c = np.zeros((9,9))\n",
    "c"
   ]
  },
  {
   "cell_type": "code",
   "execution_count": 20,
   "id": "ef4be5ac-c175-4b42-865b-97d6988e0588",
   "metadata": {},
   "outputs": [],
   "source": [
    "d = np.ones((3, 6, 3), dtype=np.complex128)"
   ]
  },
  {
   "cell_type": "code",
   "execution_count": 21,
   "id": "990400b4-4ea0-4cd3-a80c-a76114964d51",
   "metadata": {},
   "outputs": [
    {
     "data": {
      "text/plain": [
       "array([[[1.+0.j, 1.+0.j, 1.+0.j],\n",
       "        [1.+0.j, 1.+0.j, 1.+0.j],\n",
       "        [1.+0.j, 1.+0.j, 1.+0.j],\n",
       "        [1.+0.j, 1.+0.j, 1.+0.j],\n",
       "        [1.+0.j, 1.+0.j, 1.+0.j],\n",
       "        [1.+0.j, 1.+0.j, 1.+0.j]],\n",
       "\n",
       "       [[1.+0.j, 1.+0.j, 1.+0.j],\n",
       "        [1.+0.j, 1.+0.j, 1.+0.j],\n",
       "        [1.+0.j, 1.+0.j, 1.+0.j],\n",
       "        [1.+0.j, 1.+0.j, 1.+0.j],\n",
       "        [1.+0.j, 1.+0.j, 1.+0.j],\n",
       "        [1.+0.j, 1.+0.j, 1.+0.j]],\n",
       "\n",
       "       [[1.+0.j, 1.+0.j, 1.+0.j],\n",
       "        [1.+0.j, 1.+0.j, 1.+0.j],\n",
       "        [1.+0.j, 1.+0.j, 1.+0.j],\n",
       "        [1.+0.j, 1.+0.j, 1.+0.j],\n",
       "        [1.+0.j, 1.+0.j, 1.+0.j],\n",
       "        [1.+0.j, 1.+0.j, 1.+0.j]]])"
      ]
     },
     "execution_count": 21,
     "metadata": {},
     "output_type": "execute_result"
    }
   ],
   "source": [
    "d"
   ]
  },
  {
   "cell_type": "code",
   "execution_count": 23,
   "id": "2b130da8-7a8b-43c3-9cf6-861db1354165",
   "metadata": {},
   "outputs": [],
   "source": [
    "e = np.full((3,3), np.pi)"
   ]
  },
  {
   "cell_type": "code",
   "execution_count": 24,
   "id": "eb694711-f932-45bf-b0fa-39aed0b0f61c",
   "metadata": {},
   "outputs": [
    {
     "data": {
      "text/plain": [
       "array([[3.14159265, 3.14159265, 3.14159265],\n",
       "       [3.14159265, 3.14159265, 3.14159265],\n",
       "       [3.14159265, 3.14159265, 3.14159265]])"
      ]
     },
     "execution_count": 24,
     "metadata": {},
     "output_type": "execute_result"
    }
   ],
   "source": [
    "e"
   ]
  },
  {
   "cell_type": "code",
   "execution_count": 25,
   "id": "ac900e99-e531-47be-8623-08491830438b",
   "metadata": {},
   "outputs": [
    {
     "data": {
      "text/plain": [
       "numpy.float64"
      ]
     },
     "execution_count": 25,
     "metadata": {},
     "output_type": "execute_result"
    }
   ],
   "source": [
    "type(e[0,0])"
   ]
  },
  {
   "cell_type": "code",
   "execution_count": 29,
   "id": "2f7bc5f4-91b4-4ec1-b88e-1c517dda1e65",
   "metadata": {},
   "outputs": [],
   "source": [
    "f = np.ones_like(e)"
   ]
  },
  {
   "cell_type": "code",
   "execution_count": 30,
   "id": "c82ac308-40aa-44eb-8aba-1aa71ee0c088",
   "metadata": {},
   "outputs": [
    {
     "data": {
      "text/plain": [
       "array([[1., 1., 1.],\n",
       "       [1., 1., 1.],\n",
       "       [1., 1., 1.]])"
      ]
     },
     "execution_count": 30,
     "metadata": {},
     "output_type": "execute_result"
    }
   ],
   "source": [
    "f"
   ]
  },
  {
   "cell_type": "code",
   "execution_count": 31,
   "id": "b6a4ed24-42b7-4838-9839-7c433de2aadc",
   "metadata": {},
   "outputs": [
    {
     "data": {
      "text/plain": [
       "array([0, 1, 2, 3, 4, 5, 6, 7, 8, 9])"
      ]
     },
     "execution_count": 31,
     "metadata": {},
     "output_type": "execute_result"
    }
   ],
   "source": [
    "np.arange(10)"
   ]
  },
  {
   "cell_type": "code",
   "execution_count": 32,
   "id": "955bba8e-5293-46de-9ffe-06133d3b288a",
   "metadata": {},
   "outputs": [
    {
     "data": {
      "text/plain": [
       "array([2.  , 2.25, 2.5 , 2.75, 3.  , 3.25, 3.5 , 3.75])"
      ]
     },
     "execution_count": 32,
     "metadata": {},
     "output_type": "execute_result"
    }
   ],
   "source": [
    "np.arange(2, 4, 0.25)"
   ]
  },
  {
   "cell_type": "code",
   "execution_count": 34,
   "id": "43ee5392-9b37-4d6b-a4ad-54dd7daf71c7",
   "metadata": {},
   "outputs": [],
   "source": [
    "g = np.linspace(2, 4, 20)"
   ]
  },
  {
   "cell_type": "code",
   "execution_count": 35,
   "id": "a16279ec-9bcc-4747-a286-a255d9158b8a",
   "metadata": {},
   "outputs": [
    {
     "data": {
      "text/plain": [
       "array([2.        , 2.10526316, 2.21052632, 2.31578947, 2.42105263,\n",
       "       2.52631579, 2.63157895, 2.73684211, 2.84210526, 2.94736842,\n",
       "       3.05263158, 3.15789474, 3.26315789, 3.36842105, 3.47368421,\n",
       "       3.57894737, 3.68421053, 3.78947368, 3.89473684, 4.        ])"
      ]
     },
     "execution_count": 35,
     "metadata": {},
     "output_type": "execute_result"
    }
   ],
   "source": [
    "g"
   ]
  },
  {
   "cell_type": "code",
   "execution_count": 36,
   "id": "f6b792d4-59b1-4bf3-89a4-e8a634884705",
   "metadata": {},
   "outputs": [
    {
     "data": {
      "text/plain": [
       "(20,)"
      ]
     },
     "execution_count": 36,
     "metadata": {},
     "output_type": "execute_result"
    }
   ],
   "source": [
    "g.shape"
   ]
  },
  {
   "cell_type": "code",
   "execution_count": 40,
   "id": "33864fe5-ead2-4d4d-986b-4976b407f6d1",
   "metadata": {},
   "outputs": [
    {
     "data": {
      "text/plain": [
       "array([2.71828183, 3.03773178, 3.39472319, 3.79366789, 4.23949621,\n",
       "       4.73771786, 5.29449005, 5.91669359, 6.61201791, 7.3890561 ])"
      ]
     },
     "execution_count": 40,
     "metadata": {},
     "output_type": "execute_result"
    }
   ],
   "source": [
    "np.logspace(1, 2, 10, base = np.e)"
   ]
  },
  {
   "cell_type": "code",
   "execution_count": null,
   "id": "38a2b2b8-92ab-434d-9e7d-69a3aa5b25d3",
   "metadata": {},
   "outputs": [],
   "source": [
    "np.logspace?"
   ]
  },
  {
   "cell_type": "code",
   "execution_count": 104,
   "id": "58b8b0e3-ba6e-4213-893f-a25fc1827120",
   "metadata": {},
   "outputs": [],
   "source": [
    "x = np.linspace(-2*np.pi, np.pi, 100)\n",
    "y = np.linspace(-np.pi, 2*np.pi, 50)\n",
    "xx, yy = np.meshgrid(x, y)"
   ]
  },
  {
   "cell_type": "code",
   "execution_count": 51,
   "id": "91e11558-4195-4f08-a6aa-3d5ba3dd3d00",
   "metadata": {},
   "outputs": [
    {
     "data": {
      "text/plain": [
       "(6, 5)"
      ]
     },
     "execution_count": 51,
     "metadata": {},
     "output_type": "execute_result"
    }
   ],
   "source": [
    "xx.shape"
   ]
  },
  {
   "cell_type": "code",
   "execution_count": 52,
   "id": "ec9cd1d8-5fd4-4258-8211-75dce3b53790",
   "metadata": {},
   "outputs": [
    {
     "data": {
      "text/plain": [
       "array([[-6.28318531, -3.14159265,  0.        ,  3.14159265,  6.28318531],\n",
       "       [-6.28318531, -3.14159265,  0.        ,  3.14159265,  6.28318531],\n",
       "       [-6.28318531, -3.14159265,  0.        ,  3.14159265,  6.28318531],\n",
       "       [-6.28318531, -3.14159265,  0.        ,  3.14159265,  6.28318531],\n",
       "       [-6.28318531, -3.14159265,  0.        ,  3.14159265,  6.28318531],\n",
       "       [-6.28318531, -3.14159265,  0.        ,  3.14159265,  6.28318531]])"
      ]
     },
     "execution_count": 52,
     "metadata": {},
     "output_type": "execute_result"
    }
   ],
   "source": [
    "xx"
   ]
  },
  {
   "cell_type": "code",
   "execution_count": 53,
   "id": "89ded6e1-7993-40f8-aa41-d39105ec7aee",
   "metadata": {},
   "outputs": [
    {
     "data": {
      "text/plain": [
       "array([[-3.14159265, -3.14159265, -3.14159265, -3.14159265, -3.14159265],\n",
       "       [-1.88495559, -1.88495559, -1.88495559, -1.88495559, -1.88495559],\n",
       "       [-0.62831853, -0.62831853, -0.62831853, -0.62831853, -0.62831853],\n",
       "       [ 0.62831853,  0.62831853,  0.62831853,  0.62831853,  0.62831853],\n",
       "       [ 1.88495559,  1.88495559,  1.88495559,  1.88495559,  1.88495559],\n",
       "       [ 3.14159265,  3.14159265,  3.14159265,  3.14159265,  3.14159265]])"
      ]
     },
     "execution_count": 53,
     "metadata": {},
     "output_type": "execute_result"
    }
   ],
   "source": [
    "yy"
   ]
  },
  {
   "cell_type": "markdown",
   "id": "e7b3a249-170c-4622-bcf6-cbaf4f6afc9c",
   "metadata": {},
   "source": [
    "## Indexing"
   ]
  },
  {
   "cell_type": "code",
   "execution_count": 55,
   "id": "76a66eff-c595-4236-8d11-3d70e6d159a1",
   "metadata": {},
   "outputs": [
    {
     "data": {
      "text/plain": [
       "-5.267721015110158"
      ]
     },
     "execution_count": 55,
     "metadata": {},
     "output_type": "execute_result"
    }
   ],
   "source": [
    "xx[-3, 8]"
   ]
  },
  {
   "cell_type": "code",
   "execution_count": 57,
   "id": "666c064d-55bd-47ac-a463-85c027ee60a1",
   "metadata": {},
   "outputs": [
    {
     "data": {
      "text/plain": [
       "(100,)"
      ]
     },
     "execution_count": 57,
     "metadata": {},
     "output_type": "execute_result"
    }
   ],
   "source": [
    "xx[0].shape"
   ]
  },
  {
   "cell_type": "code",
   "execution_count": 58,
   "id": "30f24cab-3f99-4a30-ba45-b99ad25d0c26",
   "metadata": {},
   "outputs": [
    {
     "data": {
      "text/plain": [
       "array([6.28318531, 6.28318531, 6.28318531, 6.28318531, 6.28318531,\n",
       "       6.28318531, 6.28318531, 6.28318531, 6.28318531, 6.28318531,\n",
       "       6.28318531, 6.28318531, 6.28318531, 6.28318531, 6.28318531,\n",
       "       6.28318531, 6.28318531, 6.28318531, 6.28318531, 6.28318531,\n",
       "       6.28318531, 6.28318531, 6.28318531, 6.28318531, 6.28318531,\n",
       "       6.28318531, 6.28318531, 6.28318531, 6.28318531, 6.28318531,\n",
       "       6.28318531, 6.28318531, 6.28318531, 6.28318531, 6.28318531,\n",
       "       6.28318531, 6.28318531, 6.28318531, 6.28318531, 6.28318531,\n",
       "       6.28318531, 6.28318531, 6.28318531, 6.28318531, 6.28318531,\n",
       "       6.28318531, 6.28318531, 6.28318531, 6.28318531, 6.28318531])"
      ]
     },
     "execution_count": 58,
     "metadata": {},
     "output_type": "execute_result"
    }
   ],
   "source": [
    "xx[:,-1]"
   ]
  },
  {
   "cell_type": "code",
   "execution_count": 60,
   "id": "344b1d07-5ddf-4e06-81d4-b38122e5a21a",
   "metadata": {},
   "outputs": [
    {
     "data": {
      "text/plain": [
       "(7, 10)"
      ]
     },
     "execution_count": 60,
     "metadata": {},
     "output_type": "execute_result"
    }
   ],
   "source": [
    "xx[3:10, 30:40].shape"
   ]
  },
  {
   "cell_type": "code",
   "execution_count": 61,
   "id": "12e127c5-9c9f-48a5-83d0-984ef91b8503",
   "metadata": {},
   "outputs": [],
   "source": [
    "idx = xx < 0"
   ]
  },
  {
   "cell_type": "code",
   "execution_count": 63,
   "id": "64f89152-63d8-4050-920b-73a10e46308e",
   "metadata": {},
   "outputs": [
    {
     "data": {
      "text/plain": [
       "array([[ True,  True,  True, ..., False, False, False],\n",
       "       [ True,  True,  True, ..., False, False, False],\n",
       "       [ True,  True,  True, ..., False, False, False],\n",
       "       ...,\n",
       "       [ True,  True,  True, ..., False, False, False],\n",
       "       [ True,  True,  True, ..., False, False, False],\n",
       "       [ True,  True,  True, ..., False, False, False]])"
      ]
     },
     "execution_count": 63,
     "metadata": {},
     "output_type": "execute_result"
    }
   ],
   "source": [
    "idx"
   ]
  },
  {
   "cell_type": "code",
   "execution_count": 70,
   "id": "ee6ef9a5-7331-46d8-a811-7ba023917d13",
   "metadata": {},
   "outputs": [
    {
     "data": {
      "text/plain": [
       "array([[-3.14159265, -3.14159265, -3.14159265, ..., -3.14159265,\n",
       "        -3.14159265, -3.14159265],\n",
       "       [-3.01336438, -3.01336438, -3.01336438, ..., -3.01336438,\n",
       "        -3.01336438, -3.01336438],\n",
       "       [-2.88513611, -2.88513611, -2.88513611, ..., -2.88513611,\n",
       "        -2.88513611, -2.88513611],\n",
       "       ...,\n",
       "       [ 2.88513611,  2.88513611,  2.88513611, ...,  2.88513611,\n",
       "         2.88513611,  2.88513611],\n",
       "       [ 3.01336438,  3.01336438,  3.01336438, ...,  3.01336438,\n",
       "         3.01336438,  3.01336438],\n",
       "       [ 3.14159265,  3.14159265,  3.14159265, ...,  3.14159265,\n",
       "         3.14159265,  3.14159265]])"
      ]
     },
     "execution_count": 70,
     "metadata": {},
     "output_type": "execute_result"
    }
   ],
   "source": [
    "yy[idx].reshape(50,50)"
   ]
  },
  {
   "cell_type": "code",
   "execution_count": 71,
   "id": "be67b239-477e-4363-9399-3265c3fb26bd",
   "metadata": {},
   "outputs": [
    {
     "data": {
      "text/plain": [
       "<function ndarray.reshape>"
      ]
     },
     "execution_count": 71,
     "metadata": {},
     "output_type": "execute_result"
    }
   ],
   "source": [
    "xx.reshape"
   ]
  },
  {
   "cell_type": "markdown",
   "id": "eb250af9-a528-4d93-84dc-3c4675b4deca",
   "metadata": {},
   "source": [
    "## Matplotlib"
   ]
  },
  {
   "cell_type": "code",
   "execution_count": 72,
   "id": "7cb52a3e-8a71-4861-ae5c-377423e12597",
   "metadata": {},
   "outputs": [],
   "source": [
    "from matplotlib import pyplot as plt"
   ]
  },
  {
   "cell_type": "code",
   "execution_count": 74,
   "id": "fa650e09-7ac5-49f8-bacd-a3ac95ded801",
   "metadata": {},
   "outputs": [
    {
     "data": {
      "text/plain": [
       "(100,)"
      ]
     },
     "execution_count": 74,
     "metadata": {},
     "output_type": "execute_result"
    }
   ],
   "source": [
    "x.shape"
   ]
  },
  {
   "cell_type": "code",
   "execution_count": 76,
   "id": "d4cb4ef7-58a6-4d67-a75d-f605fe9e559c",
   "metadata": {},
   "outputs": [
    {
     "data": {
      "image/png": "[encoded data removed]",
      "text/plain": [
       "<Figure size 432x288 with 1 Axes>"
      ]
     },
     "metadata": {
      "needs_background": "light"
     },
     "output_type": "display_data"
    }
   ],
   "source": [
    "plt.plot(x);"
   ]
  },
  {
   "cell_type": "code",
   "execution_count": 78,
   "id": "17ca408d-4a04-4012-a819-4afa0356ad91",
   "metadata": {},
   "outputs": [
    {
     "data": {
      "image/png": "[encoded data removed]",
      "text/plain": [
       "<Figure size 432x288 with 1 Axes>"
      ]
     },
     "metadata": {
      "needs_background": "light"
     },
     "output_type": "display_data"
    }
   ],
   "source": [
    "plt.pcolormesh(xx);"
   ]
  },
  {
   "cell_type": "code",
   "execution_count": 79,
   "id": "c566e0b5-885a-4ab7-b902-f17c3fe94849",
   "metadata": {},
   "outputs": [
    {
     "data": {
      "text/plain": [
       "<matplotlib.collections.QuadMesh at 0x7fa04b8355e0>"
      ]
     },
     "execution_count": 79,
     "metadata": {},
     "output_type": "execute_result"
    },
    {
     "data": {
      "image/png": "[encoded data removed]",
      "text/plain": [
       "<Figure size 432x288 with 1 Axes>"
      ]
     },
     "metadata": {
      "needs_background": "light"
     },
     "output_type": "display_data"
    }
   ],
   "source": [
    "plt.pcolormesh(yy)"
   ]
  },
  {
   "cell_type": "markdown",
   "id": "4de67dac-529b-46b6-89ab-d513cfa14e27",
   "metadata": {},
   "source": [
    "## Basic Math"
   ]
  },
  {
   "cell_type": "code",
   "execution_count": 111,
   "id": "dfc28728-4945-4c85-8875-718ce9fc91c0",
   "metadata": {},
   "outputs": [],
   "source": [
    "f = np.sin(xx) * np.cos(yy)"
   ]
  },
  {
   "cell_type": "code",
   "execution_count": 108,
   "id": "32f42120-3ef4-49dc-a970-1e36809740c1",
   "metadata": {},
   "outputs": [
    {
     "data": {
      "image/png": "[encoded data removed]",
      "text/plain": [
       "<Figure size 432x288 with 1 Axes>"
      ]
     },
     "metadata": {
      "needs_background": "light"
     },
     "output_type": "display_data"
    }
   ],
   "source": [
    "plt.pcolormesh(f);"
   ]
  },
  {
   "cell_type": "code",
   "execution_count": 82,
   "id": "6cc1c0d9-9737-45e0-b161-8ff6d182b435",
   "metadata": {},
   "outputs": [
    {
     "data": {
      "text/plain": [
       "<matplotlib.collections.QuadMesh at 0x7fa0540218e0>"
      ]
     },
     "execution_count": 82,
     "metadata": {},
     "output_type": "execute_result"
    },
    {
     "data": {
      "image/png": "[encoded data removed]",
      "text/plain": [
       "<Figure size 432x288 with 1 Axes>"
      ]
     },
     "metadata": {
      "needs_background": "light"
     },
     "output_type": "display_data"
    }
   ],
   "source": [
    "f_transposed = f.transpose()\n",
    "plt.pcolormesh(f_transposed)"
   ]
  },
  {
   "cell_type": "code",
   "execution_count": 83,
   "id": "a13272e4-b3ab-4ddc-a26b-16232d72fc07",
   "metadata": {},
   "outputs": [],
   "source": [
    "f_tiled = np.tile(f, (3,2))"
   ]
  },
  {
   "cell_type": "code",
   "execution_count": 84,
   "id": "1afdde00-fc23-403e-bf6e-222f1de09fb3",
   "metadata": {},
   "outputs": [
    {
     "data": {
      "text/plain": [
       "<matplotlib.collections.QuadMesh at 0x7fa04b6579d0>"
      ]
     },
     "execution_count": 84,
     "metadata": {},
     "output_type": "execute_result"
    },
    {
     "data": {
      "image/png": "[encoded data removed]",
      "text/plain": [
       "<Figure size 432x288 with 1 Axes>"
      ]
     },
     "metadata": {
      "needs_background": "light"
     },
     "output_type": "display_data"
    }
   ],
   "source": [
    "plt.pcolormesh(f_tiled)"
   ]
  },
  {
   "cell_type": "code",
   "execution_count": 85,
   "id": "15b90cc4-ea5f-4fb1-90c0-5a67ac61eb07",
   "metadata": {},
   "outputs": [
    {
     "data": {
      "text/plain": [
       "(100,)"
      ]
     },
     "execution_count": 85,
     "metadata": {},
     "output_type": "execute_result"
    }
   ],
   "source": [
    "x.shape"
   ]
  },
  {
   "cell_type": "code",
   "execution_count": 86,
   "id": "02895d06-9d1b-4a6e-a87c-b4909f959e1f",
   "metadata": {},
   "outputs": [],
   "source": [
    "newx = x[None, :]"
   ]
  },
  {
   "cell_type": "code",
   "execution_count": 87,
   "id": "f32b4e57-c913-4dbe-aa51-94e55fd1358e",
   "metadata": {},
   "outputs": [
    {
     "data": {
      "text/plain": [
       "(1, 100)"
      ]
     },
     "execution_count": 87,
     "metadata": {},
     "output_type": "execute_result"
    }
   ],
   "source": [
    "newx.shape"
   ]
  },
  {
   "cell_type": "markdown",
   "id": "6fdce8a4-2a12-4199-b234-9bfdd36e99e5",
   "metadata": {},
   "source": [
    "## Reduction Operations"
   ]
  },
  {
   "cell_type": "code",
   "execution_count": 90,
   "id": "5e7c9d09-7719-4e56-a2d5-c4496919f59b",
   "metadata": {},
   "outputs": [
    {
     "data": {
      "text/plain": [
       "array([2.        , 2.10526316, 2.21052632, 2.31578947, 2.42105263,\n",
       "       2.52631579, 2.63157895, 2.73684211, 2.84210526, 2.94736842,\n",
       "       3.05263158, 3.15789474, 3.26315789, 3.36842105, 3.47368421,\n",
       "       3.57894737, 3.68421053, 3.78947368, 3.89473684, 4.        ])"
      ]
     },
     "execution_count": 90,
     "metadata": {},
     "output_type": "execute_result"
    }
   ],
   "source": [
    "g"
   ]
  },
  {
   "cell_type": "code",
   "execution_count": 91,
   "id": "2cc2b061-6ee5-43e2-ae6a-ebafb2ce1620",
   "metadata": {},
   "outputs": [
    {
     "data": {
      "text/plain": [
       "(20,)"
      ]
     },
     "execution_count": 91,
     "metadata": {},
     "output_type": "execute_result"
    }
   ],
   "source": [
    "g.shape"
   ]
  },
  {
   "cell_type": "code",
   "execution_count": 92,
   "id": "df86fc35-bdae-4472-ab19-dd1d6ee34211",
   "metadata": {},
   "outputs": [
    {
     "data": {
      "text/plain": [
       "60.0"
      ]
     },
     "execution_count": 92,
     "metadata": {},
     "output_type": "execute_result"
    }
   ],
   "source": [
    "g.sum()"
   ]
  },
  {
   "cell_type": "code",
   "execution_count": 93,
   "id": "12f7dc4e-8ee3-4983-9d92-e5dbffda2297",
   "metadata": {},
   "outputs": [
    {
     "data": {
      "text/plain": [
       "3.0"
      ]
     },
     "execution_count": 93,
     "metadata": {},
     "output_type": "execute_result"
    }
   ],
   "source": [
    "g.mean()"
   ]
  },
  {
   "cell_type": "code",
   "execution_count": 94,
   "id": "daa075a5-57cf-4f71-ba64-04803038c320",
   "metadata": {},
   "outputs": [
    {
     "data": {
      "text/plain": [
       "0.6069769786668839"
      ]
     },
     "execution_count": 94,
     "metadata": {},
     "output_type": "execute_result"
    }
   ],
   "source": [
    "g.std()"
   ]
  },
  {
   "cell_type": "code",
   "execution_count": 101,
   "id": "11b6ca36-5e9c-4f58-a7bf-387527293464",
   "metadata": {},
   "outputs": [
    {
     "data": {
      "text/plain": [
       "(50, 100)"
      ]
     },
     "execution_count": 101,
     "metadata": {},
     "output_type": "execute_result"
    }
   ],
   "source": [
    "f.shape"
   ]
  },
  {
   "cell_type": "code",
   "execution_count": 97,
   "id": "cc33117c-4a83-4a81-829c-39c5c044d09e",
   "metadata": {},
   "outputs": [],
   "source": [
    "f_ymean = f.mean(axis=0)"
   ]
  },
  {
   "cell_type": "code",
   "execution_count": 100,
   "id": "60ff111e-4b10-4f32-a11d-fa944e87ead7",
   "metadata": {},
   "outputs": [
    {
     "data": {
      "text/plain": [
       "(100,)"
      ]
     },
     "execution_count": 100,
     "metadata": {},
     "output_type": "execute_result"
    }
   ],
   "source": [
    "f_ymean.shape"
   ]
  },
  {
   "cell_type": "code",
   "execution_count": 99,
   "id": "ea6a4cfa-13be-4741-97b0-2da39e72b8c7",
   "metadata": {},
   "outputs": [
    {
     "data": {
      "text/plain": [
       "[<matplotlib.lines.Line2D at 0x7fa04b7a7cd0>]"
      ]
     },
     "execution_count": 99,
     "metadata": {},
     "output_type": "execute_result"
    },
    {
     "data": {
      "image/png": "[encoded data removed]",
      "text/plain": [
       "<Figure size 432x288 with 1 Axes>"
      ]
     },
     "metadata": {
      "needs_background": "light"
     },
     "output_type": "display_data"
    }
   ],
   "source": [
    "plt.plot(x, f_ymean)"
   ]
  },
  {
   "cell_type": "code",
   "execution_count": 109,
   "id": "3197ccab-e6c4-4227-b571-52e9d88958b0",
   "metadata": {},
   "outputs": [],
   "source": [
    "f_xmean = f.mean(axis=1)"
   ]
  },
  {
   "cell_type": "code",
   "execution_count": 110,
   "id": "0378eb1d-0dac-44fd-8305-3b86cf98d6d3",
   "metadata": {},
   "outputs": [
    {
     "data": {
      "text/plain": [
       "[<matplotlib.lines.Line2D at 0x7fa049c5d280>]"
      ]
     },
     "execution_count": 110,
     "metadata": {},
     "output_type": "execute_result"
    },
    {
     "data": {
      "image/png": "[encoded data removed]",
      "text/plain": [
       "<Figure size 432x288 with 1 Axes>"
      ]
     },
     "metadata": {
      "needs_background": "light"
     },
     "output_type": "display_data"
    }
   ],
   "source": [
    "plt.plot(f_xmean,y)"
   ]
  },
  {
   "cell_type": "markdown",
   "id": "c066ca14-bbcc-4974-acff-adb88b01bf10",
   "metadata": {},
   "source": [
    "## More on NDArray Shapes"
   ]
  },
  {
   "cell_type": "code",
   "execution_count": 5,
   "id": "42af07fe-f110-4e8e-bd5e-07c4a9e075df",
   "metadata": {},
   "outputs": [
    {
     "data": {
      "text/plain": [
       "[3]"
      ]
     },
     "execution_count": 5,
     "metadata": {},
     "output_type": "execute_result"
    }
   ],
   "source": [
    "a = [3]\n",
    "a"
   ]
  },
  {
   "cell_type": "code",
   "execution_count": 9,
   "id": "d3a83d89-b86a-4f76-89ce-d090eb2336c6",
   "metadata": {},
   "outputs": [
    {
     "data": {
      "text/plain": [
       "list"
      ]
     },
     "execution_count": 9,
     "metadata": {},
     "output_type": "execute_result"
    }
   ],
   "source": [
    "type(a)"
   ]
  },
  {
   "cell_type": "code",
   "execution_count": 7,
   "id": "4b46be31-a15e-49c2-8e58-56e34b7c4edf",
   "metadata": {},
   "outputs": [
    {
     "data": {
      "text/plain": [
       "4"
      ]
     },
     "execution_count": 7,
     "metadata": {},
     "output_type": "execute_result"
    }
   ],
   "source": [
    "b = (4)\n",
    "b"
   ]
  },
  {
   "cell_type": "code",
   "execution_count": 10,
   "id": "c2e20da6-13b5-402d-b3e5-fd5d767b987d",
   "metadata": {},
   "outputs": [
    {
     "data": {
      "text/plain": [
       "int"
      ]
     },
     "execution_count": 10,
     "metadata": {},
     "output_type": "execute_result"
    }
   ],
   "source": [
    "type(b)"
   ]
  },
  {
   "cell_type": "code",
   "execution_count": 13,
   "id": "e8956a7c-a461-4129-a554-9d8ae358858f",
   "metadata": {},
   "outputs": [
    {
     "data": {
      "text/plain": [
       "(4,)"
      ]
     },
     "execution_count": 13,
     "metadata": {},
     "output_type": "execute_result"
    }
   ],
   "source": [
    "c = (4,)\n",
    "c"
   ]
  },
  {
   "cell_type": "code",
   "execution_count": 12,
   "id": "ef2a1534-402a-4831-a9b8-0f2c2afbb48d",
   "metadata": {},
   "outputs": [
    {
     "data": {
      "text/plain": [
       "tuple"
      ]
     },
     "execution_count": 12,
     "metadata": {},
     "output_type": "execute_result"
    }
   ],
   "source": [
    "type(c)"
   ]
  },
  {
   "cell_type": "code",
   "execution_count": 17,
   "id": "dc422962-a0c9-4b9b-9445-cd8971fa85cc",
   "metadata": {},
   "outputs": [
    {
     "data": {
      "text/plain": [
       "1"
      ]
     },
     "execution_count": 17,
     "metadata": {},
     "output_type": "execute_result"
    }
   ],
   "source": [
    "len(c)"
   ]
  },
  {
   "cell_type": "code",
   "execution_count": 14,
   "id": "fd556d3d-8b5f-4310-bca1-9baf80abb747",
   "metadata": {},
   "outputs": [
    {
     "data": {
      "text/plain": [
       "(5, 1)"
      ]
     },
     "execution_count": 14,
     "metadata": {},
     "output_type": "execute_result"
    }
   ],
   "source": [
    "d = (5,1)\n",
    "d"
   ]
  },
  {
   "cell_type": "code",
   "execution_count": 18,
   "id": "3b77bd18-eb85-4c24-bab9-330b4540884f",
   "metadata": {},
   "outputs": [
    {
     "data": {
      "text/plain": [
       "tuple"
      ]
     },
     "execution_count": 18,
     "metadata": {},
     "output_type": "execute_result"
    }
   ],
   "source": [
    "type(d)"
   ]
  },
  {
   "cell_type": "code",
   "execution_count": 19,
   "id": "4a706780-1d95-406d-8c64-9d278e563749",
   "metadata": {},
   "outputs": [
    {
     "data": {
      "text/plain": [
       "2"
      ]
     },
     "execution_count": 19,
     "metadata": {},
     "output_type": "execute_result"
    }
   ],
   "source": [
    "len(d)"
   ]
  },
  {
   "cell_type": "markdown",
   "id": "028320d3-f1a9-4453-a78c-fb1927854c48",
   "metadata": {},
   "source": [
    "## NDArrays are not entirely equivalent to math vectors and matrices "
   ]
  },
  {
   "cell_type": "markdown",
   "id": "fab34cc3-59d8-4a96-a25b-199a254080a2",
   "metadata": {},
   "source": [
    "From: [https://stats.stackexchange.com/questions/284995/are-1-dimensional-numpy-arrays-equivalent-to-vectors](https://stats.stackexchange.com/questions/284995/are-1-dimensional-numpy-arrays-equivalent-to-vectors): Linear algebra makes a distinction between \"row vectors\" and \"column vectors\". There is no such distinction in NumPy. There are only n-dimensional arrays."
   ]
  },
  {
   "cell_type": "code",
   "execution_count": 64,
   "id": "88e7e6d3-f263-4208-acb5-fb8c90594c9e",
   "metadata": {
    "tags": []
   },
   "outputs": [
    {
     "data": {
      "text/plain": [
       "array([7, 8])"
      ]
     },
     "execution_count": 64,
     "metadata": {},
     "output_type": "execute_result"
    }
   ],
   "source": [
    "e = np.array([7, 8])\n",
    "e"
   ]
  },
  {
   "cell_type": "code",
   "execution_count": 65,
   "id": "f7642fa8-5a54-45b9-99f5-b55912b8d19f",
   "metadata": {
    "tags": []
   },
   "outputs": [
    {
     "data": {
      "text/plain": [
       "(2,)"
      ]
     },
     "execution_count": 65,
     "metadata": {},
     "output_type": "execute_result"
    }
   ],
   "source": [
    "e.shape"
   ]
  },
  {
   "cell_type": "code",
   "execution_count": 66,
   "id": "7613980e-2ad7-41e7-a441-fae302bc7738",
   "metadata": {},
   "outputs": [
    {
     "data": {
      "text/plain": [
       "array([7, 8])"
      ]
     },
     "execution_count": 66,
     "metadata": {},
     "output_type": "execute_result"
    }
   ],
   "source": [
    "e.T"
   ]
  },
  {
   "cell_type": "code",
   "execution_count": 67,
   "id": "07d1d946-e16e-49de-b990-71a1699fec29",
   "metadata": {},
   "outputs": [
    {
     "data": {
      "text/plain": [
       "(2,)"
      ]
     },
     "execution_count": 67,
     "metadata": {},
     "output_type": "execute_result"
    }
   ],
   "source": [
    "e.shape"
   ]
  },
  {
   "cell_type": "code",
   "execution_count": 68,
   "id": "4e57eee4-787b-42d3-8ebd-c0358473a790",
   "metadata": {},
   "outputs": [
    {
     "data": {
      "text/plain": [
       "array([[7],\n",
       "       [8]])"
      ]
     },
     "execution_count": 68,
     "metadata": {},
     "output_type": "execute_result"
    }
   ],
   "source": [
    "e = e[:, np.newaxis]\n",
    "e"
   ]
  },
  {
   "cell_type": "code",
   "execution_count": 69,
   "id": "25cb7a75-bd16-458d-9309-b50f33949e3a",
   "metadata": {},
   "outputs": [
    {
     "data": {
      "text/plain": [
       "(2, 1)"
      ]
     },
     "execution_count": 69,
     "metadata": {},
     "output_type": "execute_result"
    }
   ],
   "source": [
    "e.shape"
   ]
  },
  {
   "cell_type": "code",
   "execution_count": 70,
   "id": "353374d3-9f85-4bf8-9c4b-351989d863a5",
   "metadata": {},
   "outputs": [
    {
     "data": {
      "text/plain": [
       "array([[7, 8]])"
      ]
     },
     "execution_count": 70,
     "metadata": {},
     "output_type": "execute_result"
    }
   ],
   "source": [
    "e.T"
   ]
  },
  {
   "cell_type": "code",
   "execution_count": 71,
   "id": "090ace6e-094c-4ae7-92e1-89e923a7ac2c",
   "metadata": {},
   "outputs": [
    {
     "data": {
      "text/plain": [
       "(1, 2)"
      ]
     },
     "execution_count": 71,
     "metadata": {},
     "output_type": "execute_result"
    }
   ],
   "source": [
    "e.T.shape"
   ]
  },
  {
   "cell_type": "markdown",
   "id": "2c7354f8-32f0-4316-b702-9d7b3921b5b2",
   "metadata": {},
   "source": [
    "## Automatic Broadcasting"
   ]
  },
  {
   "cell_type": "code",
   "execution_count": 45,
   "id": "53baea18-7f08-4614-b169-b849c60d682b",
   "metadata": {},
   "outputs": [
    {
     "data": {
      "text/plain": [
       "array([[1, 2],\n",
       "       [3, 4],\n",
       "       [5, 6]])"
      ]
     },
     "execution_count": 45,
     "metadata": {},
     "output_type": "execute_result"
    }
   ],
   "source": [
    "f = np.array([[1, 2], [3, 4], [5, 6]])\n",
    "f"
   ]
  },
  {
   "cell_type": "code",
   "execution_count": 46,
   "id": "ffdea239-0e36-4826-9d2e-8c54f6ab7fe8",
   "metadata": {},
   "outputs": [
    {
     "data": {
      "text/plain": [
       "(3, 2)"
      ]
     },
     "execution_count": 46,
     "metadata": {},
     "output_type": "execute_result"
    }
   ],
   "source": [
    "f.shape"
   ]
  },
  {
   "cell_type": "code",
   "execution_count": 47,
   "id": "be7f4617-9be1-472f-8edf-427aafa17d8e",
   "metadata": {
    "tags": []
   },
   "outputs": [
    {
     "data": {
      "text/plain": [
       "(2,)"
      ]
     },
     "execution_count": 47,
     "metadata": {},
     "output_type": "execute_result"
    }
   ],
   "source": [
    "e = np.array([7, 8])\n",
    "e.shape"
   ]
  },
  {
   "cell_type": "code",
   "execution_count": 48,
   "id": "b7b04b31-c07f-44df-952b-8c95b7c87967",
   "metadata": {},
   "outputs": [
    {
     "data": {
      "text/plain": [
       "array([[ 7, 16],\n",
       "       [21, 32],\n",
       "       [35, 48]])"
      ]
     },
     "execution_count": 48,
     "metadata": {},
     "output_type": "execute_result"
    }
   ],
   "source": [
    "f*e"
   ]
  },
  {
   "cell_type": "code",
   "execution_count": 49,
   "id": "814a6d6a-76ae-420a-9113-f5217b47de4e",
   "metadata": {},
   "outputs": [
    {
     "data": {
      "text/plain": [
       "(2,)"
      ]
     },
     "execution_count": 49,
     "metadata": {},
     "output_type": "execute_result"
    }
   ],
   "source": [
    "e.shape"
   ]
  },
  {
   "cell_type": "code",
   "execution_count": 50,
   "id": "509c743b-3240-4b24-bb98-cdfe1588f026",
   "metadata": {},
   "outputs": [
    {
     "data": {
      "text/plain": [
       "array([[7],\n",
       "       [8]])"
      ]
     },
     "execution_count": 50,
     "metadata": {},
     "output_type": "execute_result"
    }
   ],
   "source": [
    "e = np.array([7, 8])\n",
    "e = e[:, np.newaxis]\n",
    "e"
   ]
  },
  {
   "cell_type": "code",
   "execution_count": 52,
   "id": "1db4b505-4dd5-4856-900a-0cffd8bea54e",
   "metadata": {},
   "outputs": [
    {
     "ename": "ValueError",
     "evalue": "operands could not be broadcast together with shapes (3,2) (2,1) ",
     "output_type": "error",
     "traceback": [
      "\u001b[0;31m---------------------------------------------------------------------------\u001b[0m",
      "\u001b[0;31mValueError\u001b[0m                                Traceback (most recent call last)",
      "Input \u001b[0;32mIn [52]\u001b[0m, in \u001b[0;36m<cell line: 1>\u001b[0;34m()\u001b[0m\n\u001b[0;32m----> 1\u001b[0m \u001b[43mf\u001b[49m\u001b[38;5;241;43m*\u001b[39;49m\u001b[43me\u001b[49m\n",
      "\u001b[0;31mValueError\u001b[0m: operands could not be broadcast together with shapes (3,2) (2,1) "
     ]
    }
   ],
   "source": [
    "f*e"
   ]
  },
  {
   "cell_type": "code",
   "execution_count": 53,
   "id": "fbb979f2-538d-49dd-b24e-cb6795700e4b",
   "metadata": {},
   "outputs": [
    {
     "data": {
      "text/plain": [
       "array([[7, 8]])"
      ]
     },
     "execution_count": 53,
     "metadata": {},
     "output_type": "execute_result"
    }
   ],
   "source": [
    "e = np.array([7, 8])\n",
    "e = e[np.newaxis, :]\n",
    "e"
   ]
  },
  {
   "cell_type": "code",
   "execution_count": 54,
   "id": "fd97b42e-43ac-4ff6-99ef-6526281ed949",
   "metadata": {},
   "outputs": [
    {
     "data": {
      "text/plain": [
       "array([[ 7, 16],\n",
       "       [21, 32],\n",
       "       [35, 48]])"
      ]
     },
     "execution_count": 54,
     "metadata": {},
     "output_type": "execute_result"
    }
   ],
   "source": [
    "f*e"
   ]
  }
 ],
 "metadata": {
  "kernelspec": {
   "display_name": "Python 3 (ipykernel)",
   "language": "python",
   "name": "python3"
  },
  "language_info": {
   "codemirror_mode": {
    "name": "ipython",
    "version": 3
   },
   "file_extension": ".py",
   "mimetype": "text/x-python",
   "name": "python",
   "nbconvert_exporter": "python",
   "pygments_lexer": "ipython3",
   "version": "3.9.13"
  }
 },
 "nbformat": 4,
 "nbformat_minor": 5
}
