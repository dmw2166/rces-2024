{
 "cells": [
  {
   "cell_type": "markdown",
   "id": "d90eff77-4b6a-42a4-a90f-85b85b98b33d",
   "metadata": {},
   "source": [
    "# Numpy and Matplotlib"
   ]
  },
  {
   "cell_type": "code",
   "execution_count": 1,
   "id": "eaf2ef3d-18ef-454b-9838-8161f3611ae6",
   "metadata": {},
   "outputs": [],
   "source": [
    "import numpy as np"
   ]
  },
  {
   "cell_type": "code",
   "execution_count": null,
   "id": "c1098060-a86d-44df-8aef-6745868a418c",
   "metadata": {},
   "outputs": [],
   "source": [
    "dir(np)"
   ]
  },
  {
   "cell_type": "markdown",
   "id": "e366d0c8-077a-46a8-87e0-2aa648e241dc",
   "metadata": {},
   "source": [
    "### NDArrays"
   ]
  },
  {
   "cell_type": "code",
   "execution_count": 3,
   "id": "5e0f5607-1264-4048-91d9-23af20bb1930",
   "metadata": {},
   "outputs": [],
   "source": [
    "a = np.array([9,0,2,1,0])"
   ]
  },
  {
   "cell_type": "code",
   "execution_count": 4,
   "id": "235522e4-78d7-484c-b8cf-67c2c37aefc2",
   "metadata": {},
   "outputs": [
    {
     "data": {
      "text/plain": [
       "array([9, 0, 2, 1, 0])"
      ]
     },
     "execution_count": 4,
     "metadata": {},
     "output_type": "execute_result"
    }
   ],
   "source": [
    "a"
   ]
  },
  {
   "cell_type": "code",
   "execution_count": 5,
   "id": "13c23e05-b877-47c5-a04a-ea0dab3ab203",
   "metadata": {},
   "outputs": [
    {
     "data": {
      "text/plain": [
       "(5,)"
      ]
     },
     "execution_count": 5,
     "metadata": {},
     "output_type": "execute_result"
    }
   ],
   "source": [
    "a.shape"
   ]
  },
  {
   "cell_type": "code",
   "execution_count": 6,
   "id": "2505711c-da77-4239-a5fe-7f8e7176e6c8",
   "metadata": {},
   "outputs": [
    {
     "data": {
      "text/plain": [
       "numpy.ndarray"
      ]
     },
     "execution_count": 6,
     "metadata": {},
     "output_type": "execute_result"
    }
   ],
   "source": [
    "type(a)"
   ]
  },
  {
   "cell_type": "code",
   "execution_count": 9,
   "id": "53a9fbb7-baeb-46a3-8327-9da96a6e5cc0",
   "metadata": {},
   "outputs": [
    {
     "data": {
      "text/plain": [
       "9"
      ]
     },
     "execution_count": 9,
     "metadata": {},
     "output_type": "execute_result"
    }
   ],
   "source": [
    "a[0]"
   ]
  },
  {
   "cell_type": "code",
   "execution_count": 8,
   "id": "e9673347-523a-40c6-8fd1-c5cd0f79c41a",
   "metadata": {},
   "outputs": [
    {
     "data": {
      "text/plain": [
       "numpy.int64"
      ]
     },
     "execution_count": 8,
     "metadata": {},
     "output_type": "execute_result"
    }
   ],
   "source": [
    "type(a[2])"
   ]
  },
  {
   "cell_type": "code",
   "execution_count": 13,
   "id": "d34a3db6-f6b3-4075-961d-06c6c3411f0f",
   "metadata": {},
   "outputs": [],
   "source": [
    "b = np.array([[5,3,1,9],[9,2,3,0]],dtype=np.float64)"
   ]
  },
  {
   "cell_type": "code",
   "execution_count": 14,
   "id": "c7952d2a-b833-42a1-ba02-366cfdd7facb",
   "metadata": {},
   "outputs": [
    {
     "data": {
      "text/plain": [
       "(2, 4)"
      ]
     },
     "execution_count": 14,
     "metadata": {},
     "output_type": "execute_result"
    }
   ],
   "source": [
    "b.shape"
   ]
  },
  {
   "cell_type": "code",
   "execution_count": 15,
   "id": "b7569d14-b16a-4791-a9ce-2d94a5e2b488",
   "metadata": {},
   "outputs": [
    {
     "data": {
      "text/plain": [
       "array([[5., 3., 1., 9.],\n",
       "       [9., 2., 3., 0.]])"
      ]
     },
     "execution_count": 15,
     "metadata": {},
     "output_type": "execute_result"
    }
   ],
   "source": [
    "b"
   ]
  },
  {
   "cell_type": "code",
   "execution_count": 16,
   "id": "a0614636-5d1f-4626-9858-c1424d10bb24",
   "metadata": {},
   "outputs": [
    {
     "data": {
      "text/plain": [
       "numpy.float64"
      ]
     },
     "execution_count": 16,
     "metadata": {},
     "output_type": "execute_result"
    }
   ],
   "source": [
    "type(b[1,2])"
   ]
  },
  {
   "cell_type": "code",
   "execution_count": 17,
   "id": "fc7d94b8-0fbe-4a37-8422-728c9a074588",
   "metadata": {},
   "outputs": [
    {
     "data": {
      "text/plain": [
       "3.0"
      ]
     },
     "execution_count": 17,
     "metadata": {},
     "output_type": "execute_result"
    }
   ],
   "source": [
    "b[1,2]"
   ]
  },
  {
   "cell_type": "code",
   "execution_count": 19,
   "id": "880fdd7d-b3bf-465f-85e2-e7c9b0fcdf84",
   "metadata": {},
   "outputs": [
    {
     "data": {
      "text/plain": [
       "array([[5., 3.]])"
      ]
     },
     "execution_count": 19,
     "metadata": {},
     "output_type": "execute_result"
    }
   ],
   "source": [
    "b[0:1,0:2]"
   ]
  },
  {
   "cell_type": "code",
   "execution_count": 20,
   "id": "cca6d680-e30b-4550-aef4-90ab7dd75d8d",
   "metadata": {},
   "outputs": [],
   "source": [
    "bb = np.array([[5],[3],[1],[9]])"
   ]
  },
  {
   "cell_type": "code",
   "execution_count": 21,
   "id": "52d85bc2-cafe-4ef4-a2f7-f469f9f60124",
   "metadata": {},
   "outputs": [
    {
     "data": {
      "text/plain": [
       "array([[5],\n",
       "       [3],\n",
       "       [1],\n",
       "       [9]])"
      ]
     },
     "execution_count": 21,
     "metadata": {},
     "output_type": "execute_result"
    }
   ],
   "source": [
    "bb"
   ]
  },
  {
   "cell_type": "code",
   "execution_count": 22,
   "id": "03042587-d5ef-464d-8929-d1812c360178",
   "metadata": {},
   "outputs": [
    {
     "data": {
      "text/plain": [
       "(4, 1)"
      ]
     },
     "execution_count": 22,
     "metadata": {},
     "output_type": "execute_result"
    }
   ],
   "source": [
    "bb.shape"
   ]
  },
  {
   "cell_type": "code",
   "execution_count": 23,
   "id": "c7422e62-59a1-4304-9a76-61d0287b7186",
   "metadata": {},
   "outputs": [],
   "source": [
    "np.save('myfile.npy',bb)"
   ]
  },
  {
   "cell_type": "code",
   "execution_count": 24,
   "id": "f924655a-6eb9-4184-91e6-159da9154e7e",
   "metadata": {},
   "outputs": [
    {
     "data": {
      "text/plain": [
       "array([[5],\n",
       "       [3],\n",
       "       [1],\n",
       "       [9]])"
      ]
     },
     "execution_count": 24,
     "metadata": {},
     "output_type": "execute_result"
    }
   ],
   "source": [
    "bb1 = np.load('myfile.npy')\n",
    "bb1"
   ]
  },
  {
   "cell_type": "code",
   "execution_count": 25,
   "id": "d63fa8fe-48ea-4a92-bb57-bf81c8fb2e7d",
   "metadata": {},
   "outputs": [
    {
     "data": {
      "text/plain": [
       "array([[0., 0., 0., 0., 0., 0., 0., 0., 0.],\n",
       "       [0., 0., 0., 0., 0., 0., 0., 0., 0.],\n",
       "       [0., 0., 0., 0., 0., 0., 0., 0., 0.],\n",
       "       [0., 0., 0., 0., 0., 0., 0., 0., 0.],\n",
       "       [0., 0., 0., 0., 0., 0., 0., 0., 0.],\n",
       "       [0., 0., 0., 0., 0., 0., 0., 0., 0.],\n",
       "       [0., 0., 0., 0., 0., 0., 0., 0., 0.],\n",
       "       [0., 0., 0., 0., 0., 0., 0., 0., 0.],\n",
       "       [0., 0., 0., 0., 0., 0., 0., 0., 0.]])"
      ]
     },
     "execution_count": 25,
     "metadata": {},
     "output_type": "execute_result"
    }
   ],
   "source": [
    "c = np.zeros((9,9))\n",
    "c"
   ]
  },
  {
   "cell_type": "code",
   "execution_count": 26,
   "id": "8fddd413-6607-4fee-bfdf-2b938d3f042d",
   "metadata": {},
   "outputs": [
    {
     "data": {
      "text/plain": [
       "array([[[1., 1., 1.],\n",
       "        [1., 1., 1.],\n",
       "        [1., 1., 1.],\n",
       "        [1., 1., 1.],\n",
       "        [1., 1., 1.],\n",
       "        [1., 1., 1.]],\n",
       "\n",
       "       [[1., 1., 1.],\n",
       "        [1., 1., 1.],\n",
       "        [1., 1., 1.],\n",
       "        [1., 1., 1.],\n",
       "        [1., 1., 1.],\n",
       "        [1., 1., 1.]],\n",
       "\n",
       "       [[1., 1., 1.],\n",
       "        [1., 1., 1.],\n",
       "        [1., 1., 1.],\n",
       "        [1., 1., 1.],\n",
       "        [1., 1., 1.],\n",
       "        [1., 1., 1.]]])"
      ]
     },
     "execution_count": 26,
     "metadata": {},
     "output_type": "execute_result"
    }
   ],
   "source": [
    "d = np.ones((3,6,3))\n",
    "d"
   ]
  },
  {
   "cell_type": "code",
   "execution_count": 27,
   "id": "14f2d9a5-a7cc-4d12-9ed9-00bf3e375889",
   "metadata": {},
   "outputs": [
    {
     "data": {
      "text/plain": [
       "array([[3.14159265, 3.14159265, 3.14159265],\n",
       "       [3.14159265, 3.14159265, 3.14159265],\n",
       "       [3.14159265, 3.14159265, 3.14159265]])"
      ]
     },
     "execution_count": 27,
     "metadata": {},
     "output_type": "execute_result"
    }
   ],
   "source": [
    "e = np.full((3,3), np.pi)\n",
    "e"
   ]
  },
  {
   "cell_type": "code",
   "execution_count": 28,
   "id": "b0b923cc-ed68-4b4b-afe2-0b94ab8b58f9",
   "metadata": {},
   "outputs": [
    {
     "data": {
      "text/plain": [
       "array([0, 1, 2, 3, 4, 5, 6, 7, 8, 9])"
      ]
     },
     "execution_count": 28,
     "metadata": {},
     "output_type": "execute_result"
    }
   ],
   "source": [
    "np.arange(10)"
   ]
  },
  {
   "cell_type": "code",
   "execution_count": 30,
   "id": "d166a07b-2805-432c-b693-eee79bed072f",
   "metadata": {},
   "outputs": [
    {
     "data": {
      "text/plain": [
       "array([2.  , 2.25, 2.5 , 2.75, 3.  , 3.25, 3.5 , 3.75, 4.  ])"
      ]
     },
     "execution_count": 30,
     "metadata": {},
     "output_type": "execute_result"
    }
   ],
   "source": [
    "np.arange(2,4.01,0.25)"
   ]
  },
  {
   "cell_type": "code",
   "execution_count": 33,
   "id": "2d792deb-f87c-4447-9b17-15f85e264731",
   "metadata": {},
   "outputs": [
    {
     "data": {
      "text/plain": [
       "(20,)"
      ]
     },
     "execution_count": 33,
     "metadata": {},
     "output_type": "execute_result"
    }
   ],
   "source": [
    "g = np.linspace(2,4,20)\n",
    "g"
   ]
  },
  {
   "cell_type": "code",
   "execution_count": 36,
   "id": "31eae469-059b-4840-860e-ffc5f22c1871",
   "metadata": {},
   "outputs": [
    {
     "data": {
      "text/plain": [
       "array([   1.,   10.,  100., 1000.])"
      ]
     },
     "execution_count": 36,
     "metadata": {},
     "output_type": "execute_result"
    }
   ],
   "source": [
    "np.logspace(0,3,4)"
   ]
  },
  {
   "cell_type": "code",
   "execution_count": 37,
   "id": "0f92d704-9c1d-42de-8837-8737841c6d37",
   "metadata": {},
   "outputs": [
    {
     "data": {
      "text/plain": [
       "array([2.71828183, 3.03773178, 3.39472319, 3.79366789, 4.23949621,\n",
       "       4.73771786, 5.29449005, 5.91669359, 6.61201791, 7.3890561 ])"
      ]
     },
     "execution_count": 37,
     "metadata": {},
     "output_type": "execute_result"
    }
   ],
   "source": [
    "np.logspace(1,2,10,base = np.e)"
   ]
  },
  {
   "cell_type": "code",
   "execution_count": null,
   "id": "2c4562c8-161f-475c-9d32-03cf16aeb358",
   "metadata": {},
   "outputs": [],
   "source": [
    "np.logspace?"
   ]
  },
  {
   "cell_type": "code",
   "execution_count": 40,
   "id": "2c542622-de20-4371-bfb5-1c0595fed135",
   "metadata": {},
   "outputs": [],
   "source": [
    "x = np.linspace(-2*np.pi,np.pi,100)\n",
    "y = np.linspace(-np.pi, 2*np.pi, 50)\n",
    "xx,yy = np.meshgrid(x,y)"
   ]
  },
  {
   "cell_type": "code",
   "execution_count": 41,
   "id": "da63f59f-3d73-4556-8883-a638e101a7a6",
   "metadata": {},
   "outputs": [
    {
     "data": {
      "text/plain": [
       "array([[-6.28318531, -6.18798553, -6.09278575, ...,  2.9511931 ,\n",
       "         3.04639288,  3.14159265],\n",
       "       [-6.28318531, -6.18798553, -6.09278575, ...,  2.9511931 ,\n",
       "         3.04639288,  3.14159265],\n",
       "       [-6.28318531, -6.18798553, -6.09278575, ...,  2.9511931 ,\n",
       "         3.04639288,  3.14159265],\n",
       "       ...,\n",
       "       [-6.28318531, -6.18798553, -6.09278575, ...,  2.9511931 ,\n",
       "         3.04639288,  3.14159265],\n",
       "       [-6.28318531, -6.18798553, -6.09278575, ...,  2.9511931 ,\n",
       "         3.04639288,  3.14159265],\n",
       "       [-6.28318531, -6.18798553, -6.09278575, ...,  2.9511931 ,\n",
       "         3.04639288,  3.14159265]])"
      ]
     },
     "execution_count": 41,
     "metadata": {},
     "output_type": "execute_result"
    }
   ],
   "source": [
    "xx"
   ]
  },
  {
   "cell_type": "code",
   "execution_count": 42,
   "id": "171c3f05-364a-43a4-8556-4437f1fe0dd6",
   "metadata": {},
   "outputs": [
    {
     "data": {
      "text/plain": [
       "array([[-3.14159265, -3.14159265, -3.14159265, ..., -3.14159265,\n",
       "        -3.14159265, -3.14159265],\n",
       "       [-2.94925025, -2.94925025, -2.94925025, ..., -2.94925025,\n",
       "        -2.94925025, -2.94925025],\n",
       "       [-2.75690784, -2.75690784, -2.75690784, ..., -2.75690784,\n",
       "        -2.75690784, -2.75690784],\n",
       "       ...,\n",
       "       [ 5.89850049,  5.89850049,  5.89850049, ...,  5.89850049,\n",
       "         5.89850049,  5.89850049],\n",
       "       [ 6.0908429 ,  6.0908429 ,  6.0908429 , ...,  6.0908429 ,\n",
       "         6.0908429 ,  6.0908429 ],\n",
       "       [ 6.28318531,  6.28318531,  6.28318531, ...,  6.28318531,\n",
       "         6.28318531,  6.28318531]])"
      ]
     },
     "execution_count": 42,
     "metadata": {},
     "output_type": "execute_result"
    }
   ],
   "source": [
    "yy"
   ]
  },
  {
   "cell_type": "code",
   "execution_count": 43,
   "id": "faf4ffe7-4cc0-47ab-976b-22e7dd4eb599",
   "metadata": {},
   "outputs": [
    {
     "data": {
      "text/plain": [
       "(50, 100)"
      ]
     },
     "execution_count": 43,
     "metadata": {},
     "output_type": "execute_result"
    }
   ],
   "source": [
    "xx.shape"
   ]
  },
  {
   "cell_type": "code",
   "execution_count": 44,
   "id": "15c63174-64fc-4232-a386-37f35009a0bd",
   "metadata": {},
   "outputs": [
    {
     "data": {
      "text/plain": [
       "(50, 100)"
      ]
     },
     "execution_count": 44,
     "metadata": {},
     "output_type": "execute_result"
    }
   ],
   "source": [
    "yy.shape"
   ]
  },
  {
   "cell_type": "code",
   "execution_count": 45,
   "id": "b36036da-aafc-4e9b-a86d-7dbc2113dbaa",
   "metadata": {},
   "outputs": [
    {
     "data": {
      "text/plain": [
       "5000"
      ]
     },
     "execution_count": 45,
     "metadata": {},
     "output_type": "execute_result"
    }
   ],
   "source": [
    "xx.size"
   ]
  },
  {
   "cell_type": "markdown",
   "id": "cd8f403c-9ef2-447e-9ccc-1037edb3d4ab",
   "metadata": {},
   "source": [
    "## indexing"
   ]
  },
  {
   "cell_type": "code",
   "execution_count": 46,
   "id": "ec93776a-f8be-41a1-8b30-d1d88f7aeae4",
   "metadata": {},
   "outputs": [
    {
     "data": {
      "text/plain": [
       "-5.616786865509024"
      ]
     },
     "execution_count": 46,
     "metadata": {},
     "output_type": "execute_result"
    }
   ],
   "source": [
    "xx[5,7]"
   ]
  },
  {
   "cell_type": "code",
   "execution_count": 47,
   "id": "4f30e50e-6505-41f6-809a-53bec5d8aa8f",
   "metadata": {},
   "outputs": [
    {
     "data": {
      "text/plain": [
       "-2.1798806167765914"
      ]
     },
     "execution_count": 47,
     "metadata": {},
     "output_type": "execute_result"
    }
   ],
   "source": [
    "yy[5,7]"
   ]
  },
  {
   "cell_type": "code",
   "execution_count": 48,
   "id": "a9676230-0ab9-4e0b-af0d-6386be6e7c3d",
   "metadata": {},
   "outputs": [
    {
     "data": {
      "text/plain": [
       "array([-6.28318531, -6.18798553, -6.09278575, -5.99758598, -5.9023862 ,\n",
       "       -5.80718642, -5.71198664, -5.61678687, -5.52158709, -5.42638731,\n",
       "       -5.33118753, -5.23598776, -5.14078798, -5.0455882 , -4.95038842,\n",
       "       -4.85518865, -4.75998887, -4.66478909, -4.56958931, -4.47438954,\n",
       "       -4.37918976, -4.28398998, -4.1887902 , -4.09359043, -3.99839065,\n",
       "       -3.90319087, -3.8079911 , -3.71279132, -3.61759154, -3.52239176,\n",
       "       -3.42719199, -3.33199221, -3.23679243, -3.14159265, -3.04639288,\n",
       "       -2.9511931 , -2.85599332, -2.76079354, -2.66559377, -2.57039399,\n",
       "       -2.47519421, -2.37999443, -2.28479466, -2.18959488, -2.0943951 ,\n",
       "       -1.99919533, -1.90399555, -1.80879577, -1.71359599, -1.61839622,\n",
       "       -1.52319644, -1.42799666, -1.33279688, -1.23759711, -1.14239733,\n",
       "       -1.04719755, -0.95199777, -0.856798  , -0.76159822, -0.66639844,\n",
       "       -0.57119866, -0.47599889, -0.38079911, -0.28559933, -0.19039955,\n",
       "       -0.09519978,  0.        ,  0.09519978,  0.19039955,  0.28559933,\n",
       "        0.38079911,  0.47599889,  0.57119866,  0.66639844,  0.76159822,\n",
       "        0.856798  ,  0.95199777,  1.04719755,  1.14239733,  1.23759711,\n",
       "        1.33279688,  1.42799666,  1.52319644,  1.61839622,  1.71359599,\n",
       "        1.80879577,  1.90399555,  1.99919533,  2.0943951 ,  2.18959488,\n",
       "        2.28479466,  2.37999443,  2.47519421,  2.57039399,  2.66559377,\n",
       "        2.76079354,  2.85599332,  2.9511931 ,  3.04639288,  3.14159265])"
      ]
     },
     "execution_count": 48,
     "metadata": {},
     "output_type": "execute_result"
    }
   ],
   "source": [
    "xx[-1,:]"
   ]
  },
  {
   "cell_type": "code",
   "execution_count": 49,
   "id": "73fa9853-9019-4201-92ff-0af2027f021d",
   "metadata": {},
   "outputs": [
    {
     "data": {
      "text/plain": [
       "(100,)"
      ]
     },
     "execution_count": 49,
     "metadata": {},
     "output_type": "execute_result"
    }
   ],
   "source": [
    "xx[0].shape"
   ]
  },
  {
   "cell_type": "code",
   "execution_count": 50,
   "id": "7be0d7f1-3654-4b2c-9bf5-746dfd99fc85",
   "metadata": {},
   "outputs": [
    {
     "data": {
      "text/plain": [
       "array([-3.23679243, -3.23679243, -3.23679243, -3.23679243, -3.23679243,\n",
       "       -3.23679243, -3.23679243, -3.23679243, -3.23679243, -3.23679243,\n",
       "       -3.23679243, -3.23679243, -3.23679243, -3.23679243, -3.23679243,\n",
       "       -3.23679243, -3.23679243, -3.23679243, -3.23679243, -3.23679243,\n",
       "       -3.23679243, -3.23679243, -3.23679243, -3.23679243, -3.23679243,\n",
       "       -3.23679243, -3.23679243, -3.23679243, -3.23679243, -3.23679243,\n",
       "       -3.23679243, -3.23679243, -3.23679243, -3.23679243, -3.23679243,\n",
       "       -3.23679243, -3.23679243, -3.23679243, -3.23679243, -3.23679243,\n",
       "       -3.23679243, -3.23679243, -3.23679243, -3.23679243, -3.23679243,\n",
       "       -3.23679243, -3.23679243, -3.23679243, -3.23679243, -3.23679243])"
      ]
     },
     "execution_count": 50,
     "metadata": {},
     "output_type": "execute_result"
    }
   ],
   "source": [
    "xx[:,32]"
   ]
  },
  {
   "cell_type": "code",
   "execution_count": 52,
   "id": "db8109f7-2843-4e0f-876d-0dd1532bf896",
   "metadata": {},
   "outputs": [
    {
     "data": {
      "text/plain": [
       "(7, 10)"
      ]
     },
     "execution_count": 52,
     "metadata": {},
     "output_type": "execute_result"
    }
   ],
   "source": [
    "xx[3:10,30:40].shape"
   ]
  },
  {
   "cell_type": "code",
   "execution_count": 54,
   "id": "cecb914f-71cd-45f3-b071-185689159244",
   "metadata": {},
   "outputs": [
    {
     "data": {
      "text/plain": [
       "array([[ True,  True,  True, ..., False, False, False],\n",
       "       [ True,  True,  True, ..., False, False, False],\n",
       "       [ True,  True,  True, ..., False, False, False],\n",
       "       ...,\n",
       "       [ True,  True,  True, ..., False, False, False],\n",
       "       [ True,  True,  True, ..., False, False, False],\n",
       "       [ True,  True,  True, ..., False, False, False]])"
      ]
     },
     "execution_count": 54,
     "metadata": {},
     "output_type": "execute_result"
    }
   ],
   "source": [
    "idx = xx < 0\n",
    "idx"
   ]
  },
  {
   "cell_type": "code",
   "execution_count": 56,
   "id": "eb3ec84b-2bf1-418c-bf49-0dd3a904cfa9",
   "metadata": {},
   "outputs": [
    {
     "data": {
      "text/plain": [
       "(3300,)"
      ]
     },
     "execution_count": 56,
     "metadata": {},
     "output_type": "execute_result"
    }
   ],
   "source": [
    "yy[idx].shape"
   ]
  },
  {
   "cell_type": "code",
   "execution_count": 57,
   "id": "91dce914-7c89-44ee-b79d-3f95f62c3148",
   "metadata": {},
   "outputs": [
    {
     "ename": "ValueError",
     "evalue": "cannot reshape array of size 3300 into shape (50,50)",
     "output_type": "error",
     "traceback": [
      "\u001b[0;31m---------------------------------------------------------------------------\u001b[0m",
      "\u001b[0;31mValueError\u001b[0m                                Traceback (most recent call last)",
      "Cell \u001b[0;32mIn[57], line 1\u001b[0m\n\u001b[0;32m----> 1\u001b[0m \u001b[43myy\u001b[49m\u001b[43m[\u001b[49m\u001b[43midx\u001b[49m\u001b[43m]\u001b[49m\u001b[38;5;241;43m.\u001b[39;49m\u001b[43mreshape\u001b[49m\u001b[43m(\u001b[49m\u001b[38;5;241;43m50\u001b[39;49m\u001b[43m,\u001b[49m\u001b[38;5;241;43m50\u001b[39;49m\u001b[43m)\u001b[49m\n",
      "\u001b[0;31mValueError\u001b[0m: cannot reshape array of size 3300 into shape (50,50)"
     ]
    }
   ],
   "source": [
    "yy[idx].reshape(50,50)"
   ]
  },
  {
   "cell_type": "code",
   "execution_count": 58,
   "id": "f1077121-03f4-4902-a517-ebacb0e0def1",
   "metadata": {},
   "outputs": [
    {
     "data": {
      "text/plain": [
       "array([[-3.14159265, -3.14159265, -3.14159265, ..., -2.94925025,\n",
       "        -2.94925025, -2.94925025],\n",
       "       [-2.94925025, -2.94925025, -2.94925025, ..., -2.75690784,\n",
       "        -2.56456543, -2.56456543],\n",
       "       [-2.56456543, -2.56456543, -2.56456543, ..., -2.37222302,\n",
       "        -2.37222302, -2.37222302],\n",
       "       ...,\n",
       "       [ 5.51381568,  5.51381568,  5.51381568, ...,  5.70615809,\n",
       "         5.70615809,  5.70615809],\n",
       "       [ 5.70615809,  5.70615809,  5.89850049, ...,  6.0908429 ,\n",
       "         6.0908429 ,  6.0908429 ],\n",
       "       [ 6.0908429 ,  6.0908429 ,  6.0908429 , ...,  6.28318531,\n",
       "         6.28318531,  6.28318531]])"
      ]
     },
     "execution_count": 58,
     "metadata": {},
     "output_type": "execute_result"
    }
   ],
   "source": [
    "yy[idx].reshape(33,100)"
   ]
  },
  {
   "cell_type": "markdown",
   "id": "009a4356-2835-4726-9c59-c22179a68738",
   "metadata": {},
   "source": [
    "# Matplotlib"
   ]
  },
  {
   "cell_type": "code",
   "execution_count": 59,
   "id": "b02be2c7-911c-478c-a04c-e29a9891cba1",
   "metadata": {},
   "outputs": [],
   "source": [
    "from matplotlib import pyplot as plt"
   ]
  },
  {
   "cell_type": "code",
   "execution_count": 60,
   "id": "d860e9fe-abc5-4527-8ef7-20f04b48334b",
   "metadata": {},
   "outputs": [
    {
     "data": {
      "text/plain": [
       "array([-6.28318531, -6.18798553, -6.09278575, -5.99758598, -5.9023862 ,\n",
       "       -5.80718642, -5.71198664, -5.61678687, -5.52158709, -5.42638731,\n",
       "       -5.33118753, -5.23598776, -5.14078798, -5.0455882 , -4.95038842,\n",
       "       -4.85518865, -4.75998887, -4.66478909, -4.56958931, -4.47438954,\n",
       "       -4.37918976, -4.28398998, -4.1887902 , -4.09359043, -3.99839065,\n",
       "       -3.90319087, -3.8079911 , -3.71279132, -3.61759154, -3.52239176,\n",
       "       -3.42719199, -3.33199221, -3.23679243, -3.14159265, -3.04639288,\n",
       "       -2.9511931 , -2.85599332, -2.76079354, -2.66559377, -2.57039399,\n",
       "       -2.47519421, -2.37999443, -2.28479466, -2.18959488, -2.0943951 ,\n",
       "       -1.99919533, -1.90399555, -1.80879577, -1.71359599, -1.61839622,\n",
       "       -1.52319644, -1.42799666, -1.33279688, -1.23759711, -1.14239733,\n",
       "       -1.04719755, -0.95199777, -0.856798  , -0.76159822, -0.66639844,\n",
       "       -0.57119866, -0.47599889, -0.38079911, -0.28559933, -0.19039955,\n",
       "       -0.09519978,  0.        ,  0.09519978,  0.19039955,  0.28559933,\n",
       "        0.38079911,  0.47599889,  0.57119866,  0.66639844,  0.76159822,\n",
       "        0.856798  ,  0.95199777,  1.04719755,  1.14239733,  1.23759711,\n",
       "        1.33279688,  1.42799666,  1.52319644,  1.61839622,  1.71359599,\n",
       "        1.80879577,  1.90399555,  1.99919533,  2.0943951 ,  2.18959488,\n",
       "        2.28479466,  2.37999443,  2.47519421,  2.57039399,  2.66559377,\n",
       "        2.76079354,  2.85599332,  2.9511931 ,  3.04639288,  3.14159265])"
      ]
     },
     "execution_count": 60,
     "metadata": {},
     "output_type": "execute_result"
    }
   ],
   "source": [
    "x"
   ]
  },
  {
   "cell_type": "code",
   "execution_count": 62,
   "id": "75aee70e-b3f5-4b5b-8da9-d4cfccdd88c1",
   "metadata": {},
   "outputs": [
    {
     "data": {
      "image/png": "[encoded data removed]",
      "text/plain": [
       "<Figure size 640x480 with 1 Axes>"
      ]
     },
     "metadata": {},
     "output_type": "display_data"
    }
   ],
   "source": [
    "plt.plot(x);"
   ]
  },
  {
   "cell_type": "code",
   "execution_count": 63,
   "id": "9f02065c-aaeb-4837-934f-616732232790",
   "metadata": {},
   "outputs": [],
   "source": [
    "f = np.sin(xx)*np.cos(yy)"
   ]
  },
  {
   "cell_type": "code",
   "execution_count": 71,
   "id": "b1cea189-207d-43f5-9a91-a21618a5e28a",
   "metadata": {},
   "outputs": [
    {
     "data": {
      "text/plain": [
       "<matplotlib.colorbar.Colorbar at 0x7f2359639510>"
      ]
     },
     "execution_count": 71,
     "metadata": {},
     "output_type": "execute_result"
    },
    {
     "data": {
      "image/png": "[encoded data removed]",
      "text/plain": [
       "<Figure size 640x480 with 2 Axes>"
      ]
     },
     "metadata": {},
     "output_type": "display_data"
    }
   ],
   "source": [
    "plt.pcolormesh(x,y,f,vmin=-1,vmax=1,cmap='gist_ncar');\n",
    "plt.colorbar()"
   ]
  },
  {
   "cell_type": "code",
   "execution_count": 78,
   "id": "3e39d47f-567e-46c9-ad8d-13ab1d96860b",
   "metadata": {},
   "outputs": [
    {
     "data": {
      "text/plain": [
       "<matplotlib.contour.QuadContourSet at 0x7f235819cd90>"
      ]
     },
     "execution_count": 78,
     "metadata": {},
     "output_type": "execute_result"
    },
    {
     "data": {
      "image/png": "[encoded data removed]",
      "text/plain": [
       "<Figure size 640x480 with 1 Axes>"
      ]
     },
     "metadata": {},
     "output_type": "display_data"
    }
   ],
   "source": [
    "plt.contourf(x,y,f)"
   ]
  },
  {
   "cell_type": "code",
   "execution_count": 79,
   "id": "f23c67bf-2d49-40c3-ac9d-68b575fa6649",
   "metadata": {},
   "outputs": [
    {
     "data": {
      "text/plain": [
       "(100,)"
      ]
     },
     "execution_count": 79,
     "metadata": {},
     "output_type": "execute_result"
    }
   ],
   "source": [
    "x.shape"
   ]
  },
  {
   "cell_type": "code",
   "execution_count": 80,
   "id": "6c128751-bc5c-41ea-8ce1-ccd64877d3e3",
   "metadata": {},
   "outputs": [
    {
     "data": {
      "text/plain": [
       "(1, 100)"
      ]
     },
     "execution_count": 80,
     "metadata": {},
     "output_type": "execute_result"
    }
   ],
   "source": [
    "newx = x[None,:]\n",
    "newx.shape"
   ]
  },
  {
   "cell_type": "code",
   "execution_count": 81,
   "id": "06d87a1d-88a2-4f4f-a890-3715049e97b5",
   "metadata": {},
   "outputs": [
    {
     "data": {
      "text/plain": [
       "array([[-6.28318531, -6.18798553, -6.09278575, -5.99758598, -5.9023862 ,\n",
       "        -5.80718642, -5.71198664, -5.61678687, -5.52158709, -5.42638731,\n",
       "        -5.33118753, -5.23598776, -5.14078798, -5.0455882 , -4.95038842,\n",
       "        -4.85518865, -4.75998887, -4.66478909, -4.56958931, -4.47438954,\n",
       "        -4.37918976, -4.28398998, -4.1887902 , -4.09359043, -3.99839065,\n",
       "        -3.90319087, -3.8079911 , -3.71279132, -3.61759154, -3.52239176,\n",
       "        -3.42719199, -3.33199221, -3.23679243, -3.14159265, -3.04639288,\n",
       "        -2.9511931 , -2.85599332, -2.76079354, -2.66559377, -2.57039399,\n",
       "        -2.47519421, -2.37999443, -2.28479466, -2.18959488, -2.0943951 ,\n",
       "        -1.99919533, -1.90399555, -1.80879577, -1.71359599, -1.61839622,\n",
       "        -1.52319644, -1.42799666, -1.33279688, -1.23759711, -1.14239733,\n",
       "        -1.04719755, -0.95199777, -0.856798  , -0.76159822, -0.66639844,\n",
       "        -0.57119866, -0.47599889, -0.38079911, -0.28559933, -0.19039955,\n",
       "        -0.09519978,  0.        ,  0.09519978,  0.19039955,  0.28559933,\n",
       "         0.38079911,  0.47599889,  0.57119866,  0.66639844,  0.76159822,\n",
       "         0.856798  ,  0.95199777,  1.04719755,  1.14239733,  1.23759711,\n",
       "         1.33279688,  1.42799666,  1.52319644,  1.61839622,  1.71359599,\n",
       "         1.80879577,  1.90399555,  1.99919533,  2.0943951 ,  2.18959488,\n",
       "         2.28479466,  2.37999443,  2.47519421,  2.57039399,  2.66559377,\n",
       "         2.76079354,  2.85599332,  2.9511931 ,  3.04639288,  3.14159265]])"
      ]
     },
     "execution_count": 81,
     "metadata": {},
     "output_type": "execute_result"
    }
   ],
   "source": [
    "newx"
   ]
  },
  {
   "cell_type": "markdown",
   "id": "74d00b14-6cf5-4238-9975-bc8859da44c5",
   "metadata": {},
   "source": [
    "# Reduction operations\n"
   ]
  },
  {
   "cell_type": "code",
   "execution_count": 82,
   "id": "4f181227-a992-49df-8f5b-4317dc3fc47a",
   "metadata": {},
   "outputs": [
    {
     "data": {
      "text/plain": [
       "array([2.        , 2.10526316, 2.21052632, 2.31578947, 2.42105263,\n",
       "       2.52631579, 2.63157895, 2.73684211, 2.84210526, 2.94736842,\n",
       "       3.05263158, 3.15789474, 3.26315789, 3.36842105, 3.47368421,\n",
       "       3.57894737, 3.68421053, 3.78947368, 3.89473684, 4.        ])"
      ]
     },
     "execution_count": 82,
     "metadata": {},
     "output_type": "execute_result"
    }
   ],
   "source": [
    "g\n"
   ]
  },
  {
   "cell_type": "code",
   "execution_count": 83,
   "id": "b20dbbc7-da9e-4a8e-82e1-26e4ff58d26c",
   "metadata": {},
   "outputs": [
    {
     "data": {
      "text/plain": [
       "(20,)"
      ]
     },
     "execution_count": 83,
     "metadata": {},
     "output_type": "execute_result"
    }
   ],
   "source": [
    "g.shape"
   ]
  },
  {
   "cell_type": "code",
   "execution_count": 84,
   "id": "d553997a-d630-4042-92e1-f4f5c3f20c13",
   "metadata": {},
   "outputs": [
    {
     "data": {
      "text/plain": [
       "60.0"
      ]
     },
     "execution_count": 84,
     "metadata": {},
     "output_type": "execute_result"
    }
   ],
   "source": [
    "g.sum()"
   ]
  },
  {
   "cell_type": "code",
   "execution_count": 85,
   "id": "3b3ce787-7a92-44f7-bcb5-c9c26919dbb8",
   "metadata": {},
   "outputs": [
    {
     "data": {
      "text/plain": [
       "60.0"
      ]
     },
     "execution_count": 85,
     "metadata": {},
     "output_type": "execute_result"
    }
   ],
   "source": [
    "gg = np.sum(g)\n",
    "gg"
   ]
  },
  {
   "cell_type": "code",
   "execution_count": 87,
   "id": "475360b3-e329-4ace-8671-d7b691be6a25",
   "metadata": {},
   "outputs": [
    {
     "data": {
      "text/plain": [
       "3.0"
      ]
     },
     "execution_count": 87,
     "metadata": {},
     "output_type": "execute_result"
    }
   ],
   "source": [
    "ggmean = np.mean(g)\n",
    "ggmean"
   ]
  },
  {
   "cell_type": "code",
   "execution_count": 89,
   "id": "037a8e48-cafd-4a5a-9559-ad3c22a6a580",
   "metadata": {},
   "outputs": [
    {
     "data": {
      "text/plain": [
       "3.0"
      ]
     },
     "execution_count": 89,
     "metadata": {},
     "output_type": "execute_result"
    }
   ],
   "source": [
    "g.mean()"
   ]
  },
  {
   "cell_type": "code",
   "execution_count": 91,
   "id": "6fd01a7c-e8ff-4076-8441-43777a0ff3cb",
   "metadata": {},
   "outputs": [
    {
     "data": {
      "text/plain": [
       "3.0"
      ]
     },
     "execution_count": 91,
     "metadata": {},
     "output_type": "execute_result"
    }
   ],
   "source": [
    "ggmean = np.nanmean(g)\n",
    "ggmean"
   ]
  },
  {
   "cell_type": "code",
   "execution_count": 92,
   "id": "12a254a5-03d9-490e-b54d-45867c4754c4",
   "metadata": {},
   "outputs": [
    {
     "data": {
      "text/plain": [
       "0.6069769786668839"
      ]
     },
     "execution_count": 92,
     "metadata": {},
     "output_type": "execute_result"
    }
   ],
   "source": [
    "g.std()"
   ]
  },
  {
   "cell_type": "code",
   "execution_count": 94,
   "id": "93fdee77-651e-4e24-981b-b53df04688ca",
   "metadata": {},
   "outputs": [
    {
     "data": {
      "text/plain": [
       "0.6069769786668839"
      ]
     },
     "execution_count": 94,
     "metadata": {},
     "output_type": "execute_result"
    }
   ],
   "source": [
    "gstd = np.std(g)\n",
    "gstd"
   ]
  },
  {
   "cell_type": "code",
   "execution_count": 95,
   "id": "c0b4f523-53a7-45bd-b7ad-97b2a2d47543",
   "metadata": {},
   "outputs": [
    {
     "data": {
      "text/plain": [
       "array([[-2.44929360e-16, -9.50560433e-02, -1.89251244e-01, ...,\n",
       "        -1.89251244e-01, -9.50560433e-02, -1.22464680e-16],\n",
       "       [-2.40412656e-16, -9.33031297e-02, -1.85761292e-01, ...,\n",
       "        -1.85761292e-01, -9.33031297e-02, -1.20206328e-16],\n",
       "       [-2.27029128e-16, -8.81090394e-02, -1.75420150e-01, ...,\n",
       "        -1.75420150e-01, -8.81090394e-02, -1.13514564e-16],\n",
       "       ...,\n",
       "       [ 2.27029128e-16,  8.81090394e-02,  1.75420150e-01, ...,\n",
       "         1.75420150e-01,  8.81090394e-02,  1.13514564e-16],\n",
       "       [ 2.40412656e-16,  9.33031297e-02,  1.85761292e-01, ...,\n",
       "         1.85761292e-01,  9.33031297e-02,  1.20206328e-16],\n",
       "       [ 2.44929360e-16,  9.50560433e-02,  1.89251244e-01, ...,\n",
       "         1.89251244e-01,  9.50560433e-02,  1.22464680e-16]])"
      ]
     },
     "execution_count": 95,
     "metadata": {},
     "output_type": "execute_result"
    }
   ],
   "source": [
    "f"
   ]
  },
  {
   "cell_type": "code",
   "execution_count": 96,
   "id": "a03cfcf2-589f-4adb-b46f-d015d0817b42",
   "metadata": {},
   "outputs": [
    {
     "data": {
      "text/plain": [
       "(50, 100)"
      ]
     },
     "execution_count": 96,
     "metadata": {},
     "output_type": "execute_result"
    }
   ],
   "source": [
    "f.shape"
   ]
  },
  {
   "cell_type": "code",
   "execution_count": 97,
   "id": "e7c794e4-0237-4ec4-9bfa-ce66b4ac8906",
   "metadata": {},
   "outputs": [],
   "source": [
    "f_ymean = np.mean(f,axis=0)"
   ]
  },
  {
   "cell_type": "code",
   "execution_count": 98,
   "id": "0af6968b-81e3-4f31-a751-002e93eb4c2d",
   "metadata": {},
   "outputs": [
    {
     "data": {
      "text/plain": [
       "(100,)"
      ]
     },
     "execution_count": 98,
     "metadata": {},
     "output_type": "execute_result"
    }
   ],
   "source": [
    "f_ymean.shape"
   ]
  },
  {
   "cell_type": "code",
   "execution_count": 99,
   "id": "ad27d87d-c547-44e9-a167-e83d5dc437b3",
   "metadata": {},
   "outputs": [],
   "source": [
    "f_xmean = np.mean(f,axis=1)"
   ]
  },
  {
   "cell_type": "code",
   "execution_count": 100,
   "id": "ff551ad3-45bb-4a48-997c-2d6e04cbaf4e",
   "metadata": {},
   "outputs": [
    {
     "data": {
      "text/plain": [
       "array([-0.20992583, -0.20605463, -0.19458377, -0.17593634, -0.15080009,\n",
       "       -0.12010207, -0.08497448, -0.04671289, -0.00672845,  0.03350414,\n",
       "        0.07250105,  0.10882399,  0.14113333,  0.16823742,  0.18913664,\n",
       "        0.20306018,  0.20949452,  0.20820235,  0.19923132,  0.18291231,\n",
       "        0.15984718,  0.13088662,  0.09709874,  0.05972969,  0.02015771,\n",
       "       -0.02015771, -0.05972969, -0.09709874, -0.13088662, -0.15984718,\n",
       "       -0.18291231, -0.19923132, -0.20820235, -0.20949452, -0.20306018,\n",
       "       -0.18913664, -0.16823742, -0.14113333, -0.10882399, -0.07250105,\n",
       "       -0.03350414,  0.00672845,  0.04671289,  0.08497448,  0.12010207,\n",
       "        0.15080009,  0.17593634,  0.19458377,  0.20605463,  0.20992583])"
      ]
     },
     "execution_count": 100,
     "metadata": {},
     "output_type": "execute_result"
    }
   ],
   "source": [
    "f_xmean"
   ]
  },
  {
   "cell_type": "code",
   "execution_count": 101,
   "id": "d60ad916-318e-4d55-9e2a-5dbc1ce8019a",
   "metadata": {},
   "outputs": [
    {
     "data": {
      "text/plain": [
       "(50,)"
      ]
     },
     "execution_count": 101,
     "metadata": {},
     "output_type": "execute_result"
    }
   ],
   "source": [
    "f_xmean.shape"
   ]
  },
  {
   "cell_type": "code",
   "execution_count": 102,
   "id": "dc156661-de19-4c63-88a7-32873d675601",
   "metadata": {},
   "outputs": [
    {
     "data": {
      "text/plain": [
       "-0.20992583461395553"
      ]
     },
     "execution_count": 102,
     "metadata": {},
     "output_type": "execute_result"
    }
   ],
   "source": [
    "f_xmean[0]"
   ]
  },
  {
   "cell_type": "markdown",
   "id": "0fed294f-ea80-48fc-9a3c-784b259524d8",
   "metadata": {},
   "source": [
    "## automatic broadcasting"
   ]
  },
  {
   "cell_type": "code",
   "execution_count": 3,
   "id": "4a20b9e0-1fcf-45a9-bebd-0234bff9f776",
   "metadata": {},
   "outputs": [
    {
     "data": {
      "text/plain": [
       "array([[1, 2],\n",
       "       [3, 4],\n",
       "       [5, 6]])"
      ]
     },
     "execution_count": 3,
     "metadata": {},
     "output_type": "execute_result"
    }
   ],
   "source": [
    "import numpy as np\n",
    "f = np.array([[1,2],[3,4],[5,6]])\n",
    "f"
   ]
  },
  {
   "cell_type": "code",
   "execution_count": 5,
   "id": "c4e0c2d7-ea47-4340-aff7-21f50ae0408d",
   "metadata": {},
   "outputs": [
    {
     "data": {
      "text/plain": [
       "array([7, 8])"
      ]
     },
     "execution_count": 5,
     "metadata": {},
     "output_type": "execute_result"
    }
   ],
   "source": [
    "e = np.array([7,8])\n",
    "e"
   ]
  },
  {
   "cell_type": "code",
   "execution_count": 7,
   "id": "18589eff-1c40-4890-82ec-1f45667ab951",
   "metadata": {},
   "outputs": [
    {
     "data": {
      "text/plain": [
       "array([[ 7, 16],\n",
       "       [21, 32],\n",
       "       [35, 48]])"
      ]
     },
     "execution_count": 7,
     "metadata": {},
     "output_type": "execute_result"
    }
   ],
   "source": [
    "mult = f*e\n",
    "mult"
   ]
  },
  {
   "cell_type": "code",
   "execution_count": 8,
   "id": "9dfd145d-996a-42d9-80f9-39dfd2bad94c",
   "metadata": {},
   "outputs": [
    {
     "data": {
      "text/plain": [
       "array([23, 53, 83])"
      ]
     },
     "execution_count": 8,
     "metadata": {},
     "output_type": "execute_result"
    }
   ],
   "source": [
    "np.matmul(f,e)"
   ]
  },
  {
   "cell_type": "code",
   "execution_count": 9,
   "id": "e8823385-09a1-4124-9d28-ebd945a309ab",
   "metadata": {},
   "outputs": [],
   "source": [
    "e = e[:,np.newaxis]"
   ]
  },
  {
   "cell_type": "code",
   "execution_count": 10,
   "id": "2f6920a0-eb1e-473a-8bba-5caf58ff520f",
   "metadata": {},
   "outputs": [
    {
     "data": {
      "text/plain": [
       "array([[7],\n",
       "       [8]])"
      ]
     },
     "execution_count": 10,
     "metadata": {},
     "output_type": "execute_result"
    }
   ],
   "source": [
    "e"
   ]
  },
  {
   "cell_type": "code",
   "execution_count": 11,
   "id": "ce451bb8-6a3c-4a08-bb67-524a5091899e",
   "metadata": {},
   "outputs": [
    {
     "data": {
      "text/plain": [
       "array([[23],\n",
       "       [53],\n",
       "       [83]])"
      ]
     },
     "execution_count": 11,
     "metadata": {},
     "output_type": "execute_result"
    }
   ],
   "source": [
    "np.matmul(f,e)"
   ]
  },
  {
   "cell_type": "markdown",
   "id": "bc6ce0c7-41aa-491b-b08d-0cf7a7d2879d",
   "metadata": {},
   "source": [
    "## SciPy"
   ]
  },
  {
   "cell_type": "code",
   "execution_count": 15,
   "id": "f7de6ee0-54eb-4526-ba56-b290593253e6",
   "metadata": {},
   "outputs": [],
   "source": [
    "from scipy import stats\n",
    "import numpy as np\n",
    "from matplotlib import pyplot as plt\n",
    "import pandas as pd"
   ]
  },
  {
   "cell_type": "code",
   "execution_count": null,
   "id": "a6892668-2432-4eb4-9091-8311bdfafd34",
   "metadata": {},
   "outputs": [],
   "source": [
    "dir(stats)"
   ]
  },
  {
   "cell_type": "code",
   "execution_count": null,
   "id": "ecfdf1c6-dcfc-4568-8424-51c3e2d794dd",
   "metadata": {},
   "outputs": [],
   "source": [
    "data = pd.read_csv('/data9/GR6901/data/centralpark.csv')\n",
    "data"
   ]
  },
  {
   "cell_type": "code",
   "execution_count": 17,
   "id": "b86df287-d9e9-4ac1-8f8e-c07404cf9b3e",
   "metadata": {},
   "outputs": [],
   "source": [
    "df = pd.DataFrame(data,columns = ['DATE','TMIN'])\n",
    "df = df.set_index('DATE')\n",
    "df1869 = df.loc['1869-01-01':'1869-12-31']\n",
    "df2023 = df.loc['2023-01-01':'2023-12-31']\n",
    "t1869 = np.array(df1869['TMIN'])\n",
    "t2023 = np.array(df2023['TMIN'])"
   ]
  },
  {
   "cell_type": "code",
   "execution_count": null,
   "id": "fff43713-38b5-41a0-b45a-4f37b411e2d1",
   "metadata": {},
   "outputs": [],
   "source": [
    "t2023\n"
   ]
  },
  {
   "cell_type": "code",
   "execution_count": null,
   "id": "f6254c23-deae-4f7f-a1c3-bbadebbdc3dc",
   "metadata": {},
   "outputs": [],
   "source": [
    "plt.plot(t1869,label='1869')\n",
    "plt.plot(t2023,label='2023')\n",
    "plt.legend()\n",
    "plt.xlabel('day of year')\n",
    "plt.ylabel('temp. in deg f')"
   ]
  },
  {
   "cell_type": "markdown",
   "id": "0779c0ff-71dc-441c-ad1b-64d823d9f128",
   "metadata": {},
   "source": [
    "## null hypothesis\n",
    "### meanT in 1869 = meanT in 2023"
   ]
  },
  {
   "cell_type": "code",
   "execution_count": 25,
   "id": "1a9752b0-a65e-47b3-9cab-7f7b926a7e5d",
   "metadata": {},
   "outputs": [],
   "source": [
    "t_val, p_val = stats.ttest_rel(t1869,t2023, nan_policy = 'omit') "
   ]
  },
  {
   "cell_type": "code",
   "execution_count": 26,
   "id": "077fbc30-9bcb-44d3-bde5-e5de2a30eca3",
   "metadata": {},
   "outputs": [
    {
     "data": {
      "text/plain": [
       "1.2203567240192806e-20"
      ]
     },
     "execution_count": 26,
     "metadata": {},
     "output_type": "execute_result"
    }
   ],
   "source": [
    "p_val"
   ]
  },
  {
   "cell_type": "markdown",
   "id": "48f3dee8-bf7c-4f62-a9c2-77becbc3f5fe",
   "metadata": {},
   "source": [
    "## null hypothesis that the difference on average in daily min temps between 2023 and 1869 is N degrees F (n = 2)"
   ]
  },
  {
   "cell_type": "code",
   "execution_count": 30,
   "id": "4706960f-676e-40bc-9f40-c139e658f84c",
   "metadata": {},
   "outputs": [
    {
     "data": {
      "text/plain": [
       "0.0072356812331314975"
      ]
     },
     "execution_count": 30,
     "metadata": {},
     "output_type": "execute_result"
    }
   ],
   "source": [
    "t2,p2 = stats.ttest_1samp(t2023-t1869, 3.5, nan_policy = 'omit')\n",
    "p2"
   ]
  },
  {
   "cell_type": "code",
   "execution_count": null,
   "id": "f6659edb-51a9-4331-b060-6d17f334d31d",
   "metadata": {},
   "outputs": [],
   "source": []
  }
 ],
 "metadata": {
  "kernelspec": {
   "display_name": "pangeo23",
   "language": "python",
   "name": "pangeo23"
  },
  "language_info": {
   "codemirror_mode": {
    "name": "ipython",
    "version": 3
   },
   "file_extension": ".py",
   "mimetype": "text/x-python",
   "name": "python",
   "nbconvert_exporter": "python",
   "pygments_lexer": "ipython3",
   "version": "3.11.6"
  }
 },
 "nbformat": 4,
 "nbformat_minor": 5
}
