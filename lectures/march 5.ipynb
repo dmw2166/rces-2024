{
 "cells": [
  {
   "cell_type": "markdown",
   "id": "c367cb22-3049-42b0-aea6-532ba33bac63",
   "metadata": {},
   "source": [
    "# Pandas fundamentals"
   ]
  },
  {
   "cell_type": "code",
   "execution_count": 4,
   "id": "8d475ed5-f0e4-49ee-9693-7b390a134e53",
   "metadata": {},
   "outputs": [],
   "source": [
    "import pandas as pd\n",
    "import numpy as np\n",
    "from matplotlib import pyplot as plt"
   ]
  },
  {
   "cell_type": "code",
   "execution_count": 5,
   "id": "794cb561-75e6-4020-bf71-f0d09699c79a",
   "metadata": {},
   "outputs": [],
   "source": [
    "names = ['Mercury', 'Venus', 'Earth']\n",
    "values = [0.3e24, 4.87e24, 5.97e24]"
   ]
  },
  {
   "cell_type": "code",
   "execution_count": 6,
   "id": "699f82cf-ff0f-45d5-8469-bba195f840e0",
   "metadata": {},
   "outputs": [
    {
     "data": {
      "text/plain": [
       "Mercury    3.000000e+23\n",
       "Venus      4.870000e+24\n",
       "Earth      5.970000e+24\n",
       "dtype: float64"
      ]
     },
     "execution_count": 6,
     "metadata": {},
     "output_type": "execute_result"
    }
   ],
   "source": [
    "masses = pd.Series(values, index=names)\n",
    "masses"
   ]
  },
  {
   "cell_type": "code",
   "execution_count": 7,
   "id": "e4d4d72e-eee7-48d8-9cbf-1266379c6afa",
   "metadata": {},
   "outputs": [
    {
     "data": {
      "text/plain": [
       "pandas.core.series.Series"
      ]
     },
     "execution_count": 7,
     "metadata": {},
     "output_type": "execute_result"
    }
   ],
   "source": [
    "type(masses)"
   ]
  },
  {
   "cell_type": "code",
   "execution_count": 8,
   "id": "3362e886-fa3f-48cc-9a79-bd46b4004ccc",
   "metadata": {},
   "outputs": [
    {
     "data": {
      "text/plain": [
       "(3,)"
      ]
     },
     "execution_count": 8,
     "metadata": {},
     "output_type": "execute_result"
    }
   ],
   "source": [
    "masses.shape"
   ]
  },
  {
   "cell_type": "code",
   "execution_count": 9,
   "id": "f9265f4e-3054-4be8-b1a5-15b15832fd32",
   "metadata": {},
   "outputs": [
    {
     "data": {
      "text/plain": [
       "array([3.00e+23, 4.87e+24, 5.97e+24])"
      ]
     },
     "execution_count": 9,
     "metadata": {},
     "output_type": "execute_result"
    }
   ],
   "source": [
    "masses.to_numpy()"
   ]
  },
  {
   "cell_type": "code",
   "execution_count": 10,
   "id": "20c22f88-b9f9-4468-8981-81f08236e8b5",
   "metadata": {},
   "outputs": [],
   "source": [
    "masses.to_csv('mymassfile.csv')\n"
   ]
  },
  {
   "cell_type": "code",
   "execution_count": 12,
   "id": "c79bac2f-b3c0-4cf4-bc1c-a8aff1f9a74c",
   "metadata": {},
   "outputs": [
    {
     "data": {
      "text/plain": [
       "{'Mercury': 3e+23, 'Venus': 4.87e+24, 'Earth': 5.97e+24}"
      ]
     },
     "execution_count": 12,
     "metadata": {},
     "output_type": "execute_result"
    }
   ],
   "source": [
    "massdict = {'Mercury':3e23, 'Venus':4.87e24, 'Earth':5.97e24}\n",
    "massdict"
   ]
  },
  {
   "cell_type": "code",
   "execution_count": 13,
   "id": "551ccf9c-a6ae-4c0f-8468-5f69db40c662",
   "metadata": {},
   "outputs": [
    {
     "data": {
      "text/plain": [
       "Mercury    3.000000e+23\n",
       "Venus      4.870000e+24\n",
       "Earth      5.970000e+24\n",
       "dtype: float64"
      ]
     },
     "execution_count": 13,
     "metadata": {},
     "output_type": "execute_result"
    }
   ],
   "source": [
    "ser = pd.Series(massdict) \n",
    "ser"
   ]
  },
  {
   "cell_type": "code",
   "execution_count": 14,
   "id": "c94a39d2-1249-4d83-ad8f-234a33e6322d",
   "metadata": {},
   "outputs": [
    {
     "data": {
      "text/plain": [
       "<Axes: >"
      ]
     },
     "execution_count": 14,
     "metadata": {},
     "output_type": "execute_result"
    },
    {
     "data": {
      "image/png": "[encoded data removed]",
      "text/plain": [
       "<Figure size 640x480 with 1 Axes>"
      ]
     },
     "metadata": {},
     "output_type": "display_data"
    }
   ],
   "source": [
    "masses.plot(kind='bar')"
   ]
  },
  {
   "cell_type": "code",
   "execution_count": 15,
   "id": "0211d590-c2d0-4205-baec-bb04b1f0c9b8",
   "metadata": {},
   "outputs": [
    {
     "data": {
      "text/plain": [
       "<Axes: >"
      ]
     },
     "execution_count": 15,
     "metadata": {},
     "output_type": "execute_result"
    },
    {
     "data": {
      "image/png": "[encoded data removed]",
      "text/plain": [
       "<Figure size 640x480 with 1 Axes>"
      ]
     },
     "metadata": {},
     "output_type": "display_data"
    }
   ],
   "source": [
    "masses.plot(kind='pie')"
   ]
  },
  {
   "cell_type": "code",
   "execution_count": 16,
   "id": "f776f98c-b2e4-4932-8d76-fd3c235d0ae7",
   "metadata": {},
   "outputs": [
    {
     "data": {
      "text/plain": [
       "Mercury    6.006452e-46\n",
       "Venus      2.396820e-48\n",
       "Earth      1.600655e-48\n",
       "dtype: float64"
      ]
     },
     "execution_count": 16,
     "metadata": {},
     "output_type": "execute_result"
    }
   ],
   "source": [
    "np.log(masses) / masses**2"
   ]
  },
  {
   "cell_type": "code",
   "execution_count": 17,
   "id": "55a4a7f9-4be7-44a7-900a-b2d3a15ce22f",
   "metadata": {},
   "outputs": [
    {
     "data": {
      "text/plain": [
       "array([3.00e+23, 4.87e+24, 5.97e+24])"
      ]
     },
     "execution_count": 17,
     "metadata": {},
     "output_type": "execute_result"
    }
   ],
   "source": [
    "masses.values"
   ]
  },
  {
   "cell_type": "code",
   "execution_count": 18,
   "id": "4c93aa73-19e9-4e62-912f-ee45b8d5d6f7",
   "metadata": {},
   "outputs": [
    {
     "data": {
      "text/plain": [
       "Index(['Mercury', 'Venus', 'Earth'], dtype='object')"
      ]
     },
     "execution_count": 18,
     "metadata": {},
     "output_type": "execute_result"
    }
   ],
   "source": [
    "masses.index"
   ]
  },
  {
   "cell_type": "code",
   "execution_count": 19,
   "id": "864f2e59-7cde-4fe0-b335-aa2b44bdebc9",
   "metadata": {},
   "outputs": [
    {
     "data": {
      "text/plain": [
       "Planet 1    3.000000e+23\n",
       "Planet 2    4.870000e+24\n",
       "Planet 3    5.970000e+24\n",
       "dtype: float64"
      ]
     },
     "execution_count": 19,
     "metadata": {},
     "output_type": "execute_result"
    }
   ],
   "source": [
    "ser.index = ['Planet 1', 'Planet 2', 'Planet 3']\n",
    "ser"
   ]
  },
  {
   "cell_type": "code",
   "execution_count": 20,
   "id": "4a79950d-982b-471b-845c-84a21fe8cbfd",
   "metadata": {},
   "outputs": [
    {
     "data": {
      "text/plain": [
       "4.87e+24"
      ]
     },
     "execution_count": 20,
     "metadata": {},
     "output_type": "execute_result"
    }
   ],
   "source": [
    "masses.loc['Venus']"
   ]
  },
  {
   "cell_type": "code",
   "execution_count": 21,
   "id": "7bdad8dc-c94f-410b-b6ff-1911eb2a7cc3",
   "metadata": {},
   "outputs": [
    {
     "data": {
      "text/plain": [
       "4.87e+24"
      ]
     },
     "execution_count": 21,
     "metadata": {},
     "output_type": "execute_result"
    }
   ],
   "source": [
    "masses['Venus']"
   ]
  },
  {
   "cell_type": "code",
   "execution_count": 22,
   "id": "9efb9460-af5c-4c57-8e75-9003cc41f071",
   "metadata": {},
   "outputs": [
    {
     "data": {
      "text/plain": [
       "Venus    4.870000e+24\n",
       "Earth    5.970000e+24\n",
       "dtype: float64"
      ]
     },
     "execution_count": 22,
     "metadata": {},
     "output_type": "execute_result"
    }
   ],
   "source": [
    "masses.loc[['Venus', 'Earth']]"
   ]
  },
  {
   "cell_type": "code",
   "execution_count": 23,
   "id": "d7d3f015-40bf-45b8-9dee-4287b49cad40",
   "metadata": {},
   "outputs": [
    {
     "data": {
      "text/plain": [
       "Mercury    3.000000e+23\n",
       "Venus      4.870000e+24\n",
       "dtype: float64"
      ]
     },
     "execution_count": 23,
     "metadata": {},
     "output_type": "execute_result"
    }
   ],
   "source": [
    "masses.loc['Mercury':'Venus']"
   ]
  },
  {
   "cell_type": "code",
   "execution_count": 26,
   "id": "83486873-2530-4e0e-ac9a-0fb0cecc9cc8",
   "metadata": {},
   "outputs": [
    {
     "data": {
      "text/plain": [
       "Mercury    3.000000e+23\n",
       "Venus      4.870000e+24\n",
       "dtype: float64"
      ]
     },
     "execution_count": 26,
     "metadata": {},
     "output_type": "execute_result"
    }
   ],
   "source": [
    "masses.iloc[:2]"
   ]
  },
  {
   "cell_type": "code",
   "execution_count": 27,
   "id": "f41f0d19-8385-4d81-a326-fa0bbf1b2909",
   "metadata": {},
   "outputs": [
    {
     "data": {
      "text/plain": [
       "Venus    4.870000e+24\n",
       "Earth    5.970000e+24\n",
       "dtype: float64"
      ]
     },
     "execution_count": 27,
     "metadata": {},
     "output_type": "execute_result"
    }
   ],
   "source": [
    "masses.loc[masses>3.1e23]"
   ]
  },
  {
   "cell_type": "code",
   "execution_count": 28,
   "id": "40ad1256-d987-426f-a11d-1f532671c5e4",
   "metadata": {},
   "outputs": [
    {
     "data": {
      "text/plain": [
       "Mercury    False\n",
       "Venus       True\n",
       "Earth       True\n",
       "dtype: bool"
      ]
     },
     "execution_count": 28,
     "metadata": {},
     "output_type": "execute_result"
    }
   ],
   "source": [
    "masses>3.1e23"
   ]
  },
  {
   "cell_type": "markdown",
   "id": "b001fa41-d5f5-4739-b03d-10166b79ad1c",
   "metadata": {},
   "source": [
    "# Dataframe"
   ]
  },
  {
   "cell_type": "code",
   "execution_count": 29,
   "id": "577e99d7-6d59-4010-b910-bd16b402145d",
   "metadata": {},
   "outputs": [],
   "source": [
    "data = {'mass': [0.3e24,4.87e24,5.97e24],\n",
    "        'diameter':[4879e3, 12104e3,12756e3],\n",
    "        'rotation_period': [1407.6, np.nan, 23.9]\n",
    "       }"
   ]
  },
  {
   "cell_type": "code",
   "execution_count": 30,
   "id": "fc332e93-0610-4fb4-b3dc-a3d4a2164731",
   "metadata": {},
   "outputs": [
    {
     "data": {
      "text/plain": [
       "{'mass': [3e+23, 4.87e+24, 5.97e+24],\n",
       " 'diameter': [4879000.0, 12104000.0, 12756000.0],\n",
       " 'rotation_period': [1407.6, nan, 23.9]}"
      ]
     },
     "execution_count": 30,
     "metadata": {},
     "output_type": "execute_result"
    }
   ],
   "source": [
    "data"
   ]
  },
  {
   "cell_type": "code",
   "execution_count": 31,
   "id": "67d862bd-a7a5-47e8-85eb-87ad615fe104",
   "metadata": {},
   "outputs": [
    {
     "data": {
      "text/html": [
       "<div>\n",
       "<style scoped>\n",
       "    .dataframe tbody tr th:only-of-type {\n",
       "        vertical-align: middle;\n",
       "    }\n",
       "\n",
       "    .dataframe tbody tr th {\n",
       "        vertical-align: top;\n",
       "    }\n",
       "\n",
       "    .dataframe thead th {\n",
       "        text-align: right;\n",
       "    }\n",
       "</style>\n",
       "<table border=\"1\" class=\"dataframe\">\n",
       "  <thead>\n",
       "    <tr style=\"text-align: right;\">\n",
       "      <th></th>\n",
       "      <th>mass</th>\n",
       "      <th>diameter</th>\n",
       "      <th>rotation_period</th>\n",
       "    </tr>\n",
       "  </thead>\n",
       "  <tbody>\n",
       "    <tr>\n",
       "      <th>0</th>\n",
       "      <td>3.000000e+23</td>\n",
       "      <td>4879000.0</td>\n",
       "      <td>1407.6</td>\n",
       "    </tr>\n",
       "    <tr>\n",
       "      <th>1</th>\n",
       "      <td>4.870000e+24</td>\n",
       "      <td>12104000.0</td>\n",
       "      <td>NaN</td>\n",
       "    </tr>\n",
       "    <tr>\n",
       "      <th>2</th>\n",
       "      <td>5.970000e+24</td>\n",
       "      <td>12756000.0</td>\n",
       "      <td>23.9</td>\n",
       "    </tr>\n",
       "  </tbody>\n",
       "</table>\n",
       "</div>"
      ],
      "text/plain": [
       "           mass    diameter  rotation_period\n",
       "0  3.000000e+23   4879000.0           1407.6\n",
       "1  4.870000e+24  12104000.0              NaN\n",
       "2  5.970000e+24  12756000.0             23.9"
      ]
     },
     "execution_count": 31,
     "metadata": {},
     "output_type": "execute_result"
    }
   ],
   "source": [
    "df = pd.DataFrame(data)\n",
    "df"
   ]
  },
  {
   "cell_type": "code",
   "execution_count": 33,
   "id": "0faa2b68-1792-44b7-a9eb-8d837e8eeead",
   "metadata": {},
   "outputs": [
    {
     "data": {
      "text/html": [
       "<div>\n",
       "<style scoped>\n",
       "    .dataframe tbody tr th:only-of-type {\n",
       "        vertical-align: middle;\n",
       "    }\n",
       "\n",
       "    .dataframe tbody tr th {\n",
       "        vertical-align: top;\n",
       "    }\n",
       "\n",
       "    .dataframe thead th {\n",
       "        text-align: right;\n",
       "    }\n",
       "</style>\n",
       "<table border=\"1\" class=\"dataframe\">\n",
       "  <thead>\n",
       "    <tr style=\"text-align: right;\">\n",
       "      <th></th>\n",
       "      <th>mass</th>\n",
       "      <th>diameter</th>\n",
       "      <th>rotation_period</th>\n",
       "    </tr>\n",
       "  </thead>\n",
       "  <tbody>\n",
       "    <tr>\n",
       "      <th>Mercury</th>\n",
       "      <td>3.000000e+23</td>\n",
       "      <td>4879000.0</td>\n",
       "      <td>1407.6</td>\n",
       "    </tr>\n",
       "    <tr>\n",
       "      <th>Venus</th>\n",
       "      <td>4.870000e+24</td>\n",
       "      <td>12104000.0</td>\n",
       "      <td>NaN</td>\n",
       "    </tr>\n",
       "    <tr>\n",
       "      <th>Earth</th>\n",
       "      <td>5.970000e+24</td>\n",
       "      <td>12756000.0</td>\n",
       "      <td>23.9</td>\n",
       "    </tr>\n",
       "  </tbody>\n",
       "</table>\n",
       "</div>"
      ],
      "text/plain": [
       "                 mass    diameter  rotation_period\n",
       "Mercury  3.000000e+23   4879000.0           1407.6\n",
       "Venus    4.870000e+24  12104000.0              NaN\n",
       "Earth    5.970000e+24  12756000.0             23.9"
      ]
     },
     "execution_count": 33,
     "metadata": {},
     "output_type": "execute_result"
    }
   ],
   "source": [
    "df = pd.DataFrame(data, index=['Mercury','Venus', 'Earth'])\n",
    "df"
   ]
  },
  {
   "cell_type": "code",
   "execution_count": 35,
   "id": "56f5943e-7660-483e-b524-558e4fc9b731",
   "metadata": {},
   "outputs": [
    {
     "data": {
      "text/html": [
       "<div>\n",
       "<style scoped>\n",
       "    .dataframe tbody tr th:only-of-type {\n",
       "        vertical-align: middle;\n",
       "    }\n",
       "\n",
       "    .dataframe tbody tr th {\n",
       "        vertical-align: top;\n",
       "    }\n",
       "\n",
       "    .dataframe thead th {\n",
       "        text-align: right;\n",
       "    }\n",
       "</style>\n",
       "<table border=\"1\" class=\"dataframe\">\n",
       "  <thead>\n",
       "    <tr style=\"text-align: right;\">\n",
       "      <th></th>\n",
       "      <th>mass</th>\n",
       "      <th>diameter</th>\n",
       "      <th>rotation_period</th>\n",
       "    </tr>\n",
       "  </thead>\n",
       "  <tbody>\n",
       "    <tr>\n",
       "      <th>Mercury</th>\n",
       "      <td>3.000000e+23</td>\n",
       "      <td>4879000.0</td>\n",
       "      <td>1407.6</td>\n",
       "    </tr>\n",
       "  </tbody>\n",
       "</table>\n",
       "</div>"
      ],
      "text/plain": [
       "                 mass   diameter  rotation_period\n",
       "Mercury  3.000000e+23  4879000.0           1407.6"
      ]
     },
     "execution_count": 35,
     "metadata": {},
     "output_type": "execute_result"
    }
   ],
   "source": [
    "df.head(1)"
   ]
  },
  {
   "cell_type": "code",
   "execution_count": 37,
   "id": "98763340-6af2-4b55-b758-e3ead2b56c05",
   "metadata": {},
   "outputs": [
    {
     "data": {
      "text/html": [
       "<div>\n",
       "<style scoped>\n",
       "    .dataframe tbody tr th:only-of-type {\n",
       "        vertical-align: middle;\n",
       "    }\n",
       "\n",
       "    .dataframe tbody tr th {\n",
       "        vertical-align: top;\n",
       "    }\n",
       "\n",
       "    .dataframe thead th {\n",
       "        text-align: right;\n",
       "    }\n",
       "</style>\n",
       "<table border=\"1\" class=\"dataframe\">\n",
       "  <thead>\n",
       "    <tr style=\"text-align: right;\">\n",
       "      <th></th>\n",
       "      <th>mass</th>\n",
       "      <th>diameter</th>\n",
       "      <th>rotation_period</th>\n",
       "    </tr>\n",
       "  </thead>\n",
       "  <tbody>\n",
       "    <tr>\n",
       "      <th>Earth</th>\n",
       "      <td>5.970000e+24</td>\n",
       "      <td>12756000.0</td>\n",
       "      <td>23.9</td>\n",
       "    </tr>\n",
       "  </tbody>\n",
       "</table>\n",
       "</div>"
      ],
      "text/plain": [
       "               mass    diameter  rotation_period\n",
       "Earth  5.970000e+24  12756000.0             23.9"
      ]
     },
     "execution_count": 37,
     "metadata": {},
     "output_type": "execute_result"
    }
   ],
   "source": [
    "df.tail(1)"
   ]
  },
  {
   "cell_type": "code",
   "execution_count": 38,
   "id": "006871a3-6ffb-41cb-90c5-8ce1187f2f4d",
   "metadata": {},
   "outputs": [
    {
     "name": "stdout",
     "output_type": "stream",
     "text": [
      "<class 'pandas.core.frame.DataFrame'>\n",
      "Index: 3 entries, Mercury to Earth\n",
      "Data columns (total 3 columns):\n",
      " #   Column           Non-Null Count  Dtype  \n",
      "---  ------           --------------  -----  \n",
      " 0   mass             3 non-null      float64\n",
      " 1   diameter         3 non-null      float64\n",
      " 2   rotation_period  2 non-null      float64\n",
      "dtypes: float64(3)\n",
      "memory usage: 96.0+ bytes\n"
     ]
    }
   ],
   "source": [
    "df.info()"
   ]
  },
  {
   "cell_type": "code",
   "execution_count": 39,
   "id": "535174ec-1d1b-48a8-89b0-276ecf249bb6",
   "metadata": {},
   "outputs": [
    {
     "data": {
      "text/plain": [
       "mass               3.000000e+23\n",
       "diameter           4.879000e+06\n",
       "rotation_period    2.390000e+01\n",
       "dtype: float64"
      ]
     },
     "execution_count": 39,
     "metadata": {},
     "output_type": "execute_result"
    }
   ],
   "source": [
    "df.min()"
   ]
  },
  {
   "cell_type": "code",
   "execution_count": 40,
   "id": "3afe12d9-99a2-4912-a26a-71784e87fec9",
   "metadata": {},
   "outputs": [
    {
     "data": {
      "text/html": [
       "<div>\n",
       "<style scoped>\n",
       "    .dataframe tbody tr th:only-of-type {\n",
       "        vertical-align: middle;\n",
       "    }\n",
       "\n",
       "    .dataframe tbody tr th {\n",
       "        vertical-align: top;\n",
       "    }\n",
       "\n",
       "    .dataframe thead th {\n",
       "        text-align: right;\n",
       "    }\n",
       "</style>\n",
       "<table border=\"1\" class=\"dataframe\">\n",
       "  <thead>\n",
       "    <tr style=\"text-align: right;\">\n",
       "      <th></th>\n",
       "      <th>mass</th>\n",
       "      <th>diameter</th>\n",
       "      <th>rotation_period</th>\n",
       "    </tr>\n",
       "  </thead>\n",
       "  <tbody>\n",
       "    <tr>\n",
       "      <th>count</th>\n",
       "      <td>3.000000e+00</td>\n",
       "      <td>3.000000e+00</td>\n",
       "      <td>2.000000</td>\n",
       "    </tr>\n",
       "    <tr>\n",
       "      <th>mean</th>\n",
       "      <td>3.713333e+24</td>\n",
       "      <td>9.913000e+06</td>\n",
       "      <td>715.750000</td>\n",
       "    </tr>\n",
       "    <tr>\n",
       "      <th>std</th>\n",
       "      <td>3.006765e+24</td>\n",
       "      <td>4.371744e+06</td>\n",
       "      <td>978.423653</td>\n",
       "    </tr>\n",
       "    <tr>\n",
       "      <th>min</th>\n",
       "      <td>3.000000e+23</td>\n",
       "      <td>4.879000e+06</td>\n",
       "      <td>23.900000</td>\n",
       "    </tr>\n",
       "    <tr>\n",
       "      <th>25%</th>\n",
       "      <td>2.585000e+24</td>\n",
       "      <td>8.491500e+06</td>\n",
       "      <td>369.825000</td>\n",
       "    </tr>\n",
       "    <tr>\n",
       "      <th>50%</th>\n",
       "      <td>4.870000e+24</td>\n",
       "      <td>1.210400e+07</td>\n",
       "      <td>715.750000</td>\n",
       "    </tr>\n",
       "    <tr>\n",
       "      <th>75%</th>\n",
       "      <td>5.420000e+24</td>\n",
       "      <td>1.243000e+07</td>\n",
       "      <td>1061.675000</td>\n",
       "    </tr>\n",
       "    <tr>\n",
       "      <th>max</th>\n",
       "      <td>5.970000e+24</td>\n",
       "      <td>1.275600e+07</td>\n",
       "      <td>1407.600000</td>\n",
       "    </tr>\n",
       "  </tbody>\n",
       "</table>\n",
       "</div>"
      ],
      "text/plain": [
       "               mass      diameter  rotation_period\n",
       "count  3.000000e+00  3.000000e+00         2.000000\n",
       "mean   3.713333e+24  9.913000e+06       715.750000\n",
       "std    3.006765e+24  4.371744e+06       978.423653\n",
       "min    3.000000e+23  4.879000e+06        23.900000\n",
       "25%    2.585000e+24  8.491500e+06       369.825000\n",
       "50%    4.870000e+24  1.210400e+07       715.750000\n",
       "75%    5.420000e+24  1.243000e+07      1061.675000\n",
       "max    5.970000e+24  1.275600e+07      1407.600000"
      ]
     },
     "execution_count": 40,
     "metadata": {},
     "output_type": "execute_result"
    }
   ],
   "source": [
    "df.describe()"
   ]
  },
  {
   "cell_type": "code",
   "execution_count": 41,
   "id": "c8249070-0682-4a9f-939a-33e50e26156e",
   "metadata": {},
   "outputs": [
    {
     "data": {
      "text/plain": [
       "mass               3.006765e+24\n",
       "diameter           4.371744e+06\n",
       "rotation_period    9.784237e+02\n",
       "dtype: float64"
      ]
     },
     "execution_count": 41,
     "metadata": {},
     "output_type": "execute_result"
    }
   ],
   "source": [
    "df.std()"
   ]
  },
  {
   "cell_type": "code",
   "execution_count": 42,
   "id": "92e7705b-56cd-481e-aaed-62441dc42998",
   "metadata": {},
   "outputs": [
    {
     "data": {
      "text/plain": [
       "4371743.702460152"
      ]
     },
     "execution_count": 42,
     "metadata": {},
     "output_type": "execute_result"
    }
   ],
   "source": [
    "df.diameter.std()"
   ]
  },
  {
   "cell_type": "code",
   "execution_count": 43,
   "id": "29cdb851-9463-4670-b71e-a9e1b9bcac23",
   "metadata": {},
   "outputs": [
    {
     "data": {
      "text/html": [
       "<div>\n",
       "<style scoped>\n",
       "    .dataframe tbody tr th:only-of-type {\n",
       "        vertical-align: middle;\n",
       "    }\n",
       "\n",
       "    .dataframe tbody tr th {\n",
       "        vertical-align: top;\n",
       "    }\n",
       "\n",
       "    .dataframe thead th {\n",
       "        text-align: right;\n",
       "    }\n",
       "</style>\n",
       "<table border=\"1\" class=\"dataframe\">\n",
       "  <thead>\n",
       "    <tr style=\"text-align: right;\">\n",
       "      <th></th>\n",
       "      <th>mass</th>\n",
       "      <th>diameter</th>\n",
       "      <th>rotation_period</th>\n",
       "    </tr>\n",
       "  </thead>\n",
       "  <tbody>\n",
       "    <tr>\n",
       "      <th>Mercury</th>\n",
       "      <td>False</td>\n",
       "      <td>False</td>\n",
       "      <td>False</td>\n",
       "    </tr>\n",
       "    <tr>\n",
       "      <th>Venus</th>\n",
       "      <td>False</td>\n",
       "      <td>False</td>\n",
       "      <td>True</td>\n",
       "    </tr>\n",
       "    <tr>\n",
       "      <th>Earth</th>\n",
       "      <td>False</td>\n",
       "      <td>False</td>\n",
       "      <td>False</td>\n",
       "    </tr>\n",
       "  </tbody>\n",
       "</table>\n",
       "</div>"
      ],
      "text/plain": [
       "          mass  diameter  rotation_period\n",
       "Mercury  False     False            False\n",
       "Venus    False     False             True\n",
       "Earth    False     False            False"
      ]
     },
     "execution_count": 43,
     "metadata": {},
     "output_type": "execute_result"
    }
   ],
   "source": [
    "df.isna()"
   ]
  },
  {
   "cell_type": "code",
   "execution_count": 44,
   "id": "529222ca-cae8-43ad-b184-2d879c4503ed",
   "metadata": {},
   "outputs": [
    {
     "data": {
      "text/plain": [
       "Mercury    3.000000e+23\n",
       "Venus      4.870000e+24\n",
       "Earth      5.970000e+24\n",
       "Name: mass, dtype: float64"
      ]
     },
     "execution_count": 44,
     "metadata": {},
     "output_type": "execute_result"
    }
   ],
   "source": [
    "df['mass']"
   ]
  },
  {
   "cell_type": "code",
   "execution_count": 45,
   "id": "afa98a79-45a1-4f3c-8173-93094c4996c4",
   "metadata": {},
   "outputs": [
    {
     "data": {
      "text/plain": [
       "Mercury    3.000000e+23\n",
       "Venus      4.870000e+24\n",
       "Earth      5.970000e+24\n",
       "Name: mass, dtype: float64"
      ]
     },
     "execution_count": 45,
     "metadata": {},
     "output_type": "execute_result"
    }
   ],
   "source": [
    "df.mass"
   ]
  },
  {
   "cell_type": "code",
   "execution_count": 48,
   "id": "3e9cf7ac-4f4b-4477-9cfa-013f61e58204",
   "metadata": {},
   "outputs": [
    {
     "data": {
      "text/plain": [
       "mass               3.000000e+23\n",
       "diameter           4.879000e+06\n",
       "rotation_period    1.407600e+03\n",
       "Name: Mercury, dtype: float64"
      ]
     },
     "execution_count": 48,
     "metadata": {},
     "output_type": "execute_result"
    }
   ],
   "source": [
    "df.loc['Mercury']"
   ]
  },
  {
   "cell_type": "code",
   "execution_count": 49,
   "id": "45e1618e-7ca7-4908-8b1b-2aba545d2abf",
   "metadata": {},
   "outputs": [
    {
     "data": {
      "text/plain": [
       "mass               3.000000e+23\n",
       "diameter           4.879000e+06\n",
       "rotation_period    1.407600e+03\n",
       "Name: Mercury, dtype: float64"
      ]
     },
     "execution_count": 49,
     "metadata": {},
     "output_type": "execute_result"
    }
   ],
   "source": [
    "df.iloc[0]"
   ]
  },
  {
   "cell_type": "code",
   "execution_count": 50,
   "id": "5a49366a-fb0e-44b3-bb33-bebaf54ad47e",
   "metadata": {},
   "outputs": [
    {
     "data": {
      "text/plain": [
       "5.97e+24"
      ]
     },
     "execution_count": 50,
     "metadata": {},
     "output_type": "execute_result"
    }
   ],
   "source": [
    "df.loc['Earth','mass']"
   ]
  },
  {
   "cell_type": "code",
   "execution_count": 51,
   "id": "212628b9-24ab-4861-aa0c-f1f6ccd7f5a2",
   "metadata": {},
   "outputs": [
    {
     "data": {
      "text/plain": [
       "Mercury    3.000000e+23\n",
       "Venus      4.870000e+24\n",
       "Name: mass, dtype: float64"
      ]
     },
     "execution_count": 51,
     "metadata": {},
     "output_type": "execute_result"
    }
   ],
   "source": [
    "df.iloc[:2,0]"
   ]
  },
  {
   "cell_type": "code",
   "execution_count": 52,
   "id": "a170bc6d-72b0-4757-b029-b2d55a4d94b0",
   "metadata": {},
   "outputs": [
    {
     "data": {
      "text/plain": [
       "Mercury    6.081225e+19\n",
       "Venus      9.285074e+20\n",
       "Earth      1.086781e+21\n",
       "Name: diameter, dtype: float64"
      ]
     },
     "execution_count": 52,
     "metadata": {},
     "output_type": "execute_result"
    }
   ],
   "source": [
    "volume = 4/3 * np.pi * (df.diameter/2)**3\n",
    "volume"
   ]
  },
  {
   "cell_type": "code",
   "execution_count": 53,
   "id": "74ad49ac-6493-49ea-bccb-f9204429955c",
   "metadata": {},
   "outputs": [
    {
     "data": {
      "text/plain": [
       "Mercury    4933.216530\n",
       "Venus      5244.977070\n",
       "Earth      5493.285577\n",
       "dtype: float64"
      ]
     },
     "execution_count": 53,
     "metadata": {},
     "output_type": "execute_result"
    }
   ],
   "source": [
    "df.mass/volume"
   ]
  },
  {
   "cell_type": "code",
   "execution_count": 54,
   "id": "c895a0b9-1f13-400a-bc65-3980aec5305c",
   "metadata": {},
   "outputs": [
    {
     "data": {
      "text/html": [
       "<div>\n",
       "<style scoped>\n",
       "    .dataframe tbody tr th:only-of-type {\n",
       "        vertical-align: middle;\n",
       "    }\n",
       "\n",
       "    .dataframe tbody tr th {\n",
       "        vertical-align: top;\n",
       "    }\n",
       "\n",
       "    .dataframe thead th {\n",
       "        text-align: right;\n",
       "    }\n",
       "</style>\n",
       "<table border=\"1\" class=\"dataframe\">\n",
       "  <thead>\n",
       "    <tr style=\"text-align: right;\">\n",
       "      <th></th>\n",
       "      <th>mass</th>\n",
       "      <th>diameter</th>\n",
       "      <th>rotation_period</th>\n",
       "      <th>density</th>\n",
       "    </tr>\n",
       "  </thead>\n",
       "  <tbody>\n",
       "    <tr>\n",
       "      <th>Mercury</th>\n",
       "      <td>3.000000e+23</td>\n",
       "      <td>4879000.0</td>\n",
       "      <td>1407.6</td>\n",
       "      <td>4933.216530</td>\n",
       "    </tr>\n",
       "    <tr>\n",
       "      <th>Venus</th>\n",
       "      <td>4.870000e+24</td>\n",
       "      <td>12104000.0</td>\n",
       "      <td>NaN</td>\n",
       "      <td>5244.977070</td>\n",
       "    </tr>\n",
       "    <tr>\n",
       "      <th>Earth</th>\n",
       "      <td>5.970000e+24</td>\n",
       "      <td>12756000.0</td>\n",
       "      <td>23.9</td>\n",
       "      <td>5493.285577</td>\n",
       "    </tr>\n",
       "  </tbody>\n",
       "</table>\n",
       "</div>"
      ],
      "text/plain": [
       "                 mass    diameter  rotation_period      density\n",
       "Mercury  3.000000e+23   4879000.0           1407.6  4933.216530\n",
       "Venus    4.870000e+24  12104000.0              NaN  5244.977070\n",
       "Earth    5.970000e+24  12756000.0             23.9  5493.285577"
      ]
     },
     "execution_count": 54,
     "metadata": {},
     "output_type": "execute_result"
    }
   ],
   "source": [
    "df['density'] = df.mass/volume\n",
    "df"
   ]
  },
  {
   "cell_type": "markdown",
   "id": "d2e6f710-a737-4a50-9d34-e97ddcd9b9f2",
   "metadata": {},
   "source": [
    "## merging data"
   ]
  },
  {
   "cell_type": "code",
   "execution_count": 58,
   "id": "82c73d0a-d5e4-4928-88e3-29926941c203",
   "metadata": {},
   "outputs": [
    {
     "data": {
      "text/plain": [
       "Mercury    167\n",
       "Venus      464\n",
       "Earth       15\n",
       "Mars       -65\n",
       "Name: temperature, dtype: int64"
      ]
     },
     "execution_count": 58,
     "metadata": {},
     "output_type": "execute_result"
    }
   ],
   "source": [
    "temperature = pd.Series([167, 464, 15, -65], \n",
    "                        index=['Mercury', 'Venus', 'Earth', \n",
    "                               'Mars'], name='temperature')\n",
    "temperature"
   ]
  },
  {
   "cell_type": "code",
   "execution_count": 56,
   "id": "456da51e-2f8c-4ba5-bdcb-beb06f9bfa73",
   "metadata": {},
   "outputs": [
    {
     "data": {
      "text/html": [
       "<div>\n",
       "<style scoped>\n",
       "    .dataframe tbody tr th:only-of-type {\n",
       "        vertical-align: middle;\n",
       "    }\n",
       "\n",
       "    .dataframe tbody tr th {\n",
       "        vertical-align: top;\n",
       "    }\n",
       "\n",
       "    .dataframe thead th {\n",
       "        text-align: right;\n",
       "    }\n",
       "</style>\n",
       "<table border=\"1\" class=\"dataframe\">\n",
       "  <thead>\n",
       "    <tr style=\"text-align: right;\">\n",
       "      <th></th>\n",
       "      <th>mass</th>\n",
       "      <th>diameter</th>\n",
       "      <th>rotation_period</th>\n",
       "      <th>density</th>\n",
       "      <th>temperature</th>\n",
       "    </tr>\n",
       "  </thead>\n",
       "  <tbody>\n",
       "    <tr>\n",
       "      <th>Mercury</th>\n",
       "      <td>3.000000e+23</td>\n",
       "      <td>4879000.0</td>\n",
       "      <td>1407.6</td>\n",
       "      <td>4933.216530</td>\n",
       "      <td>167</td>\n",
       "    </tr>\n",
       "    <tr>\n",
       "      <th>Venus</th>\n",
       "      <td>4.870000e+24</td>\n",
       "      <td>12104000.0</td>\n",
       "      <td>NaN</td>\n",
       "      <td>5244.977070</td>\n",
       "      <td>464</td>\n",
       "    </tr>\n",
       "    <tr>\n",
       "      <th>Earth</th>\n",
       "      <td>5.970000e+24</td>\n",
       "      <td>12756000.0</td>\n",
       "      <td>23.9</td>\n",
       "      <td>5493.285577</td>\n",
       "      <td>15</td>\n",
       "    </tr>\n",
       "  </tbody>\n",
       "</table>\n",
       "</div>"
      ],
      "text/plain": [
       "                 mass    diameter  rotation_period      density  temperature\n",
       "Mercury  3.000000e+23   4879000.0           1407.6  4933.216530          167\n",
       "Venus    4.870000e+24  12104000.0              NaN  5244.977070          464\n",
       "Earth    5.970000e+24  12756000.0             23.9  5493.285577           15"
      ]
     },
     "execution_count": 56,
     "metadata": {},
     "output_type": "execute_result"
    }
   ],
   "source": [
    "df.join(temperature)"
   ]
  },
  {
   "cell_type": "code",
   "execution_count": 60,
   "id": "d18001ba-03ac-478e-843a-22a46dc6468e",
   "metadata": {},
   "outputs": [
    {
     "data": {
      "text/html": [
       "<div>\n",
       "<style scoped>\n",
       "    .dataframe tbody tr th:only-of-type {\n",
       "        vertical-align: middle;\n",
       "    }\n",
       "\n",
       "    .dataframe tbody tr th {\n",
       "        vertical-align: top;\n",
       "    }\n",
       "\n",
       "    .dataframe thead th {\n",
       "        text-align: right;\n",
       "    }\n",
       "</style>\n",
       "<table border=\"1\" class=\"dataframe\">\n",
       "  <thead>\n",
       "    <tr style=\"text-align: right;\">\n",
       "      <th></th>\n",
       "      <th>mass</th>\n",
       "      <th>diameter</th>\n",
       "      <th>rotation_period</th>\n",
       "      <th>density</th>\n",
       "      <th>temperature</th>\n",
       "    </tr>\n",
       "  </thead>\n",
       "  <tbody>\n",
       "    <tr>\n",
       "      <th>Mercury</th>\n",
       "      <td>3.000000e+23</td>\n",
       "      <td>4879000.0</td>\n",
       "      <td>1407.6</td>\n",
       "      <td>4933.216530</td>\n",
       "      <td>167</td>\n",
       "    </tr>\n",
       "    <tr>\n",
       "      <th>Venus</th>\n",
       "      <td>4.870000e+24</td>\n",
       "      <td>12104000.0</td>\n",
       "      <td>NaN</td>\n",
       "      <td>5244.977070</td>\n",
       "      <td>464</td>\n",
       "    </tr>\n",
       "    <tr>\n",
       "      <th>Earth</th>\n",
       "      <td>5.970000e+24</td>\n",
       "      <td>12756000.0</td>\n",
       "      <td>23.9</td>\n",
       "      <td>5493.285577</td>\n",
       "      <td>15</td>\n",
       "    </tr>\n",
       "    <tr>\n",
       "      <th>Mars</th>\n",
       "      <td>NaN</td>\n",
       "      <td>NaN</td>\n",
       "      <td>NaN</td>\n",
       "      <td>NaN</td>\n",
       "      <td>-65</td>\n",
       "    </tr>\n",
       "  </tbody>\n",
       "</table>\n",
       "</div>"
      ],
      "text/plain": [
       "                 mass    diameter  rotation_period      density  temperature\n",
       "Mercury  3.000000e+23   4879000.0           1407.6  4933.216530          167\n",
       "Venus    4.870000e+24  12104000.0              NaN  5244.977070          464\n",
       "Earth    5.970000e+24  12756000.0             23.9  5493.285577           15\n",
       "Mars              NaN         NaN              NaN          NaN          -65"
      ]
     },
     "execution_count": 60,
     "metadata": {},
     "output_type": "execute_result"
    }
   ],
   "source": [
    "df.join(temperature, how='right')"
   ]
  },
  {
   "cell_type": "code",
   "execution_count": 61,
   "id": "6b740dca-5918-4c71-a399-202e418518ee",
   "metadata": {},
   "outputs": [],
   "source": [
    "df.loc['Mars','mass':'density'] = np.arange(4)"
   ]
  },
  {
   "cell_type": "code",
   "execution_count": 62,
   "id": "3abb9bc6-8075-4d0f-a35d-2182e4277adf",
   "metadata": {},
   "outputs": [
    {
     "data": {
      "text/html": [
       "<div>\n",
       "<style scoped>\n",
       "    .dataframe tbody tr th:only-of-type {\n",
       "        vertical-align: middle;\n",
       "    }\n",
       "\n",
       "    .dataframe tbody tr th {\n",
       "        vertical-align: top;\n",
       "    }\n",
       "\n",
       "    .dataframe thead th {\n",
       "        text-align: right;\n",
       "    }\n",
       "</style>\n",
       "<table border=\"1\" class=\"dataframe\">\n",
       "  <thead>\n",
       "    <tr style=\"text-align: right;\">\n",
       "      <th></th>\n",
       "      <th>mass</th>\n",
       "      <th>diameter</th>\n",
       "      <th>rotation_period</th>\n",
       "      <th>density</th>\n",
       "    </tr>\n",
       "  </thead>\n",
       "  <tbody>\n",
       "    <tr>\n",
       "      <th>Mercury</th>\n",
       "      <td>3.000000e+23</td>\n",
       "      <td>4879000.0</td>\n",
       "      <td>1407.6</td>\n",
       "      <td>4933.216530</td>\n",
       "    </tr>\n",
       "    <tr>\n",
       "      <th>Venus</th>\n",
       "      <td>4.870000e+24</td>\n",
       "      <td>12104000.0</td>\n",
       "      <td>NaN</td>\n",
       "      <td>5244.977070</td>\n",
       "    </tr>\n",
       "    <tr>\n",
       "      <th>Earth</th>\n",
       "      <td>5.970000e+24</td>\n",
       "      <td>12756000.0</td>\n",
       "      <td>23.9</td>\n",
       "      <td>5493.285577</td>\n",
       "    </tr>\n",
       "    <tr>\n",
       "      <th>Mars</th>\n",
       "      <td>0.000000e+00</td>\n",
       "      <td>1.0</td>\n",
       "      <td>2.0</td>\n",
       "      <td>3.000000</td>\n",
       "    </tr>\n",
       "  </tbody>\n",
       "</table>\n",
       "</div>"
      ],
      "text/plain": [
       "                 mass    diameter  rotation_period      density\n",
       "Mercury  3.000000e+23   4879000.0           1407.6  4933.216530\n",
       "Venus    4.870000e+24  12104000.0              NaN  5244.977070\n",
       "Earth    5.970000e+24  12756000.0             23.9  5493.285577\n",
       "Mars     0.000000e+00         1.0              2.0     3.000000"
      ]
     },
     "execution_count": 62,
     "metadata": {},
     "output_type": "execute_result"
    }
   ],
   "source": [
    "df"
   ]
  },
  {
   "cell_type": "code",
   "execution_count": 64,
   "id": "f4628571-c266-4940-8c97-585167fa1f42",
   "metadata": {},
   "outputs": [
    {
     "data": {
      "text/html": [
       "<div>\n",
       "<style scoped>\n",
       "    .dataframe tbody tr th:only-of-type {\n",
       "        vertical-align: middle;\n",
       "    }\n",
       "\n",
       "    .dataframe tbody tr th {\n",
       "        vertical-align: top;\n",
       "    }\n",
       "\n",
       "    .dataframe thead th {\n",
       "        text-align: right;\n",
       "    }\n",
       "</style>\n",
       "<table border=\"1\" class=\"dataframe\">\n",
       "  <thead>\n",
       "    <tr style=\"text-align: right;\">\n",
       "      <th></th>\n",
       "      <th>density</th>\n",
       "      <th>mass</th>\n",
       "      <th>rotation_period</th>\n",
       "      <th>diameter</th>\n",
       "    </tr>\n",
       "  </thead>\n",
       "  <tbody>\n",
       "    <tr>\n",
       "      <th>Mercury</th>\n",
       "      <td>4933.216530</td>\n",
       "      <td>3.000000e+23</td>\n",
       "      <td>1407.6</td>\n",
       "      <td>4879000.0</td>\n",
       "    </tr>\n",
       "    <tr>\n",
       "      <th>Venus</th>\n",
       "      <td>5244.977070</td>\n",
       "      <td>4.870000e+24</td>\n",
       "      <td>NaN</td>\n",
       "      <td>12104000.0</td>\n",
       "    </tr>\n",
       "    <tr>\n",
       "      <th>Earth</th>\n",
       "      <td>5493.285577</td>\n",
       "      <td>5.970000e+24</td>\n",
       "      <td>23.9</td>\n",
       "      <td>12756000.0</td>\n",
       "    </tr>\n",
       "    <tr>\n",
       "      <th>Mars</th>\n",
       "      <td>3.000000</td>\n",
       "      <td>0.000000e+00</td>\n",
       "      <td>2.0</td>\n",
       "      <td>1.0</td>\n",
       "    </tr>\n",
       "  </tbody>\n",
       "</table>\n",
       "</div>"
      ],
      "text/plain": [
       "             density          mass  rotation_period    diameter\n",
       "Mercury  4933.216530  3.000000e+23           1407.6   4879000.0\n",
       "Venus    5244.977070  4.870000e+24              NaN  12104000.0\n",
       "Earth    5493.285577  5.970000e+24             23.9  12756000.0\n",
       "Mars        3.000000  0.000000e+00              2.0         1.0"
      ]
     },
     "execution_count": 64,
     "metadata": {},
     "output_type": "execute_result"
    }
   ],
   "source": [
    "new_df = df[['density','mass','rotation_period','diameter']]\n",
    "new_df"
   ]
  },
  {
   "cell_type": "code",
   "execution_count": 65,
   "id": "034e5280-69cf-43de-be9f-e608242dc43b",
   "metadata": {},
   "outputs": [
    {
     "data": {
      "text/html": [
       "<div>\n",
       "<style scoped>\n",
       "    .dataframe tbody tr th:only-of-type {\n",
       "        vertical-align: middle;\n",
       "    }\n",
       "\n",
       "    .dataframe tbody tr th {\n",
       "        vertical-align: top;\n",
       "    }\n",
       "\n",
       "    .dataframe thead th {\n",
       "        text-align: right;\n",
       "    }\n",
       "</style>\n",
       "<table border=\"1\" class=\"dataframe\">\n",
       "  <thead>\n",
       "    <tr style=\"text-align: right;\">\n",
       "      <th></th>\n",
       "      <th>mass</th>\n",
       "      <th>diameter</th>\n",
       "      <th>rotation_period</th>\n",
       "      <th>density</th>\n",
       "    </tr>\n",
       "  </thead>\n",
       "  <tbody>\n",
       "    <tr>\n",
       "      <th>Mars</th>\n",
       "      <td>0.000000e+00</td>\n",
       "      <td>1.0</td>\n",
       "      <td>2.0</td>\n",
       "      <td>3.000000</td>\n",
       "    </tr>\n",
       "    <tr>\n",
       "      <th>Earth</th>\n",
       "      <td>5.970000e+24</td>\n",
       "      <td>12756000.0</td>\n",
       "      <td>23.9</td>\n",
       "      <td>5493.285577</td>\n",
       "    </tr>\n",
       "    <tr>\n",
       "      <th>Venus</th>\n",
       "      <td>4.870000e+24</td>\n",
       "      <td>12104000.0</td>\n",
       "      <td>NaN</td>\n",
       "      <td>5244.977070</td>\n",
       "    </tr>\n",
       "    <tr>\n",
       "      <th>Mercury</th>\n",
       "      <td>3.000000e+23</td>\n",
       "      <td>4879000.0</td>\n",
       "      <td>1407.6</td>\n",
       "      <td>4933.216530</td>\n",
       "    </tr>\n",
       "  </tbody>\n",
       "</table>\n",
       "</div>"
      ],
      "text/plain": [
       "                 mass    diameter  rotation_period      density\n",
       "Mars     0.000000e+00         1.0              2.0     3.000000\n",
       "Earth    5.970000e+24  12756000.0             23.9  5493.285577\n",
       "Venus    4.870000e+24  12104000.0              NaN  5244.977070\n",
       "Mercury  3.000000e+23   4879000.0           1407.6  4933.216530"
      ]
     },
     "execution_count": 65,
     "metadata": {},
     "output_type": "execute_result"
    }
   ],
   "source": [
    "newer_df = df.reindex(['Mars','Earth','Venus', 'Mercury'])\n",
    "newer_df"
   ]
  },
  {
   "cell_type": "code",
   "execution_count": 66,
   "id": "b28860a1-697f-443f-b685-d0b067aa0e08",
   "metadata": {},
   "outputs": [
    {
     "data": {
      "text/html": [
       "<div>\n",
       "<style scoped>\n",
       "    .dataframe tbody tr th:only-of-type {\n",
       "        vertical-align: middle;\n",
       "    }\n",
       "\n",
       "    .dataframe tbody tr th {\n",
       "        vertical-align: top;\n",
       "    }\n",
       "\n",
       "    .dataframe thead th {\n",
       "        text-align: right;\n",
       "    }\n",
       "</style>\n",
       "<table border=\"1\" class=\"dataframe\">\n",
       "  <thead>\n",
       "    <tr style=\"text-align: right;\">\n",
       "      <th></th>\n",
       "      <th>mass</th>\n",
       "      <th>diameter</th>\n",
       "      <th>rotation_period</th>\n",
       "      <th>density</th>\n",
       "    </tr>\n",
       "  </thead>\n",
       "  <tbody>\n",
       "    <tr>\n",
       "      <th>Mercury</th>\n",
       "      <td>3.000000e+23</td>\n",
       "      <td>4879000.0</td>\n",
       "      <td>1407.6</td>\n",
       "      <td>4933.216530</td>\n",
       "    </tr>\n",
       "    <tr>\n",
       "      <th>Venus</th>\n",
       "      <td>4.870000e+24</td>\n",
       "      <td>12104001.0</td>\n",
       "      <td>NaN</td>\n",
       "      <td>5244.977070</td>\n",
       "    </tr>\n",
       "    <tr>\n",
       "      <th>Earth</th>\n",
       "      <td>5.970000e+24</td>\n",
       "      <td>12756000.0</td>\n",
       "      <td>23.9</td>\n",
       "      <td>5493.285577</td>\n",
       "    </tr>\n",
       "    <tr>\n",
       "      <th>Mars</th>\n",
       "      <td>0.000000e+00</td>\n",
       "      <td>1.0</td>\n",
       "      <td>2.0</td>\n",
       "      <td>3.000000</td>\n",
       "    </tr>\n",
       "  </tbody>\n",
       "</table>\n",
       "</div>"
      ],
      "text/plain": [
       "                 mass    diameter  rotation_period      density\n",
       "Mercury  3.000000e+23   4879000.0           1407.6  4933.216530\n",
       "Venus    4.870000e+24  12104001.0              NaN  5244.977070\n",
       "Earth    5.970000e+24  12756000.0             23.9  5493.285577\n",
       "Mars     0.000000e+00         1.0              2.0     3.000000"
      ]
     },
     "execution_count": 66,
     "metadata": {},
     "output_type": "execute_result"
    }
   ],
   "source": [
    "df.loc['Venus','diameter'] += 1\n",
    "df"
   ]
  },
  {
   "cell_type": "markdown",
   "id": "6301f61e-a3ca-4f0f-87ec-d16f060a6582",
   "metadata": {},
   "source": [
    "# Plot"
   ]
  },
  {
   "cell_type": "code",
   "execution_count": 68,
   "id": "408e340e-bd7d-468b-ab4e-e6299a0a3eb4",
   "metadata": {},
   "outputs": [
    {
     "data": {
      "text/plain": [
       "<Axes: xlabel='mass', ylabel='diameter'>"
      ]
     },
     "execution_count": 68,
     "metadata": {},
     "output_type": "execute_result"
    },
    {
     "data": {
      "image/png": "[encoded data removed]",
      "text/plain": [
       "<Figure size 640x480 with 1 Axes>"
      ]
     },
     "metadata": {},
     "output_type": "display_data"
    }
   ],
   "source": [
    "df.plot(kind='scatter', x='mass', y='diameter', grid=True)"
   ]
  },
  {
   "cell_type": "code",
   "execution_count": 70,
   "id": "23f1b885-7204-41a7-a65d-9b814f6f2bc3",
   "metadata": {},
   "outputs": [
    {
     "data": {
      "text/plain": [
       "<Axes: >"
      ]
     },
     "execution_count": 70,
     "metadata": {},
     "output_type": "execute_result"
    },
    {
     "data": {
      "image/png": "[encoded data removed]",
      "text/plain": [
       "<Figure size 640x480 with 1 Axes>"
      ]
     },
     "metadata": {},
     "output_type": "display_data"
    }
   ],
   "source": [
    "df.plot(kind='bar', y='mass')"
   ]
  },
  {
   "cell_type": "markdown",
   "id": "8adf32d1-94e5-4e3a-9f57-9a60e31d24c0",
   "metadata": {},
   "source": [
    "# reading data files"
   ]
  },
  {
   "cell_type": "code",
   "execution_count": null,
   "id": "10008cb7-ea9b-430d-a2f1-b9249b13dbc4",
   "metadata": {},
   "outputs": [],
   "source": [
    "#from url\n",
    "url = \"https://www.ldeo.columbia.edu/~danielmw/Accra_PM2.5_2020_YTD.csv\"\n",
    "mydf = pd.read_csv(url)\n",
    "mydf"
   ]
  },
  {
   "cell_type": "code",
   "execution_count": 72,
   "id": "e4a7f3df-a72d-40d5-8122-32e2ff19b517",
   "metadata": {},
   "outputs": [
    {
     "data": {
      "text/html": [
       "<div>\n",
       "<style scoped>\n",
       "    .dataframe tbody tr th:only-of-type {\n",
       "        vertical-align: middle;\n",
       "    }\n",
       "\n",
       "    .dataframe tbody tr th {\n",
       "        vertical-align: top;\n",
       "    }\n",
       "\n",
       "    .dataframe thead th {\n",
       "        text-align: right;\n",
       "    }\n",
       "</style>\n",
       "<table border=\"1\" class=\"dataframe\">\n",
       "  <thead>\n",
       "    <tr style=\"text-align: right;\">\n",
       "      <th></th>\n",
       "      <th>Site</th>\n",
       "      <th>Parameter</th>\n",
       "      <th>Year</th>\n",
       "      <th>Month</th>\n",
       "      <th>Day</th>\n",
       "      <th>Hour</th>\n",
       "      <th>NowCast Conc.</th>\n",
       "      <th>AQI</th>\n",
       "      <th>AQI Category</th>\n",
       "      <th>Raw Conc.</th>\n",
       "      <th>Conc. Unit</th>\n",
       "      <th>Duration</th>\n",
       "      <th>QC Name</th>\n",
       "    </tr>\n",
       "    <tr>\n",
       "      <th>Date (LT)</th>\n",
       "      <th></th>\n",
       "      <th></th>\n",
       "      <th></th>\n",
       "      <th></th>\n",
       "      <th></th>\n",
       "      <th></th>\n",
       "      <th></th>\n",
       "      <th></th>\n",
       "      <th></th>\n",
       "      <th></th>\n",
       "      <th></th>\n",
       "      <th></th>\n",
       "      <th></th>\n",
       "    </tr>\n",
       "  </thead>\n",
       "  <tbody>\n",
       "    <tr>\n",
       "      <th>2020-01-27 04:00 PM</th>\n",
       "      <td>Accra</td>\n",
       "      <td>PM2.5 - Principal</td>\n",
       "      <td>2020</td>\n",
       "      <td>1</td>\n",
       "      <td>27</td>\n",
       "      <td>16</td>\n",
       "      <td>-999.0</td>\n",
       "      <td>-999</td>\n",
       "      <td>NaN</td>\n",
       "      <td>-5.0</td>\n",
       "      <td>UG/M3</td>\n",
       "      <td>1 Hr</td>\n",
       "      <td>Invalid</td>\n",
       "    </tr>\n",
       "    <tr>\n",
       "      <th>2020-01-27 06:00 PM</th>\n",
       "      <td>Accra</td>\n",
       "      <td>PM2.5 - Principal</td>\n",
       "      <td>2020</td>\n",
       "      <td>1</td>\n",
       "      <td>27</td>\n",
       "      <td>18</td>\n",
       "      <td>-999.0</td>\n",
       "      <td>-999</td>\n",
       "      <td>NaN</td>\n",
       "      <td>-12.0</td>\n",
       "      <td>UG/M3</td>\n",
       "      <td>1 Hr</td>\n",
       "      <td>Invalid</td>\n",
       "    </tr>\n",
       "    <tr>\n",
       "      <th>2020-01-27 07:00 PM</th>\n",
       "      <td>Accra</td>\n",
       "      <td>PM2.5 - Principal</td>\n",
       "      <td>2020</td>\n",
       "      <td>1</td>\n",
       "      <td>27</td>\n",
       "      <td>19</td>\n",
       "      <td>-999.0</td>\n",
       "      <td>-999</td>\n",
       "      <td>NaN</td>\n",
       "      <td>-7.0</td>\n",
       "      <td>UG/M3</td>\n",
       "      <td>1 Hr</td>\n",
       "      <td>Invalid</td>\n",
       "    </tr>\n",
       "    <tr>\n",
       "      <th>2020-01-27 08:00 PM</th>\n",
       "      <td>Accra</td>\n",
       "      <td>PM2.5 - Principal</td>\n",
       "      <td>2020</td>\n",
       "      <td>1</td>\n",
       "      <td>27</td>\n",
       "      <td>20</td>\n",
       "      <td>-999.0</td>\n",
       "      <td>-999</td>\n",
       "      <td>NaN</td>\n",
       "      <td>-4.0</td>\n",
       "      <td>UG/M3</td>\n",
       "      <td>1 Hr</td>\n",
       "      <td>Invalid</td>\n",
       "    </tr>\n",
       "    <tr>\n",
       "      <th>2020-01-27 09:00 PM</th>\n",
       "      <td>Accra</td>\n",
       "      <td>PM2.5 - Principal</td>\n",
       "      <td>2020</td>\n",
       "      <td>1</td>\n",
       "      <td>27</td>\n",
       "      <td>21</td>\n",
       "      <td>-999.0</td>\n",
       "      <td>-999</td>\n",
       "      <td>NaN</td>\n",
       "      <td>-7.0</td>\n",
       "      <td>UG/M3</td>\n",
       "      <td>1 Hr</td>\n",
       "      <td>Invalid</td>\n",
       "    </tr>\n",
       "    <tr>\n",
       "      <th>...</th>\n",
       "      <td>...</td>\n",
       "      <td>...</td>\n",
       "      <td>...</td>\n",
       "      <td>...</td>\n",
       "      <td>...</td>\n",
       "      <td>...</td>\n",
       "      <td>...</td>\n",
       "      <td>...</td>\n",
       "      <td>...</td>\n",
       "      <td>...</td>\n",
       "      <td>...</td>\n",
       "      <td>...</td>\n",
       "      <td>...</td>\n",
       "    </tr>\n",
       "    <tr>\n",
       "      <th>2020-12-31 08:00 PM</th>\n",
       "      <td>Accra</td>\n",
       "      <td>PM2.5 - Principal</td>\n",
       "      <td>2020</td>\n",
       "      <td>12</td>\n",
       "      <td>31</td>\n",
       "      <td>20</td>\n",
       "      <td>49.1</td>\n",
       "      <td>134</td>\n",
       "      <td>Unhealthy for Sensitive Groups</td>\n",
       "      <td>53.0</td>\n",
       "      <td>UG/M3</td>\n",
       "      <td>1 Hr</td>\n",
       "      <td>Valid</td>\n",
       "    </tr>\n",
       "    <tr>\n",
       "      <th>2020-12-31 09:00 PM</th>\n",
       "      <td>Accra</td>\n",
       "      <td>PM2.5 - Principal</td>\n",
       "      <td>2020</td>\n",
       "      <td>12</td>\n",
       "      <td>31</td>\n",
       "      <td>21</td>\n",
       "      <td>49.3</td>\n",
       "      <td>135</td>\n",
       "      <td>Unhealthy for Sensitive Groups</td>\n",
       "      <td>51.0</td>\n",
       "      <td>UG/M3</td>\n",
       "      <td>1 Hr</td>\n",
       "      <td>Valid</td>\n",
       "    </tr>\n",
       "    <tr>\n",
       "      <th>2020-12-31 10:00 PM</th>\n",
       "      <td>Accra</td>\n",
       "      <td>PM2.5 - Principal</td>\n",
       "      <td>2020</td>\n",
       "      <td>12</td>\n",
       "      <td>31</td>\n",
       "      <td>22</td>\n",
       "      <td>49.2</td>\n",
       "      <td>135</td>\n",
       "      <td>Unhealthy for Sensitive Groups</td>\n",
       "      <td>49.0</td>\n",
       "      <td>UG/M3</td>\n",
       "      <td>1 Hr</td>\n",
       "      <td>Valid</td>\n",
       "    </tr>\n",
       "    <tr>\n",
       "      <th>2020-12-31 11:00 PM</th>\n",
       "      <td>Accra</td>\n",
       "      <td>PM2.5 - Principal</td>\n",
       "      <td>2020</td>\n",
       "      <td>12</td>\n",
       "      <td>31</td>\n",
       "      <td>23</td>\n",
       "      <td>50.2</td>\n",
       "      <td>137</td>\n",
       "      <td>Unhealthy for Sensitive Groups</td>\n",
       "      <td>54.0</td>\n",
       "      <td>UG/M3</td>\n",
       "      <td>1 Hr</td>\n",
       "      <td>Valid</td>\n",
       "    </tr>\n",
       "    <tr>\n",
       "      <th>2021-01-01 12:00 AM</th>\n",
       "      <td>Accra</td>\n",
       "      <td>PM2.5 - Principal</td>\n",
       "      <td>2021</td>\n",
       "      <td>1</td>\n",
       "      <td>1</td>\n",
       "      <td>0</td>\n",
       "      <td>50.3</td>\n",
       "      <td>137</td>\n",
       "      <td>Unhealthy for Sensitive Groups</td>\n",
       "      <td>51.0</td>\n",
       "      <td>UG/M3</td>\n",
       "      <td>1 Hr</td>\n",
       "      <td>Valid</td>\n",
       "    </tr>\n",
       "  </tbody>\n",
       "</table>\n",
       "<p>8047 rows × 13 columns</p>\n",
       "</div>"
      ],
      "text/plain": [
       "                      Site          Parameter  Year  Month  Day  Hour  \\\n",
       "Date (LT)                                                               \n",
       "2020-01-27 04:00 PM  Accra  PM2.5 - Principal  2020      1   27    16   \n",
       "2020-01-27 06:00 PM  Accra  PM2.5 - Principal  2020      1   27    18   \n",
       "2020-01-27 07:00 PM  Accra  PM2.5 - Principal  2020      1   27    19   \n",
       "2020-01-27 08:00 PM  Accra  PM2.5 - Principal  2020      1   27    20   \n",
       "2020-01-27 09:00 PM  Accra  PM2.5 - Principal  2020      1   27    21   \n",
       "...                    ...                ...   ...    ...  ...   ...   \n",
       "2020-12-31 08:00 PM  Accra  PM2.5 - Principal  2020     12   31    20   \n",
       "2020-12-31 09:00 PM  Accra  PM2.5 - Principal  2020     12   31    21   \n",
       "2020-12-31 10:00 PM  Accra  PM2.5 - Principal  2020     12   31    22   \n",
       "2020-12-31 11:00 PM  Accra  PM2.5 - Principal  2020     12   31    23   \n",
       "2021-01-01 12:00 AM  Accra  PM2.5 - Principal  2021      1    1     0   \n",
       "\n",
       "                     NowCast Conc.  AQI                    AQI Category  \\\n",
       "Date (LT)                                                                 \n",
       "2020-01-27 04:00 PM         -999.0 -999                             NaN   \n",
       "2020-01-27 06:00 PM         -999.0 -999                             NaN   \n",
       "2020-01-27 07:00 PM         -999.0 -999                             NaN   \n",
       "2020-01-27 08:00 PM         -999.0 -999                             NaN   \n",
       "2020-01-27 09:00 PM         -999.0 -999                             NaN   \n",
       "...                            ...  ...                             ...   \n",
       "2020-12-31 08:00 PM           49.1  134  Unhealthy for Sensitive Groups   \n",
       "2020-12-31 09:00 PM           49.3  135  Unhealthy for Sensitive Groups   \n",
       "2020-12-31 10:00 PM           49.2  135  Unhealthy for Sensitive Groups   \n",
       "2020-12-31 11:00 PM           50.2  137  Unhealthy for Sensitive Groups   \n",
       "2021-01-01 12:00 AM           50.3  137  Unhealthy for Sensitive Groups   \n",
       "\n",
       "                     Raw Conc. Conc. Unit Duration  QC Name  \n",
       "Date (LT)                                                    \n",
       "2020-01-27 04:00 PM       -5.0      UG/M3     1 Hr  Invalid  \n",
       "2020-01-27 06:00 PM      -12.0      UG/M3     1 Hr  Invalid  \n",
       "2020-01-27 07:00 PM       -7.0      UG/M3     1 Hr  Invalid  \n",
       "2020-01-27 08:00 PM       -4.0      UG/M3     1 Hr  Invalid  \n",
       "2020-01-27 09:00 PM       -7.0      UG/M3     1 Hr  Invalid  \n",
       "...                        ...        ...      ...      ...  \n",
       "2020-12-31 08:00 PM       53.0      UG/M3     1 Hr    Valid  \n",
       "2020-12-31 09:00 PM       51.0      UG/M3     1 Hr    Valid  \n",
       "2020-12-31 10:00 PM       49.0      UG/M3     1 Hr    Valid  \n",
       "2020-12-31 11:00 PM       54.0      UG/M3     1 Hr    Valid  \n",
       "2021-01-01 12:00 AM       51.0      UG/M3     1 Hr    Valid  \n",
       "\n",
       "[8047 rows x 13 columns]"
      ]
     },
     "execution_count": 72,
     "metadata": {},
     "output_type": "execute_result"
    }
   ],
   "source": [
    "mydf.set_index('Date (LT)')"
   ]
  },
  {
   "cell_type": "code",
   "execution_count": 73,
   "id": "1ffd271f-3d0a-42fc-a99b-91e1cb903de7",
   "metadata": {},
   "outputs": [
    {
     "data": {
      "text/plain": [
       "<Axes: xlabel='Date (LT)'>"
      ]
     },
     "execution_count": 73,
     "metadata": {},
     "output_type": "execute_result"
    },
    {
     "data": {
      "image/png": "[encoded data removed]",
      "text/plain": [
       "<Figure size 640x480 with 1 Axes>"
      ]
     },
     "metadata": {},
     "output_type": "display_data"
    }
   ],
   "source": [
    "mydf.plot(x = 'Date (LT)', y = 'Raw Conc.')"
   ]
  },
  {
   "cell_type": "code",
   "execution_count": 76,
   "id": "201e0c3a-32c1-4adf-ace0-8a74fae48bb0",
   "metadata": {},
   "outputs": [],
   "source": [
    "nanmydf = mydf.replace(-999, np.nan)"
   ]
  },
  {
   "cell_type": "code",
   "execution_count": 78,
   "id": "ebe4c875-1e48-4bd0-b193-d392399fade9",
   "metadata": {},
   "outputs": [
    {
     "data": {
      "text/plain": [
       "<Axes: xlabel='Date (LT)'>"
      ]
     },
     "execution_count": 78,
     "metadata": {},
     "output_type": "execute_result"
    },
    {
     "data": {
      "image/png": "[encoded data removed]",
      "text/plain": [
       "<Figure size 640x480 with 1 Axes>"
      ]
     },
     "metadata": {},
     "output_type": "display_data"
    }
   ],
   "source": [
    "nanmydf.plot(x = 'Date (LT)', y = 'Raw Conc.', rot=90) "
   ]
  },
  {
   "cell_type": "code",
   "execution_count": 84,
   "id": "8c0a9d14-fab9-4b51-8418-2a0f3c1fb012",
   "metadata": {},
   "outputs": [
    {
     "name": "stderr",
     "output_type": "stream",
     "text": [
      "/tmp/ipykernel_461228/1890352094.py:1: UserWarning: Could not infer format, so each element will be parsed individually, falling back to `dateutil`. To ensure parsing is consistent and as-expected, please specify a format.\n",
      "  nanmydf['Datetime'] = pd.to_datetime(nanmydf['Date (LT)'])\n"
     ]
    },
    {
     "data": {
      "text/html": [
       "<div>\n",
       "<style scoped>\n",
       "    .dataframe tbody tr th:only-of-type {\n",
       "        vertical-align: middle;\n",
       "    }\n",
       "\n",
       "    .dataframe tbody tr th {\n",
       "        vertical-align: top;\n",
       "    }\n",
       "\n",
       "    .dataframe thead th {\n",
       "        text-align: right;\n",
       "    }\n",
       "</style>\n",
       "<table border=\"1\" class=\"dataframe\">\n",
       "  <thead>\n",
       "    <tr style=\"text-align: right;\">\n",
       "      <th></th>\n",
       "      <th>Site</th>\n",
       "      <th>Parameter</th>\n",
       "      <th>Date (LT)</th>\n",
       "      <th>Year</th>\n",
       "      <th>Month</th>\n",
       "      <th>Day</th>\n",
       "      <th>Hour</th>\n",
       "      <th>NowCast Conc.</th>\n",
       "      <th>AQI</th>\n",
       "      <th>AQI Category</th>\n",
       "      <th>Raw Conc.</th>\n",
       "      <th>Conc. Unit</th>\n",
       "      <th>Duration</th>\n",
       "      <th>QC Name</th>\n",
       "    </tr>\n",
       "    <tr>\n",
       "      <th>Datetime</th>\n",
       "      <th></th>\n",
       "      <th></th>\n",
       "      <th></th>\n",
       "      <th></th>\n",
       "      <th></th>\n",
       "      <th></th>\n",
       "      <th></th>\n",
       "      <th></th>\n",
       "      <th></th>\n",
       "      <th></th>\n",
       "      <th></th>\n",
       "      <th></th>\n",
       "      <th></th>\n",
       "      <th></th>\n",
       "    </tr>\n",
       "  </thead>\n",
       "  <tbody>\n",
       "    <tr>\n",
       "      <th>2020-01-27 16:00:00</th>\n",
       "      <td>Accra</td>\n",
       "      <td>PM2.5 - Principal</td>\n",
       "      <td>2020-01-27 04:00 PM</td>\n",
       "      <td>2020</td>\n",
       "      <td>1</td>\n",
       "      <td>27</td>\n",
       "      <td>16</td>\n",
       "      <td>NaN</td>\n",
       "      <td>NaN</td>\n",
       "      <td>NaN</td>\n",
       "      <td>-5.0</td>\n",
       "      <td>UG/M3</td>\n",
       "      <td>1 Hr</td>\n",
       "      <td>Invalid</td>\n",
       "    </tr>\n",
       "    <tr>\n",
       "      <th>2020-01-27 18:00:00</th>\n",
       "      <td>Accra</td>\n",
       "      <td>PM2.5 - Principal</td>\n",
       "      <td>2020-01-27 06:00 PM</td>\n",
       "      <td>2020</td>\n",
       "      <td>1</td>\n",
       "      <td>27</td>\n",
       "      <td>18</td>\n",
       "      <td>NaN</td>\n",
       "      <td>NaN</td>\n",
       "      <td>NaN</td>\n",
       "      <td>-12.0</td>\n",
       "      <td>UG/M3</td>\n",
       "      <td>1 Hr</td>\n",
       "      <td>Invalid</td>\n",
       "    </tr>\n",
       "    <tr>\n",
       "      <th>2020-01-27 19:00:00</th>\n",
       "      <td>Accra</td>\n",
       "      <td>PM2.5 - Principal</td>\n",
       "      <td>2020-01-27 07:00 PM</td>\n",
       "      <td>2020</td>\n",
       "      <td>1</td>\n",
       "      <td>27</td>\n",
       "      <td>19</td>\n",
       "      <td>NaN</td>\n",
       "      <td>NaN</td>\n",
       "      <td>NaN</td>\n",
       "      <td>-7.0</td>\n",
       "      <td>UG/M3</td>\n",
       "      <td>1 Hr</td>\n",
       "      <td>Invalid</td>\n",
       "    </tr>\n",
       "    <tr>\n",
       "      <th>2020-01-27 20:00:00</th>\n",
       "      <td>Accra</td>\n",
       "      <td>PM2.5 - Principal</td>\n",
       "      <td>2020-01-27 08:00 PM</td>\n",
       "      <td>2020</td>\n",
       "      <td>1</td>\n",
       "      <td>27</td>\n",
       "      <td>20</td>\n",
       "      <td>NaN</td>\n",
       "      <td>NaN</td>\n",
       "      <td>NaN</td>\n",
       "      <td>-4.0</td>\n",
       "      <td>UG/M3</td>\n",
       "      <td>1 Hr</td>\n",
       "      <td>Invalid</td>\n",
       "    </tr>\n",
       "    <tr>\n",
       "      <th>2020-01-27 21:00:00</th>\n",
       "      <td>Accra</td>\n",
       "      <td>PM2.5 - Principal</td>\n",
       "      <td>2020-01-27 09:00 PM</td>\n",
       "      <td>2020</td>\n",
       "      <td>1</td>\n",
       "      <td>27</td>\n",
       "      <td>21</td>\n",
       "      <td>NaN</td>\n",
       "      <td>NaN</td>\n",
       "      <td>NaN</td>\n",
       "      <td>-7.0</td>\n",
       "      <td>UG/M3</td>\n",
       "      <td>1 Hr</td>\n",
       "      <td>Invalid</td>\n",
       "    </tr>\n",
       "    <tr>\n",
       "      <th>...</th>\n",
       "      <td>...</td>\n",
       "      <td>...</td>\n",
       "      <td>...</td>\n",
       "      <td>...</td>\n",
       "      <td>...</td>\n",
       "      <td>...</td>\n",
       "      <td>...</td>\n",
       "      <td>...</td>\n",
       "      <td>...</td>\n",
       "      <td>...</td>\n",
       "      <td>...</td>\n",
       "      <td>...</td>\n",
       "      <td>...</td>\n",
       "      <td>...</td>\n",
       "    </tr>\n",
       "    <tr>\n",
       "      <th>2020-12-31 20:00:00</th>\n",
       "      <td>Accra</td>\n",
       "      <td>PM2.5 - Principal</td>\n",
       "      <td>2020-12-31 08:00 PM</td>\n",
       "      <td>2020</td>\n",
       "      <td>12</td>\n",
       "      <td>31</td>\n",
       "      <td>20</td>\n",
       "      <td>49.1</td>\n",
       "      <td>134.0</td>\n",
       "      <td>Unhealthy for Sensitive Groups</td>\n",
       "      <td>53.0</td>\n",
       "      <td>UG/M3</td>\n",
       "      <td>1 Hr</td>\n",
       "      <td>Valid</td>\n",
       "    </tr>\n",
       "    <tr>\n",
       "      <th>2020-12-31 21:00:00</th>\n",
       "      <td>Accra</td>\n",
       "      <td>PM2.5 - Principal</td>\n",
       "      <td>2020-12-31 09:00 PM</td>\n",
       "      <td>2020</td>\n",
       "      <td>12</td>\n",
       "      <td>31</td>\n",
       "      <td>21</td>\n",
       "      <td>49.3</td>\n",
       "      <td>135.0</td>\n",
       "      <td>Unhealthy for Sensitive Groups</td>\n",
       "      <td>51.0</td>\n",
       "      <td>UG/M3</td>\n",
       "      <td>1 Hr</td>\n",
       "      <td>Valid</td>\n",
       "    </tr>\n",
       "    <tr>\n",
       "      <th>2020-12-31 22:00:00</th>\n",
       "      <td>Accra</td>\n",
       "      <td>PM2.5 - Principal</td>\n",
       "      <td>2020-12-31 10:00 PM</td>\n",
       "      <td>2020</td>\n",
       "      <td>12</td>\n",
       "      <td>31</td>\n",
       "      <td>22</td>\n",
       "      <td>49.2</td>\n",
       "      <td>135.0</td>\n",
       "      <td>Unhealthy for Sensitive Groups</td>\n",
       "      <td>49.0</td>\n",
       "      <td>UG/M3</td>\n",
       "      <td>1 Hr</td>\n",
       "      <td>Valid</td>\n",
       "    </tr>\n",
       "    <tr>\n",
       "      <th>2020-12-31 23:00:00</th>\n",
       "      <td>Accra</td>\n",
       "      <td>PM2.5 - Principal</td>\n",
       "      <td>2020-12-31 11:00 PM</td>\n",
       "      <td>2020</td>\n",
       "      <td>12</td>\n",
       "      <td>31</td>\n",
       "      <td>23</td>\n",
       "      <td>50.2</td>\n",
       "      <td>137.0</td>\n",
       "      <td>Unhealthy for Sensitive Groups</td>\n",
       "      <td>54.0</td>\n",
       "      <td>UG/M3</td>\n",
       "      <td>1 Hr</td>\n",
       "      <td>Valid</td>\n",
       "    </tr>\n",
       "    <tr>\n",
       "      <th>2021-01-01 00:00:00</th>\n",
       "      <td>Accra</td>\n",
       "      <td>PM2.5 - Principal</td>\n",
       "      <td>2021-01-01 12:00 AM</td>\n",
       "      <td>2021</td>\n",
       "      <td>1</td>\n",
       "      <td>1</td>\n",
       "      <td>0</td>\n",
       "      <td>50.3</td>\n",
       "      <td>137.0</td>\n",
       "      <td>Unhealthy for Sensitive Groups</td>\n",
       "      <td>51.0</td>\n",
       "      <td>UG/M3</td>\n",
       "      <td>1 Hr</td>\n",
       "      <td>Valid</td>\n",
       "    </tr>\n",
       "  </tbody>\n",
       "</table>\n",
       "<p>8047 rows × 14 columns</p>\n",
       "</div>"
      ],
      "text/plain": [
       "                      Site          Parameter            Date (LT)  Year  \\\n",
       "Datetime                                                                   \n",
       "2020-01-27 16:00:00  Accra  PM2.5 - Principal  2020-01-27 04:00 PM  2020   \n",
       "2020-01-27 18:00:00  Accra  PM2.5 - Principal  2020-01-27 06:00 PM  2020   \n",
       "2020-01-27 19:00:00  Accra  PM2.5 - Principal  2020-01-27 07:00 PM  2020   \n",
       "2020-01-27 20:00:00  Accra  PM2.5 - Principal  2020-01-27 08:00 PM  2020   \n",
       "2020-01-27 21:00:00  Accra  PM2.5 - Principal  2020-01-27 09:00 PM  2020   \n",
       "...                    ...                ...                  ...   ...   \n",
       "2020-12-31 20:00:00  Accra  PM2.5 - Principal  2020-12-31 08:00 PM  2020   \n",
       "2020-12-31 21:00:00  Accra  PM2.5 - Principal  2020-12-31 09:00 PM  2020   \n",
       "2020-12-31 22:00:00  Accra  PM2.5 - Principal  2020-12-31 10:00 PM  2020   \n",
       "2020-12-31 23:00:00  Accra  PM2.5 - Principal  2020-12-31 11:00 PM  2020   \n",
       "2021-01-01 00:00:00  Accra  PM2.5 - Principal  2021-01-01 12:00 AM  2021   \n",
       "\n",
       "                     Month  Day  Hour  NowCast Conc.    AQI  \\\n",
       "Datetime                                                      \n",
       "2020-01-27 16:00:00      1   27    16            NaN    NaN   \n",
       "2020-01-27 18:00:00      1   27    18            NaN    NaN   \n",
       "2020-01-27 19:00:00      1   27    19            NaN    NaN   \n",
       "2020-01-27 20:00:00      1   27    20            NaN    NaN   \n",
       "2020-01-27 21:00:00      1   27    21            NaN    NaN   \n",
       "...                    ...  ...   ...            ...    ...   \n",
       "2020-12-31 20:00:00     12   31    20           49.1  134.0   \n",
       "2020-12-31 21:00:00     12   31    21           49.3  135.0   \n",
       "2020-12-31 22:00:00     12   31    22           49.2  135.0   \n",
       "2020-12-31 23:00:00     12   31    23           50.2  137.0   \n",
       "2021-01-01 00:00:00      1    1     0           50.3  137.0   \n",
       "\n",
       "                                       AQI Category  Raw Conc. Conc. Unit  \\\n",
       "Datetime                                                                    \n",
       "2020-01-27 16:00:00                             NaN       -5.0      UG/M3   \n",
       "2020-01-27 18:00:00                             NaN      -12.0      UG/M3   \n",
       "2020-01-27 19:00:00                             NaN       -7.0      UG/M3   \n",
       "2020-01-27 20:00:00                             NaN       -4.0      UG/M3   \n",
       "2020-01-27 21:00:00                             NaN       -7.0      UG/M3   \n",
       "...                                             ...        ...        ...   \n",
       "2020-12-31 20:00:00  Unhealthy for Sensitive Groups       53.0      UG/M3   \n",
       "2020-12-31 21:00:00  Unhealthy for Sensitive Groups       51.0      UG/M3   \n",
       "2020-12-31 22:00:00  Unhealthy for Sensitive Groups       49.0      UG/M3   \n",
       "2020-12-31 23:00:00  Unhealthy for Sensitive Groups       54.0      UG/M3   \n",
       "2021-01-01 00:00:00  Unhealthy for Sensitive Groups       51.0      UG/M3   \n",
       "\n",
       "                    Duration  QC Name  \n",
       "Datetime                               \n",
       "2020-01-27 16:00:00     1 Hr  Invalid  \n",
       "2020-01-27 18:00:00     1 Hr  Invalid  \n",
       "2020-01-27 19:00:00     1 Hr  Invalid  \n",
       "2020-01-27 20:00:00     1 Hr  Invalid  \n",
       "2020-01-27 21:00:00     1 Hr  Invalid  \n",
       "...                      ...      ...  \n",
       "2020-12-31 20:00:00     1 Hr    Valid  \n",
       "2020-12-31 21:00:00     1 Hr    Valid  \n",
       "2020-12-31 22:00:00     1 Hr    Valid  \n",
       "2020-12-31 23:00:00     1 Hr    Valid  \n",
       "2021-01-01 00:00:00     1 Hr    Valid  \n",
       "\n",
       "[8047 rows x 14 columns]"
      ]
     },
     "execution_count": 84,
     "metadata": {},
     "output_type": "execute_result"
    }
   ],
   "source": [
    "nanmydf['Datetime'] = pd.to_datetime(nanmydf['Date (LT)'])\n",
    "newdf = nanmydf.set_index('Datetime')\n",
    "newdf"
   ]
  },
  {
   "cell_type": "code",
   "execution_count": 86,
   "id": "f9452450-7231-49cf-8555-98b197c551ee",
   "metadata": {},
   "outputs": [
    {
     "data": {
      "text/plain": [
       "<Axes: xlabel='Datetime'>"
      ]
     },
     "execution_count": 86,
     "metadata": {},
     "output_type": "execute_result"
    },
    {
     "data": {
      "image/png": "[encoded data removed]",
      "text/plain": [
       "<Figure size 640x480 with 1 Axes>"
      ]
     },
     "metadata": {},
     "output_type": "display_data"
    }
   ],
   "source": [
    "newdf['Raw Conc.'].resample('D').mean().plot()"
   ]
  },
  {
   "cell_type": "code",
   "execution_count": 79,
   "id": "be56f55c-a383-4e66-be47-754019a95f4f",
   "metadata": {},
   "outputs": [
    {
     "data": {
      "text/plain": [
       "DatetimeIndex(['2014-01-01', '2014-01-02', '2014-01-03', '2014-01-04',\n",
       "               '2014-01-05', '2014-01-06', '2014-01-07', '2014-01-08',\n",
       "               '2014-01-09', '2014-01-10',\n",
       "               ...\n",
       "               '2015-12-22', '2015-12-23', '2015-12-24', '2015-12-25',\n",
       "               '2015-12-26', '2015-12-27', '2015-12-28', '2015-12-29',\n",
       "               '2015-12-30', '2015-12-31'],\n",
       "              dtype='datetime64[ns]', length=730, freq='D')"
      ]
     },
     "execution_count": 79,
     "metadata": {},
     "output_type": "execute_result"
    }
   ],
   "source": [
    "two_years = pd.date_range(start= '2014-01-01', end = '2015-12-31', freq='D')\n",
    "two_years"
   ]
  },
  {
   "cell_type": "code",
   "execution_count": 80,
   "id": "6d10df3a-13c8-42c2-9833-525ad78e43c2",
   "metadata": {},
   "outputs": [],
   "source": [
    "timeseries = pd.Series(np.sin(2*np.pi*two_years.dayofyear / 365), index=two_years)"
   ]
  },
  {
   "cell_type": "code",
   "execution_count": 81,
   "id": "eddb7e79-fe2a-4d58-95a3-0da121ea525e",
   "metadata": {},
   "outputs": [
    {
     "data": {
      "text/plain": [
       "<Axes: >"
      ]
     },
     "execution_count": 81,
     "metadata": {},
     "output_type": "execute_result"
    },
    {
     "data": {
      "image/png": "[encoded data removed]",
      "text/plain": [
       "<Figure size 640x480 with 1 Axes>"
      ]
     },
     "metadata": {},
     "output_type": "display_data"
    }
   ],
   "source": [
    "timeseries.plot()"
   ]
  },
  {
   "cell_type": "code",
   "execution_count": 82,
   "id": "8adf868a-90ec-43e9-ad6a-dbf3caf79031",
   "metadata": {},
   "outputs": [
    {
     "data": {
      "text/plain": [
       "<Axes: >"
      ]
     },
     "execution_count": 82,
     "metadata": {},
     "output_type": "execute_result"
    },
    {
     "data": {
      "image/png": "[encoded data removed]",
      "text/plain": [
       "<Figure size 640x480 with 1 Axes>"
      ]
     },
     "metadata": {},
     "output_type": "display_data"
    }
   ],
   "source": [
    "timeseries.loc['2015-01-01':'2015-06-30'].plot()"
   ]
  },
  {
   "cell_type": "code",
   "execution_count": null,
   "id": "bb0d174a-ef33-4473-9b18-3af8ea9c90ba",
   "metadata": {},
   "outputs": [],
   "source": []
  }
 ],
 "metadata": {
  "kernelspec": {
   "display_name": "pangeo23",
   "language": "python",
   "name": "pangeo23"
  },
  "language_info": {
   "codemirror_mode": {
    "name": "ipython",
    "version": 3
   },
   "file_extension": ".py",
   "mimetype": "text/x-python",
   "name": "python",
   "nbconvert_exporter": "python",
   "pygments_lexer": "ipython3",
   "version": "3.11.6"
  }
 },
 "nbformat": 4,
 "nbformat_minor": 5
}
