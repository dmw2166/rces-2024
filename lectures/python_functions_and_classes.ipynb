{
 "cells": [
  {
   "cell_type": "markdown",
   "id": "f1d11abf-8df0-4172-b811-863764c48db6",
   "metadata": {},
   "source": [
    "# Python Functions (and Classes)"
   ]
  },
  {
   "cell_type": "markdown",
   "id": "aac74790-2aca-46ad-84df-01e4c735b33b",
   "metadata": {},
   "source": [
    "## Functions"
   ]
  },
  {
   "cell_type": "code",
   "execution_count": 14,
   "id": "8e96a6ca-63bb-40fa-9e8b-704cbd985220",
   "metadata": {},
   "outputs": [],
   "source": [
    "def say_hello():\n",
    "    \"\"\"Return the word hello.\"\"\"\n",
    "    return 'Hello'"
   ]
  },
  {
   "cell_type": "code",
   "execution_count": 2,
   "id": "10e31937-8bc9-4b48-88b2-66a401806f3f",
   "metadata": {},
   "outputs": [
    {
     "name": "stdout",
     "output_type": "stream",
     "text": [
      "Variable    Type        Data/Info\n",
      "---------------------------------\n",
      "say_hello   function    <function say_hello at 0x7f45a01ede50>\n"
     ]
    }
   ],
   "source": [
    "whos"
   ]
  },
  {
   "cell_type": "code",
   "execution_count": 3,
   "id": "95241be7-965c-4546-9c9d-17cbaf8c4119",
   "metadata": {},
   "outputs": [
    {
     "data": {
      "text/plain": [
       "function"
      ]
     },
     "execution_count": 3,
     "metadata": {},
     "output_type": "execute_result"
    }
   ],
   "source": [
    "type(say_hello)"
   ]
  },
  {
   "cell_type": "code",
   "execution_count": 4,
   "id": "d23ddd2d-e873-4003-bebe-4f250fed2692",
   "metadata": {},
   "outputs": [
    {
     "data": {
      "text/plain": [
       "\u001b[0;31mSignature:\u001b[0m \u001b[0msay_hello\u001b[0m\u001b[0;34m(\u001b[0m\u001b[0;34m)\u001b[0m\u001b[0;34m\u001b[0m\u001b[0;34m\u001b[0m\u001b[0m\n",
       "\u001b[0;31mDocstring:\u001b[0m Return the word hello.\n",
       "\u001b[0;31mFile:\u001b[0m      /tmp/ipykernel_7720/1135883700.py\n",
       "\u001b[0;31mType:\u001b[0m      function\n"
      ]
     },
     "metadata": {},
     "output_type": "display_data"
    }
   ],
   "source": [
    "say_hello?"
   ]
  },
  {
   "cell_type": "code",
   "execution_count": 5,
   "id": "613eb852-3d01-4722-8d29-a59f74fa5f96",
   "metadata": {},
   "outputs": [
    {
     "data": {
      "text/plain": [
       "'Hello'"
      ]
     },
     "execution_count": 5,
     "metadata": {},
     "output_type": "execute_result"
    }
   ],
   "source": [
    "say_hello()"
   ]
  },
  {
   "cell_type": "code",
   "execution_count": 15,
   "id": "7ae79420-c1bb-44b8-98e2-9ccafbe14a02",
   "metadata": {},
   "outputs": [],
   "source": [
    "def say_hello_to(name):\n",
    "    \"\"\"Return a greeting to a name.\"\"\"\n",
    "    return 'Hello ' + name + '!'"
   ]
  },
  {
   "cell_type": "code",
   "execution_count": 16,
   "id": "a619401d-fb2a-4bda-97aa-41cfe38b4fd0",
   "metadata": {},
   "outputs": [
    {
     "data": {
      "text/plain": [
       "'Hello Tim!'"
      ]
     },
     "execution_count": 16,
     "metadata": {},
     "output_type": "execute_result"
    }
   ],
   "source": [
    "say_hello_to('Tim')"
   ]
  },
  {
   "cell_type": "code",
   "execution_count": 17,
   "id": "101ea9f9-7cb1-4ae4-883c-3538990edc86",
   "metadata": {},
   "outputs": [
    {
     "data": {
      "text/plain": [
       "'Hello World!'"
      ]
     },
     "execution_count": 17,
     "metadata": {},
     "output_type": "execute_result"
    }
   ],
   "source": [
    "say_hello_to('World')"
   ]
  },
  {
   "cell_type": "code",
   "execution_count": 18,
   "id": "851fcba4-0458-439c-93e6-18b126258aee",
   "metadata": {},
   "outputs": [
    {
     "ename": "TypeError",
     "evalue": "can only concatenate str (not \"int\") to str",
     "output_type": "error",
     "traceback": [
      "\u001b[0;31m---------------------------------------------------------------------------\u001b[0m",
      "\u001b[0;31mTypeError\u001b[0m                                 Traceback (most recent call last)",
      "Input \u001b[0;32mIn [18]\u001b[0m, in \u001b[0;36m<cell line: 1>\u001b[0;34m()\u001b[0m\n\u001b[0;32m----> 1\u001b[0m \u001b[43msay_hello_to\u001b[49m\u001b[43m(\u001b[49m\u001b[38;5;241;43m10\u001b[39;49m\u001b[43m)\u001b[49m\n",
      "Input \u001b[0;32mIn [15]\u001b[0m, in \u001b[0;36msay_hello_to\u001b[0;34m(name)\u001b[0m\n\u001b[1;32m      1\u001b[0m \u001b[38;5;28;01mdef\u001b[39;00m \u001b[38;5;21msay_hello_to\u001b[39m(name):\n\u001b[1;32m      2\u001b[0m     \u001b[38;5;124;03m\"\"\"Return a greeting to a name.\"\"\"\u001b[39;00m\n\u001b[0;32m----> 3\u001b[0m     \u001b[38;5;28;01mreturn\u001b[39;00m \u001b[38;5;124;43m'\u001b[39;49m\u001b[38;5;124;43mHello \u001b[39;49m\u001b[38;5;124;43m'\u001b[39;49m\u001b[43m \u001b[49m\u001b[38;5;241;43m+\u001b[39;49m\u001b[43m \u001b[49m\u001b[43mname\u001b[49m \u001b[38;5;241m+\u001b[39m \u001b[38;5;124m'\u001b[39m\u001b[38;5;124m!\u001b[39m\u001b[38;5;124m'\u001b[39m\n",
      "\u001b[0;31mTypeError\u001b[0m: can only concatenate str (not \"int\") to str"
     ]
    }
   ],
   "source": [
    "say_hello_to(10)"
   ]
  },
  {
   "cell_type": "code",
   "execution_count": 19,
   "id": "2b852135-6533-4385-b5c7-f28e6bea5f5f",
   "metadata": {},
   "outputs": [],
   "source": [
    "def say_hello_to(name):\n",
    "    \"\"\"Return a greeting to a name.\"\"\"\n",
    "    return 'Hello ' + str(name) + '!'"
   ]
  },
  {
   "cell_type": "code",
   "execution_count": 20,
   "id": "ce32b0db-58b8-49ff-a2aa-f437dc74b773",
   "metadata": {},
   "outputs": [
    {
     "data": {
      "text/plain": [
       "'Hello 10!'"
      ]
     },
     "execution_count": 20,
     "metadata": {},
     "output_type": "execute_result"
    }
   ],
   "source": [
    "say_hello_to(10)"
   ]
  },
  {
   "cell_type": "code",
   "execution_count": 22,
   "id": "70b03753-afe5-4f3f-889b-4c651c41631a",
   "metadata": {},
   "outputs": [],
   "source": [
    "def say_hello_or_hola(name, spanish=False):\n",
    "    if spanish:\n",
    "        greeting = 'Hola '\n",
    "    else:\n",
    "        greeting = 'Hello '\n",
    "    return greeting + name"
   ]
  },
  {
   "cell_type": "code",
   "execution_count": 23,
   "id": "96b53ddb-fa31-473d-94b6-2d6ca46e9983",
   "metadata": {},
   "outputs": [
    {
     "data": {
      "text/plain": [
       "'Hello Tim'"
      ]
     },
     "execution_count": 23,
     "metadata": {},
     "output_type": "execute_result"
    }
   ],
   "source": [
    "say_hello_or_hola('Tim')"
   ]
  },
  {
   "cell_type": "code",
   "execution_count": 24,
   "id": "d38ccc06-dd93-44dd-9f1f-ad17a07c464d",
   "metadata": {},
   "outputs": [
    {
     "data": {
      "text/plain": [
       "'Hola Tim'"
      ]
     },
     "execution_count": 24,
     "metadata": {},
     "output_type": "execute_result"
    }
   ],
   "source": [
    "say_hello_or_hola('Tim', spanish=True)"
   ]
  },
  {
   "cell_type": "code",
   "execution_count": 25,
   "id": "87fce281-c207-41e8-b9a3-29af177b0d06",
   "metadata": {},
   "outputs": [],
   "source": [
    "def say_hello_to_everyone(*args):\n",
    "    return ['Hello ' + str(a) for a in args]"
   ]
  },
  {
   "cell_type": "code",
   "execution_count": 26,
   "id": "f2f42509-6747-438f-8b60-5d21305a642c",
   "metadata": {},
   "outputs": [
    {
     "data": {
      "text/plain": [
       "['Hello Tim', 'Hello Caroline', 'Hello Ryan']"
      ]
     },
     "execution_count": 26,
     "metadata": {},
     "output_type": "execute_result"
    }
   ],
   "source": [
    "say_hello_to_everyone('Tim', 'Caroline', 'Ryan')"
   ]
  },
  {
   "cell_type": "markdown",
   "id": "d7a18380-45cf-4c89-801d-d354707ca3a5",
   "metadata": {},
   "source": [
    "## Namespaces"
   ]
  },
  {
   "cell_type": "code",
   "execution_count": 27,
   "id": "be41632e-4a27-494a-8aa3-1bbd05f9094c",
   "metadata": {},
   "outputs": [],
   "source": [
    "name = 'Tim'\n",
    "\n",
    "def print_name():\n",
    "    print(name)\n",
    "    \n",
    "def print_another_name():\n",
    "    name = 'Ryan'\n",
    "    print(name)"
   ]
  },
  {
   "cell_type": "code",
   "execution_count": 28,
   "id": "db2ded88-80b2-4c08-9a7f-af9335016e63",
   "metadata": {},
   "outputs": [
    {
     "name": "stdout",
     "output_type": "stream",
     "text": [
      "Tim\n"
     ]
    }
   ],
   "source": [
    "print(name)"
   ]
  },
  {
   "cell_type": "code",
   "execution_count": 29,
   "id": "b312d3d4-f431-4f2e-a2da-2c8402178c47",
   "metadata": {},
   "outputs": [
    {
     "name": "stdout",
     "output_type": "stream",
     "text": [
      "Ryan\n"
     ]
    }
   ],
   "source": [
    "print_another_name()"
   ]
  },
  {
   "cell_type": "code",
   "execution_count": 30,
   "id": "9361f24b-8939-4fbe-b19c-74a4963126ce",
   "metadata": {},
   "outputs": [
    {
     "name": "stdout",
     "output_type": "stream",
     "text": [
      "Tim\n"
     ]
    }
   ],
   "source": [
    "print(name)"
   ]
  },
  {
   "cell_type": "markdown",
   "id": "af0bd8df-ee64-4c41-82ce-67ab881c75ae",
   "metadata": {},
   "source": [
    "Fibonacci Sequence"
   ]
  },
  {
   "cell_type": "code",
   "execution_count": 34,
   "id": "9a2f4d58-972a-4c50-9732-02fb5864a1ea",
   "metadata": {},
   "outputs": [],
   "source": [
    "def fib(n):\n",
    "    l = [1, 1]\n",
    "    print(list(range(n-2)))\n",
    "    for i in range(n-2):\n",
    "        l.append(l[-1] + l[-2])\n",
    "    return l"
   ]
  },
  {
   "cell_type": "code",
   "execution_count": null,
   "id": "c801709b-8b55-4a28-b14b-0cc69a11a074",
   "metadata": {},
   "outputs": [],
   "source": [
    "fib(100)"
   ]
  },
  {
   "cell_type": "markdown",
   "id": "bdb5de8a-d5f4-4476-801b-4076171e4ef1",
   "metadata": {},
   "source": [
    "## Classes"
   ]
  },
  {
   "cell_type": "code",
   "execution_count": 37,
   "id": "77559495-a8a2-49e8-b05b-3170b3464538",
   "metadata": {},
   "outputs": [],
   "source": [
    "class Hurricane:\n",
    "    \n",
    "    def __init__(self, name):\n",
    "        self.name = name"
   ]
  },
  {
   "cell_type": "code",
   "execution_count": 38,
   "id": "dcb65a7a-75a6-400b-b5a2-c40559843958",
   "metadata": {},
   "outputs": [],
   "source": [
    "h = Hurricane('tim')"
   ]
  },
  {
   "cell_type": "code",
   "execution_count": 39,
   "id": "c4829635-df9c-4ec1-a406-fe46f853d6f2",
   "metadata": {},
   "outputs": [
    {
     "data": {
      "text/plain": [
       "<__main__.Hurricane at 0x7f45a2f21970>"
      ]
     },
     "execution_count": 39,
     "metadata": {},
     "output_type": "execute_result"
    }
   ],
   "source": [
    "h"
   ]
  },
  {
   "cell_type": "code",
   "execution_count": 40,
   "id": "414e18d5-d255-40a4-b5d9-e272b0fa103c",
   "metadata": {},
   "outputs": [
    {
     "data": {
      "text/plain": [
       "'tim'"
      ]
     },
     "execution_count": 40,
     "metadata": {},
     "output_type": "execute_result"
    }
   ],
   "source": [
    "h.name"
   ]
  },
  {
   "cell_type": "code",
   "execution_count": null,
   "id": "f288f307-b1fa-4645-a0a4-0279513edfe0",
   "metadata": {},
   "outputs": [],
   "source": [
    "dir(h)"
   ]
  },
  {
   "cell_type": "code",
   "execution_count": null,
   "id": "c1863977-b95a-485f-9902-e5920f850c0e",
   "metadata": {},
   "outputs": [],
   "source": []
  }
 ],
 "metadata": {
  "kernelspec": {
   "display_name": "Python 3 (ipykernel)",
   "language": "python",
   "name": "python3"
  },
  "language_info": {
   "codemirror_mode": {
    "name": "ipython",
    "version": 3
   },
   "file_extension": ".py",
   "mimetype": "text/x-python",
   "name": "python",
   "nbconvert_exporter": "python",
   "pygments_lexer": "ipython3",
   "version": "3.9.13"
  }
 },
 "nbformat": 4,
 "nbformat_minor": 5
}
