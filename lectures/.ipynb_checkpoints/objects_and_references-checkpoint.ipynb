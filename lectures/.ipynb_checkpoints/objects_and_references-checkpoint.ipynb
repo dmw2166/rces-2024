{
 "cells": [
  {
   "cell_type": "markdown",
   "id": "745a218a-6244-41fc-b2d8-74523a911dc0",
   "metadata": {},
   "source": [
    "# Objects and References and Handles and Variables"
   ]
  },
  {
   "cell_type": "code",
   "execution_count": 1,
   "id": "5fd6dd5f-b200-4171-9518-e17a0d6cbf23",
   "metadata": {},
   "outputs": [],
   "source": [
    "a = 1"
   ]
  },
  {
   "cell_type": "code",
   "execution_count": 2,
   "id": "461d220d-2777-4344-9917-e71f96305b5d",
   "metadata": {},
   "outputs": [
    {
     "data": {
      "text/plain": [
       "1"
      ]
     },
     "execution_count": 2,
     "metadata": {},
     "output_type": "execute_result"
    }
   ],
   "source": [
    "a"
   ]
  },
  {
   "cell_type": "code",
   "execution_count": 3,
   "id": "e165aaa9-a0ac-4503-94b3-89c44eebde07",
   "metadata": {},
   "outputs": [
    {
     "data": {
      "text/plain": [
       "int"
      ]
     },
     "execution_count": 3,
     "metadata": {},
     "output_type": "execute_result"
    }
   ],
   "source": [
    "type(a)"
   ]
  },
  {
   "cell_type": "code",
   "execution_count": null,
   "id": "9a1b9e33-511b-4478-96d1-4f1fdf80cb79",
   "metadata": {},
   "outputs": [],
   "source": [
    "dir(a)"
   ]
  },
  {
   "cell_type": "code",
   "execution_count": 6,
   "id": "39f30324-9180-4e94-9caa-36d71c2605b3",
   "metadata": {},
   "outputs": [
    {
     "data": {
      "text/plain": [
       "'0x7f8e6db04930'"
      ]
     },
     "execution_count": 6,
     "metadata": {},
     "output_type": "execute_result"
    }
   ],
   "source": [
    "hex(id(a))"
   ]
  },
  {
   "cell_type": "code",
   "execution_count": 7,
   "id": "691f4f77-595c-4142-b04d-cd0f25d1bf70",
   "metadata": {},
   "outputs": [],
   "source": [
    "from matplotlib import pyplot as plt"
   ]
  },
  {
   "cell_type": "code",
   "execution_count": 8,
   "id": "76137262-0c7c-4f19-9420-adfde03eb555",
   "metadata": {},
   "outputs": [
    {
     "data": {
      "image/png": "[encoded data removed]",
      "text/plain": [
       "<Figure size 640x480 with 1 Axes>"
      ]
     },
     "metadata": {},
     "output_type": "display_data"
    }
   ],
   "source": [
    "fig, ax = plt.subplots()"
   ]
  },
  {
   "cell_type": "code",
   "execution_count": 9,
   "id": "cf9f6aef-a0a3-4eaa-a6f8-c2fe882ae96e",
   "metadata": {},
   "outputs": [
    {
     "data": {
      "text/plain": [
       "\u001b[0;31mSignature:\u001b[0m\n",
       "\u001b[0mplt\u001b[0m\u001b[0;34m.\u001b[0m\u001b[0msubplots\u001b[0m\u001b[0;34m(\u001b[0m\u001b[0;34m\u001b[0m\n",
       "\u001b[0;34m\u001b[0m    \u001b[0mnrows\u001b[0m\u001b[0;34m=\u001b[0m\u001b[0;36m1\u001b[0m\u001b[0;34m,\u001b[0m\u001b[0;34m\u001b[0m\n",
       "\u001b[0;34m\u001b[0m    \u001b[0mncols\u001b[0m\u001b[0;34m=\u001b[0m\u001b[0;36m1\u001b[0m\u001b[0;34m,\u001b[0m\u001b[0;34m\u001b[0m\n",
       "\u001b[0;34m\u001b[0m    \u001b[0;34m*\u001b[0m\u001b[0;34m,\u001b[0m\u001b[0;34m\u001b[0m\n",
       "\u001b[0;34m\u001b[0m    \u001b[0msharex\u001b[0m\u001b[0;34m=\u001b[0m\u001b[0;32mFalse\u001b[0m\u001b[0;34m,\u001b[0m\u001b[0;34m\u001b[0m\n",
       "\u001b[0;34m\u001b[0m    \u001b[0msharey\u001b[0m\u001b[0;34m=\u001b[0m\u001b[0;32mFalse\u001b[0m\u001b[0;34m,\u001b[0m\u001b[0;34m\u001b[0m\n",
       "\u001b[0;34m\u001b[0m    \u001b[0msqueeze\u001b[0m\u001b[0;34m=\u001b[0m\u001b[0;32mTrue\u001b[0m\u001b[0;34m,\u001b[0m\u001b[0;34m\u001b[0m\n",
       "\u001b[0;34m\u001b[0m    \u001b[0mwidth_ratios\u001b[0m\u001b[0;34m=\u001b[0m\u001b[0;32mNone\u001b[0m\u001b[0;34m,\u001b[0m\u001b[0;34m\u001b[0m\n",
       "\u001b[0;34m\u001b[0m    \u001b[0mheight_ratios\u001b[0m\u001b[0;34m=\u001b[0m\u001b[0;32mNone\u001b[0m\u001b[0;34m,\u001b[0m\u001b[0;34m\u001b[0m\n",
       "\u001b[0;34m\u001b[0m    \u001b[0msubplot_kw\u001b[0m\u001b[0;34m=\u001b[0m\u001b[0;32mNone\u001b[0m\u001b[0;34m,\u001b[0m\u001b[0;34m\u001b[0m\n",
       "\u001b[0;34m\u001b[0m    \u001b[0mgridspec_kw\u001b[0m\u001b[0;34m=\u001b[0m\u001b[0;32mNone\u001b[0m\u001b[0;34m,\u001b[0m\u001b[0;34m\u001b[0m\n",
       "\u001b[0;34m\u001b[0m    \u001b[0;34m**\u001b[0m\u001b[0mfig_kw\u001b[0m\u001b[0;34m,\u001b[0m\u001b[0;34m\u001b[0m\n",
       "\u001b[0;34m\u001b[0m\u001b[0;34m)\u001b[0m\u001b[0;34m\u001b[0m\u001b[0;34m\u001b[0m\u001b[0m\n",
       "\u001b[0;31mDocstring:\u001b[0m\n",
       "Create a figure and a set of subplots.\n",
       "\n",
       "This utility wrapper makes it convenient to create common layouts of\n",
       "subplots, including the enclosing figure object, in a single call.\n",
       "\n",
       "Parameters\n",
       "----------\n",
       "nrows, ncols : int, default: 1\n",
       "    Number of rows/columns of the subplot grid.\n",
       "\n",
       "sharex, sharey : bool or {'none', 'all', 'row', 'col'}, default: False\n",
       "    Controls sharing of properties among x (*sharex*) or y (*sharey*)\n",
       "    axes:\n",
       "\n",
       "    - True or 'all': x- or y-axis will be shared among all subplots.\n",
       "    - False or 'none': each subplot x- or y-axis will be independent.\n",
       "    - 'row': each subplot row will share an x- or y-axis.\n",
       "    - 'col': each subplot column will share an x- or y-axis.\n",
       "\n",
       "    When subplots have a shared x-axis along a column, only the x tick\n",
       "    labels of the bottom subplot are created. Similarly, when subplots\n",
       "    have a shared y-axis along a row, only the y tick labels of the first\n",
       "    column subplot are created. To later turn other subplots' ticklabels\n",
       "    on, use `~matplotlib.axes.Axes.tick_params`.\n",
       "\n",
       "    When subplots have a shared axis that has units, calling\n",
       "    `~matplotlib.axis.Axis.set_units` will update each axis with the\n",
       "    new units.\n",
       "\n",
       "squeeze : bool, default: True\n",
       "    - If True, extra dimensions are squeezed out from the returned\n",
       "      array of `~matplotlib.axes.Axes`:\n",
       "\n",
       "      - if only one subplot is constructed (nrows=ncols=1), the\n",
       "        resulting single Axes object is returned as a scalar.\n",
       "      - for Nx1 or 1xM subplots, the returned object is a 1D numpy\n",
       "        object array of Axes objects.\n",
       "      - for NxM, subplots with N>1 and M>1 are returned as a 2D array.\n",
       "\n",
       "    - If False, no squeezing at all is done: the returned Axes object is\n",
       "      always a 2D array containing Axes instances, even if it ends up\n",
       "      being 1x1.\n",
       "\n",
       "width_ratios : array-like of length *ncols*, optional\n",
       "    Defines the relative widths of the columns. Each column gets a\n",
       "    relative width of ``width_ratios[i] / sum(width_ratios)``.\n",
       "    If not given, all columns will have the same width.  Equivalent\n",
       "    to ``gridspec_kw={'width_ratios': [...]}``.\n",
       "\n",
       "height_ratios : array-like of length *nrows*, optional\n",
       "    Defines the relative heights of the rows. Each row gets a\n",
       "    relative height of ``height_ratios[i] / sum(height_ratios)``.\n",
       "    If not given, all rows will have the same height. Convenience\n",
       "    for ``gridspec_kw={'height_ratios': [...]}``.\n",
       "\n",
       "subplot_kw : dict, optional\n",
       "    Dict with keywords passed to the\n",
       "    `~matplotlib.figure.Figure.add_subplot` call used to create each\n",
       "    subplot.\n",
       "\n",
       "gridspec_kw : dict, optional\n",
       "    Dict with keywords passed to the `~matplotlib.gridspec.GridSpec`\n",
       "    constructor used to create the grid the subplots are placed on.\n",
       "\n",
       "**fig_kw\n",
       "    All additional keyword arguments are passed to the\n",
       "    `.pyplot.figure` call.\n",
       "\n",
       "Returns\n",
       "-------\n",
       "fig : `.Figure`\n",
       "\n",
       "ax : `~.axes.Axes` or array of Axes\n",
       "    *ax* can be either a single `~.axes.Axes` object, or an array of Axes\n",
       "    objects if more than one subplot was created.  The dimensions of the\n",
       "    resulting array can be controlled with the squeeze keyword, see above.\n",
       "\n",
       "    Typical idioms for handling the return value are::\n",
       "\n",
       "        # using the variable ax for single a Axes\n",
       "        fig, ax = plt.subplots()\n",
       "\n",
       "        # using the variable axs for multiple Axes\n",
       "        fig, axs = plt.subplots(2, 2)\n",
       "\n",
       "        # using tuple unpacking for multiple Axes\n",
       "        fig, (ax1, ax2) = plt.subplots(1, 2)\n",
       "        fig, ((ax1, ax2), (ax3, ax4)) = plt.subplots(2, 2)\n",
       "\n",
       "    The names ``ax`` and pluralized ``axs`` are preferred over ``axes``\n",
       "    because for the latter it's not clear if it refers to a single\n",
       "    `~.axes.Axes` instance or a collection of these.\n",
       "\n",
       "See Also\n",
       "--------\n",
       ".pyplot.figure\n",
       ".pyplot.subplot\n",
       ".pyplot.axes\n",
       ".Figure.subplots\n",
       ".Figure.add_subplot\n",
       "\n",
       "Examples\n",
       "--------\n",
       "::\n",
       "\n",
       "    # First create some toy data:\n",
       "    x = np.linspace(0, 2*np.pi, 400)\n",
       "    y = np.sin(x**2)\n",
       "\n",
       "    # Create just a figure and only one subplot\n",
       "    fig, ax = plt.subplots()\n",
       "    ax.plot(x, y)\n",
       "    ax.set_title('Simple plot')\n",
       "\n",
       "    # Create two subplots and unpack the output array immediately\n",
       "    f, (ax1, ax2) = plt.subplots(1, 2, sharey=True)\n",
       "    ax1.plot(x, y)\n",
       "    ax1.set_title('Sharing Y axis')\n",
       "    ax2.scatter(x, y)\n",
       "\n",
       "    # Create four polar axes and access them through the returned array\n",
       "    fig, axs = plt.subplots(2, 2, subplot_kw=dict(projection=\"polar\"))\n",
       "    axs[0, 0].plot(x, y)\n",
       "    axs[1, 1].scatter(x, y)\n",
       "\n",
       "    # Share a X axis with each column of subplots\n",
       "    plt.subplots(2, 2, sharex='col')\n",
       "\n",
       "    # Share a Y axis with each row of subplots\n",
       "    plt.subplots(2, 2, sharey='row')\n",
       "\n",
       "    # Share both X and Y axes with all subplots\n",
       "    plt.subplots(2, 2, sharex='all', sharey='all')\n",
       "\n",
       "    # Note that this is the same as\n",
       "    plt.subplots(2, 2, sharex=True, sharey=True)\n",
       "\n",
       "    # Create figure number 10 with a single subplot\n",
       "    # and clears it if it already exists.\n",
       "    fig, ax = plt.subplots(num=10, clear=True)\n",
       "\u001b[0;31mFile:\u001b[0m      /srv/conda/envs/notebook/lib/python3.9/site-packages/matplotlib/pyplot.py\n",
       "\u001b[0;31mType:\u001b[0m      function\n"
      ]
     },
     "metadata": {},
     "output_type": "display_data"
    }
   ],
   "source": [
    "plt.subplots?"
   ]
  },
  {
   "cell_type": "code",
   "execution_count": 10,
   "id": "13a9e649-f740-4706-b059-8d30ccb6e8ac",
   "metadata": {},
   "outputs": [
    {
     "data": {
      "text/plain": [
       "matplotlib.figure.Figure"
      ]
     },
     "execution_count": 10,
     "metadata": {},
     "output_type": "execute_result"
    }
   ],
   "source": [
    "type(fig)"
   ]
  },
  {
   "cell_type": "code",
   "execution_count": 11,
   "id": "9a750e45-df36-4f8e-8a84-7c83aacc1659",
   "metadata": {},
   "outputs": [
    {
     "data": {
      "image/png": "[encoded data removed]",
      "text/plain": [
       "<Figure size 640x480 with 1 Axes>"
      ]
     },
     "execution_count": 11,
     "metadata": {},
     "output_type": "execute_result"
    }
   ],
   "source": [
    "fig"
   ]
  },
  {
   "cell_type": "code",
   "execution_count": 12,
   "id": "d811439a-0479-47a8-a1d8-5c7f77f7d97e",
   "metadata": {},
   "outputs": [
    {
     "data": {
      "text/plain": [
       "matplotlib.figure.Figure"
      ]
     },
     "execution_count": 12,
     "metadata": {},
     "output_type": "execute_result"
    }
   ],
   "source": [
    "type(fig)"
   ]
  },
  {
   "cell_type": "code",
   "execution_count": 13,
   "id": "cd511c92-c662-41dc-be28-7ee58892fd0a",
   "metadata": {},
   "outputs": [
    {
     "data": {
      "text/plain": [
       "'0x7f8e68133850'"
      ]
     },
     "execution_count": 13,
     "metadata": {},
     "output_type": "execute_result"
    }
   ],
   "source": [
    "hex(id(fig))"
   ]
  },
  {
   "cell_type": "code",
   "execution_count": null,
   "id": "05660c6e-4ef0-4a02-8924-0dc33cf7d167",
   "metadata": {},
   "outputs": [],
   "source": []
  }
 ],
 "metadata": {
  "kernelspec": {
   "display_name": "Python 3 (ipykernel)",
   "language": "python",
   "name": "python3"
  },
  "language_info": {
   "codemirror_mode": {
    "name": "ipython",
    "version": 3
   },
   "file_extension": ".py",
   "mimetype": "text/x-python",
   "name": "python",
   "nbconvert_exporter": "python",
   "pygments_lexer": "ipython3",
   "version": "3.9.13"
  }
 },
 "nbformat": 4,
 "nbformat_minor": 5
}
