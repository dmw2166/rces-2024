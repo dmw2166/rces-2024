{
 "cells": [
  {
   "cell_type": "markdown",
   "metadata": {
    "slideshow": {
     "slide_type": "slide"
    }
   },
   "source": [
    "# Projections, reference systems and other geospatial nomenclature"
   ]
  },
  {
   "cell_type": "markdown",
   "metadata": {
    "slideshow": {
     "slide_type": "subslide"
    }
   },
   "source": [
    "## Purpose\n",
    "\n",
    "The purpose of this section is to give you a background on map projections, reference systems and other geospatial terms. This will help you to:\n",
    " \n",
    " * choose map projections that are appropriate for your situation/application\n",
    " * understand the terms used in the cartopy documentation and wider geospatial literature"
   ]
  },
  {
   "cell_type": "markdown",
   "metadata": {
    "slideshow": {
     "slide_type": "slide"
    }
   },
   "source": [
    "# The world *is not* flat / 2D (sorry flat-Earthers)\n",
    "\n",
    "<img src=\"../appendix/maps/azim-eq.png\" style=\"max-height: 55vh; margin-left: auto; margin-right: auto;\">\n",
    "\n",
    "\"Azimuthal equidistant projections of the sphere ... have been co-opted as images of the flat Earth model, depicting Antarctica as an ice wall surrounding a disk-shaped Earth.\" ([Wikipedia: Flat Earth](https://en.wikipedia.org/wiki/Flat_Earth#Flat_Earth_Society))"
   ]
  },
  {
   "cell_type": "markdown",
   "metadata": {
    "slideshow": {
     "slide_type": "subslide"
    }
   },
   "source": [
    "## Most of our media for visualization *are* flat\n",
    "\n",
    "Our two most common media are flat:\n",
    "\n",
    " * Paper\n",
    " * Screen\n",
    "\n",
    "![](static/flat_medium.jpg)\n"
   ]
  },
  {
   "cell_type": "markdown",
   "metadata": {
    "slideshow": {
     "slide_type": "subslide"
    }
   },
   "source": [
    "### But there are *a few* that aren't...\n",
    "\n",
    "For example:\n",
    "\n",
    " * 3D rendering engine (the engine is then typically responsible for projecting the data to 2D for presentation to screen)\n",
    " * A Spherical Projector...\n"
   ]
  },
  {
   "cell_type": "markdown",
   "metadata": {
    "slideshow": {
     "slide_type": "slide"
    }
   },
   "source": [
    "## [Map] Projections: Taking us from spherical to flat\n",
    "\n",
    "A map projection (or more commonly refered to as just \"projection\") is:\n",
    "\n",
    "> a systematic transformation of the latitudes and longitudes of locations from the surface of a sphere or an ellipsoid into locations on a plane. [[Wikipedia: Map projection](https://en.wikipedia.org/wiki/Map_projection)]."
   ]
  },
  {
   "cell_type": "markdown",
   "metadata": {
    "slideshow": {
     "slide_type": "subslide"
    }
   },
   "source": [
    "## The major problem with map projections\n",
    "\n",
    "<img src=\"../static/orange_peel.jpg\" style=\"margin-left: auto; margin-right: auto;\">\n",
    "\n",
    " * The surface of a sphere is topologically different to a 2D surface, therefore we *have* to cut the sphere *somewhere*\n",
    " * A sphere's surface cannot be represented on a plane without distortion."
   ]
  },
  {
   "cell_type": "markdown",
   "metadata": {
    "slideshow": {
     "slide_type": "subslide"
    }
   },
   "source": [
    "### Common distortions of map projections\n",
    "\n",
    "Metric properties of maps that are often not preserved:\n",
    "\n",
    "* Area\n",
    "* Shape\n",
    "* Direction\n",
    "* Distance\n",
    "* Scale"
   ]
  },
  {
   "cell_type": "markdown",
   "metadata": {
    "slideshow": {
     "slide_type": "subslide"
    }
   },
   "source": [
    "> all ~~models~~ map projections are wrong, but some are useful - Phileas Elson (SciPy 2018)"
   ]
  },
  {
   "cell_type": "markdown",
   "metadata": {
    "slideshow": {
     "slide_type": "slide"
    }
   },
   "source": [
    "## Classifying projections\n",
    "\n",
    "Two common approaches:\n",
    "\n",
    " 1. By [2D] surface classification\n",
    " 2. By preserving metric"
   ]
  },
  {
   "cell_type": "markdown",
   "metadata": {
    "slideshow": {
     "slide_type": "subslide"
    }
   },
   "source": [
    "### Projections by surface classification\n",
    "\n",
    "![](../static/projections.gif)\n",
    "\n",
    "Downside: Not all projections can be classified in this way -> Leads to big \"pseudo\" and \"other\" groups."
   ]
  },
  {
   "cell_type": "markdown",
   "metadata": {
    "slideshow": {
     "slide_type": "subslide"
    }
   },
   "source": [
    "## Surface classification: Cylindrical\n",
    "\n",
    "<img src=\"../static/cylindrical.png\" style=\"margin-left: auto; margin-right: auto; height: 40vh;\">\n",
    "<p style=\"font-size: xx-small; float: right;\">\n",
    "Source: http://ayresriverblog.com/2011/05/19/the-world-is-flat/\n",
    "</p>\n",
    "\n",
    "\n",
    "* Meridians and paralells are straight and perpendicular.\n"
   ]
  },
  {
   "cell_type": "markdown",
   "metadata": {
    "slideshow": {
     "slide_type": "subslide"
    }
   },
   "source": [
    "## Surface classification: Azimuthal\n",
    "\n",
    "<img src=\"../static/azimuthal.png\" style=\"margin-left: auto; margin-right: auto; height: 40vh;\">\n",
    "<p style=\"font-size: xx-small; float: right;\">\n",
    "Source: http://ayresriverblog.com/2011/05/19/the-world-is-flat/\n",
    "</p>\n",
    "\n",
    "\n",
    "* Parallels are complete circles\n",
    "* Great circles from central point are straight lines."
   ]
  },
  {
   "cell_type": "markdown",
   "metadata": {
    "slideshow": {
     "slide_type": "subslide"
    }
   },
   "source": [
    "## Surface classification: Conic\n",
    "<img src=\"../static/conic.png\" style=\"margin-left: auto; margin-right: auto; height: 40vh;\">\n",
    "<p style=\"font-size: xx-small; float: right;\">\n",
    "Source: http://ayresriverblog.com/2011/05/19/the-world-is-flat/\n",
    "</p>\n",
    "\n",
    "* Meridians are straight equally-spaced lines\n",
    "* Parallels are circular arcs."
   ]
  },
  {
   "cell_type": "markdown",
   "metadata": {
    "slideshow": {
     "slide_type": "slide"
    }
   },
   "source": [
    "### Projections by preserving metric\n",
    "\n",
    "Downside: Some projections can live in multiple groups."
   ]
  },
  {
   "cell_type": "markdown",
   "metadata": {
    "slideshow": {
     "slide_type": "subslide"
    }
   },
   "source": [
    "## Preserving metric: Conformal\n",
    "\n",
    "Also known as Orthomorphic.\n",
    "\n",
    "These projections preserve angles locally. Implying that circles anywhere on the Earth's surface map to circles of *varying size* in the projected space.\n",
    "\n",
    "Examples of conformal projections:\n",
    "\n",
    " * Mercator\n",
    " * Transverse Mercator\n",
    " * Stereographic\n",
    " * Lambert conformal conic"
   ]
  },
  {
   "cell_type": "markdown",
   "metadata": {
    "slideshow": {
     "slide_type": "subslide"
    }
   },
   "source": [
    "## Preserving metric: Conformal\n",
    "\n",
    "### Use in large scale maps (zoomed in)\n",
    "\n",
    "Often used to preserve shape to represent their physical counterpart.\n",
    "Seamless online maps like OSM/Google/Bing use a Mercator projection:\n",
    "\n",
    "> The first launch of [Google] Maps actually did not use Mercator, and streets in high latitude places like Stockholm did not meet at right angles on the map the way they do in reality. [[ref](https://productforums.google.com/d/msg/maps/A2ygEJ5eG-o/KbZr_B0h2hkJ)]\n",
    "\n",
    "The major drawback: it is difficult to compare lengths or areas"
   ]
  },
  {
   "cell_type": "markdown",
   "metadata": {
    "slideshow": {
     "slide_type": "subslide"
    }
   },
   "source": [
    "## Preserving metric: Conformal\n",
    "\n",
    "### Use in small scale maps (zoomed out)\n",
    "\n",
    "Maps reflecting directions, such as an [aero]nautical chart, or whose gradients are important,\n",
    "such as a weather maps, are often projected by conformal projections.\n",
    "\n",
    "Historically, many world maps are drawn by conformal projections, but the fact that the scale of the map\n",
    "varies by location makes it difficult to compare lengths or areas.\n",
    "Some have gone as far as calling the Mercator projection imperialistic and racist.\n"
   ]
  },
  {
   "cell_type": "markdown",
   "metadata": {
    "slideshow": {
     "slide_type": "subslide"
    }
   },
   "source": [
    "## Preseving metric: Equidistant\n",
    "\n",
    "No map projection can be universally equidistant.\n",
    "\n",
    "Some projections preserve distance from some standard point or line.\n",
    "\n",
    "Examples of projections that preserve distances along meridians (but not parallels):\n",
    "\n",
    " * Equirectangular / Plate Carree\n",
    " * Azimuthal equidistant\n"
   ]
  },
  {
   "cell_type": "markdown",
   "metadata": {
    "slideshow": {
     "slide_type": "subslide"
    }
   },
   "source": [
    "## Preseving metric: Equal-area\n",
    "\n",
    "\n",
    "Equal-area maps preserve area measure, generally distorting shapes in order to do so.\n",
    "\n",
    "Examples of equal area projections:\n",
    " * Albers conic\n",
    " * Eckert IV\n",
    " * Goode's homolosine\n",
    " * Lambert azimuthal equal-area\n",
    " * Lambert cylindrical equal-area\n",
    " * Sinusoidal"
   ]
  },
  {
   "cell_type": "markdown",
   "metadata": {
    "slideshow": {
     "slide_type": "subslide"
    }
   },
   "source": [
    "## Preseving metric: Compromise\n",
    "\n",
    "Rather than perfectly preserving any metric properties, compromise\n",
    "projections aim strike a balance between distortions.\n",
    "These compromises are often at the cost of polar distortions.\n",
    "\n",
    "Examples:\n",
    "    \n",
    " * Miller\n",
    " * Robinson\n",
    " * Winkel Tripel"
   ]
  },
  {
   "cell_type": "markdown",
   "metadata": {
    "slideshow": {
     "slide_type": "slide"
    }
   },
   "source": [
    "## Tissot's indicatrix\n",
    "\n",
    "A mathematical contrivance in order to characterize local distortions of a map projection. Multiple circles (on the sphere/ellipse) of constant area are drawn on the map. By analysing the distortions, we can identify (or more often rule-out) particular preserving metrics.\n",
    "\n",
    "\n",
    "<img src=\"../appendix/maps/tissot.platecarree.1000km.png\" style=\"margin-left: auto; margin-right: auto;\">\n"
   ]
  },
  {
   "cell_type": "markdown",
   "metadata": {
    "slideshow": {
     "slide_type": "subslide"
    }
   },
   "source": [
    "## Tissot's indicatrix\n",
    "\n",
    "#### Identifying conformal projections:\n",
    "\n",
    "Circles on the sphere will remain circles (of potentially different size/area) on the map if the projection is conformal.\n",
    "\n",
    "#### Identifying equal-area projections:\n",
    "\n",
    "Circles of constant area on the sphere will be *polygons* of constant area on the map if the projection is equal-area.\n",
    "\n",
    "  >  *Further Hint:* Greenland should be ~14x smaller than Africa."
   ]
  },
  {
   "cell_type": "markdown",
   "metadata": {
    "slideshow": {
     "slide_type": "subslide"
    }
   },
   "source": [
    "## Tissot's indicatrix\n",
    "\n",
    "#### Identifying equidistant projections:\n",
    "\n",
    "For projections that preserve distance along meridians, the *polygons* (projected circles) on the map will have the same length if measured along a particular meridian.\n",
    "\n",
    "Further hint: the distance between between parallels being the same along a meridian is also a useful hint that a projection is equidistant."
   ]
  },
  {
   "cell_type": "markdown",
   "metadata": {
    "slideshow": {
     "slide_type": "subslide"
    }
   },
   "source": [
    "## Exercise: Identify the projection\n",
    "\n",
    "In total, there are 8 different map projections printed on the handouts around the room. Each projection is labeled A to H.\n",
    "\n",
    "**Exercise 1:**\n",
    "The exercise is to fill in the table on your handout to identify the name of all 8 projections by evaluating their metric preserving properties and cross-referencing the table below. Your handout contains only 3 projections, so you will need to work collaboratively to complete the exercise...\n",
    "\n",
    "Projection | Conformal | Equal-area | Equidistant <br>(along all meridians) | Surface classification\n",
    "--- | --- | --- | --- \n",
    "**Albers equal-area**           | ✕ | ✔ | ✕ | Conic\n",
    "**Azimuthal Equidistant**       | ✕ | ✕ | ✔ | Azimuthal\n",
    "**Equidistant / Plate Carree ** | ✕ | ✕ | ✔ | Cylindrical\n",
    "**Lambert conformal**           | ✔ | ✕ | ✕ | Conic\n",
    "**Mercator**                    | ✔ | ✕ | ✕ | Cylindrical\n",
    "**Robinson**                    | ✕ | ✕ | ✕ | Pseudocylindrical\n",
    "**Sinusoidal**                  | ✕ | ✔ | ✕ | Pseudocylindrical\n",
    "**Stereographic**               | ✔ | ✕ | ✕ | Azimuthal"
   ]
  },
  {
   "cell_type": "markdown",
   "metadata": {
    "slideshow": {
     "slide_type": "slide"
    }
   },
   "source": [
    "## Questions?\n",
    "\n",
    "### Has this helped you to:\n",
    "    \n",
    " * choose map projections that are appropriate for your situation/application\n",
    " * understand the terms used in the cartopy documentation and wider geospatial literature"
   ]
  }
 ],
 "metadata": {
  "kernelspec": {
   "display_name": "Python 3",
   "language": "python",
   "name": "python3"
  },
  "language_info": {
   "codemirror_mode": {
    "name": "ipython",
    "version": 3
   },
   "file_extension": ".py",
   "mimetype": "text/x-python",
   "name": "python",
   "nbconvert_exporter": "python",
   "pygments_lexer": "ipython3",
   "version": "3.6.5"
  },
  "livereveal": {
   "auto_select": "none",
   "autolaunch": "true",
   "footer": " ",
   "header": "<script src='/files/static/theme/reveal.js'></script>",
   "start_slideshow_at": "selected"
  }
 },
 "nbformat": 4,
 "nbformat_minor": 2
}
