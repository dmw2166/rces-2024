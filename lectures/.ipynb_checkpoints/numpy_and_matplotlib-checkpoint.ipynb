{
 "cells": [
  {
   "cell_type": "markdown",
   "id": "304d545f-02de-4efd-bdd5-34ff04efa22a",
   "metadata": {},
   "source": [
    "# Numpy and Matplotlib"
   ]
  },
  {
   "cell_type": "markdown",
   "id": "035064aa-a8a3-4510-875a-2a55e938972b",
   "metadata": {},
   "source": [
    "## Importing a Package"
   ]
  },
  {
   "cell_type": "code",
   "execution_count": 1,
   "id": "12f5f2ea-f1c7-44d6-b310-95a589bedc66",
   "metadata": {},
   "outputs": [],
   "source": [
    "import numpy as np"
   ]
  },
  {
   "cell_type": "code",
   "execution_count": 2,
   "id": "54939201-aae8-4bb0-ab4c-787dac312ef4",
   "metadata": {},
   "outputs": [
    {
     "name": "stdout",
     "output_type": "stream",
     "text": [
      "Variable   Type      Data/Info\n",
      "------------------------------\n",
      "np         module    <module 'numpy' from '/op<...>kages/numpy/__init__.py'>\n"
     ]
    }
   ],
   "source": [
    "whos"
   ]
  },
  {
   "cell_type": "code",
   "execution_count": null,
   "id": "699ce03d-97b7-4f14-9a40-f8b209f6073a",
   "metadata": {},
   "outputs": [],
   "source": [
    "dir(np)"
   ]
  },
  {
   "cell_type": "markdown",
   "id": "bd42a83e-988e-451f-a059-c22d86f54a3d",
   "metadata": {},
   "source": [
    "## NDArrays"
   ]
  },
  {
   "cell_type": "code",
   "execution_count": 4,
   "id": "e510a71e-c559-401f-9ab3-63ac1c35885b",
   "metadata": {},
   "outputs": [],
   "source": [
    "a = np.array([9, 0, 2, 1, 0])"
   ]
  },
  {
   "cell_type": "code",
   "execution_count": 5,
   "id": "4f3837ce-5f77-45ae-93c7-4c081827a8af",
   "metadata": {},
   "outputs": [
    {
     "data": {
      "text/plain": [
       "array([9, 0, 2, 1, 0])"
      ]
     },
     "execution_count": 5,
     "metadata": {},
     "output_type": "execute_result"
    }
   ],
   "source": [
    "a"
   ]
  },
  {
   "cell_type": "code",
   "execution_count": 6,
   "id": "552d6b71-4688-461d-8d22-5a2106a8f483",
   "metadata": {},
   "outputs": [
    {
     "data": {
      "text/plain": [
       "numpy.ndarray"
      ]
     },
     "execution_count": 6,
     "metadata": {},
     "output_type": "execute_result"
    }
   ],
   "source": [
    "type(a)"
   ]
  },
  {
   "cell_type": "code",
   "execution_count": 7,
   "id": "4cd2db34-fe68-48ee-8188-1997c92d4a06",
   "metadata": {},
   "outputs": [
    {
     "data": {
      "text/plain": [
       "(5,)"
      ]
     },
     "execution_count": 7,
     "metadata": {},
     "output_type": "execute_result"
    }
   ],
   "source": [
    "a.shape"
   ]
  },
  {
   "cell_type": "code",
   "execution_count": 8,
   "id": "a188af15-f12f-411c-9299-044675c55905",
   "metadata": {},
   "outputs": [
    {
     "ename": "TypeError",
     "evalue": "'tuple' object is not callable",
     "output_type": "error",
     "traceback": [
      "\u001b[0;31m---------------------------------------------------------------------------\u001b[0m",
      "\u001b[0;31mTypeError\u001b[0m                                 Traceback (most recent call last)",
      "Cell \u001b[0;32mIn[8], line 1\u001b[0m\n\u001b[0;32m----> 1\u001b[0m a\u001b[38;5;241m.\u001b[39mshape()\n",
      "\u001b[0;31mTypeError\u001b[0m: 'tuple' object is not callable"
     ]
    }
   ],
   "source": [
    "a.shape()"
   ]
  },
  {
   "cell_type": "code",
   "execution_count": 9,
   "id": "fc11522c-dc8a-4056-861e-97a76699cb14",
   "metadata": {},
   "outputs": [
    {
     "data": {
      "text/plain": [
       "numpy.int64"
      ]
     },
     "execution_count": 9,
     "metadata": {},
     "output_type": "execute_result"
    }
   ],
   "source": [
    "type(a[0])"
   ]
  },
  {
   "cell_type": "code",
   "execution_count": 10,
   "id": "1e7e771b-cf5d-495b-80c4-8a6eeae2da47",
   "metadata": {},
   "outputs": [],
   "source": [
    "b = np.array([[5, 3, 1, 9], [9, 2, 3, 0]], dtype=np.float64)"
   ]
  },
  {
   "cell_type": "code",
   "execution_count": 11,
   "id": "07daf639-5011-4801-ba9c-7a7579ff4bad",
   "metadata": {},
   "outputs": [
    {
     "data": {
      "text/plain": [
       "array([[5., 3., 1., 9.],\n",
       "       [9., 2., 3., 0.]])"
      ]
     },
     "execution_count": 11,
     "metadata": {},
     "output_type": "execute_result"
    }
   ],
   "source": [
    "b"
   ]
  },
  {
   "cell_type": "code",
   "execution_count": 12,
   "id": "80155e8e-6a2b-4794-8b78-153b5ccd59b4",
   "metadata": {},
   "outputs": [
    {
     "data": {
      "text/plain": [
       "(2, 4)"
      ]
     },
     "execution_count": 12,
     "metadata": {},
     "output_type": "execute_result"
    }
   ],
   "source": [
    "b.shape"
   ]
  },
  {
   "cell_type": "code",
   "execution_count": 13,
   "id": "fd5dd719-da52-42d6-851e-528368207d1a",
   "metadata": {},
   "outputs": [
    {
     "data": {
      "text/plain": [
       "numpy.float64"
      ]
     },
     "execution_count": 13,
     "metadata": {},
     "output_type": "execute_result"
    }
   ],
   "source": [
    "type(b[1,2])"
   ]
  },
  {
   "cell_type": "code",
   "execution_count": 14,
   "id": "783a20c9-9121-4ef1-9c40-09554717a1d3",
   "metadata": {},
   "outputs": [
    {
     "data": {
      "text/plain": [
       "(4, 1)"
      ]
     },
     "execution_count": 14,
     "metadata": {},
     "output_type": "execute_result"
    }
   ],
   "source": [
    "bb = np.array([[5],[3],[1],[9]])\n",
    "bb\n",
    "bb.shape"
   ]
  },
  {
   "cell_type": "code",
   "execution_count": 15,
   "id": "2a4c7afe-7c04-4371-83fb-fd2f26346ff9",
   "metadata": {},
   "outputs": [],
   "source": [
    "np.save('file.npy',bb)"
   ]
  },
  {
   "cell_type": "code",
   "execution_count": 16,
   "id": "5cd96c93-4141-4c83-8017-b1639fedb6ca",
   "metadata": {},
   "outputs": [
    {
     "data": {
      "text/plain": [
       "array([[5],\n",
       "       [3],\n",
       "       [1],\n",
       "       [9]])"
      ]
     },
     "execution_count": 16,
     "metadata": {},
     "output_type": "execute_result"
    }
   ],
   "source": [
    "bbb = np.load('file.npy')\n",
    "bbb"
   ]
  },
  {
   "cell_type": "markdown",
   "id": "134c9118-e0f8-4348-8afd-210b50ceabfe",
   "metadata": {},
   "source": [
    "comments here about diffference between numpy array and lists etc. also talk about c-style indexing\n"
   ]
  },
  {
   "cell_type": "markdown",
   "id": "caf3c9bc-ac4e-431e-b2d6-b884a1b24e70",
   "metadata": {},
   "source": [
    "## Array Creation"
   ]
  },
  {
   "cell_type": "code",
   "execution_count": 17,
   "id": "11e31a20-e53a-4048-bea5-d89bff8a3ba9",
   "metadata": {},
   "outputs": [
    {
     "data": {
      "text/plain": [
       "array([[0., 0., 0., 0., 0., 0., 0., 0., 0.],\n",
       "       [0., 0., 0., 0., 0., 0., 0., 0., 0.],\n",
       "       [0., 0., 0., 0., 0., 0., 0., 0., 0.],\n",
       "       [0., 0., 0., 0., 0., 0., 0., 0., 0.],\n",
       "       [0., 0., 0., 0., 0., 0., 0., 0., 0.],\n",
       "       [0., 0., 0., 0., 0., 0., 0., 0., 0.],\n",
       "       [0., 0., 0., 0., 0., 0., 0., 0., 0.],\n",
       "       [0., 0., 0., 0., 0., 0., 0., 0., 0.],\n",
       "       [0., 0., 0., 0., 0., 0., 0., 0., 0.]])"
      ]
     },
     "execution_count": 17,
     "metadata": {},
     "output_type": "execute_result"
    }
   ],
   "source": [
    "c = np.zeros((9,9))\n",
    "c"
   ]
  },
  {
   "cell_type": "code",
   "execution_count": 18,
   "id": "ef4be5ac-c175-4b42-865b-97d6988e0588",
   "metadata": {},
   "outputs": [],
   "source": [
    "d = np.ones((3, 6, 3), dtype=np.complex128)"
   ]
  },
  {
   "cell_type": "code",
   "execution_count": 19,
   "id": "990400b4-4ea0-4cd3-a80c-a76114964d51",
   "metadata": {},
   "outputs": [
    {
     "data": {
      "text/plain": [
       "array([[[1.+0.j, 1.+0.j, 1.+0.j],\n",
       "        [1.+0.j, 1.+0.j, 1.+0.j],\n",
       "        [1.+0.j, 1.+0.j, 1.+0.j],\n",
       "        [1.+0.j, 1.+0.j, 1.+0.j],\n",
       "        [1.+0.j, 1.+0.j, 1.+0.j],\n",
       "        [1.+0.j, 1.+0.j, 1.+0.j]],\n",
       "\n",
       "       [[1.+0.j, 1.+0.j, 1.+0.j],\n",
       "        [1.+0.j, 1.+0.j, 1.+0.j],\n",
       "        [1.+0.j, 1.+0.j, 1.+0.j],\n",
       "        [1.+0.j, 1.+0.j, 1.+0.j],\n",
       "        [1.+0.j, 1.+0.j, 1.+0.j],\n",
       "        [1.+0.j, 1.+0.j, 1.+0.j]],\n",
       "\n",
       "       [[1.+0.j, 1.+0.j, 1.+0.j],\n",
       "        [1.+0.j, 1.+0.j, 1.+0.j],\n",
       "        [1.+0.j, 1.+0.j, 1.+0.j],\n",
       "        [1.+0.j, 1.+0.j, 1.+0.j],\n",
       "        [1.+0.j, 1.+0.j, 1.+0.j],\n",
       "        [1.+0.j, 1.+0.j, 1.+0.j]]])"
      ]
     },
     "execution_count": 19,
     "metadata": {},
     "output_type": "execute_result"
    }
   ],
   "source": [
    "d"
   ]
  },
  {
   "cell_type": "code",
   "execution_count": 20,
   "id": "2b130da8-7a8b-43c3-9cf6-861db1354165",
   "metadata": {},
   "outputs": [],
   "source": [
    "e = np.full((3,3), np.pi)"
   ]
  },
  {
   "cell_type": "code",
   "execution_count": 21,
   "id": "eb694711-f932-45bf-b0fa-39aed0b0f61c",
   "metadata": {},
   "outputs": [
    {
     "data": {
      "text/plain": [
       "array([[3.14159265, 3.14159265, 3.14159265],\n",
       "       [3.14159265, 3.14159265, 3.14159265],\n",
       "       [3.14159265, 3.14159265, 3.14159265]])"
      ]
     },
     "execution_count": 21,
     "metadata": {},
     "output_type": "execute_result"
    }
   ],
   "source": [
    "e"
   ]
  },
  {
   "cell_type": "code",
   "execution_count": 22,
   "id": "ac900e99-e531-47be-8623-08491830438b",
   "metadata": {},
   "outputs": [
    {
     "data": {
      "text/plain": [
       "numpy.float64"
      ]
     },
     "execution_count": 22,
     "metadata": {},
     "output_type": "execute_result"
    }
   ],
   "source": [
    "type(e[0,0])"
   ]
  },
  {
   "cell_type": "code",
   "execution_count": 23,
   "id": "2f7bc5f4-91b4-4ec1-b88e-1c517dda1e65",
   "metadata": {},
   "outputs": [],
   "source": [
    "f = np.ones_like(e)"
   ]
  },
  {
   "cell_type": "code",
   "execution_count": 24,
   "id": "c82ac308-40aa-44eb-8aba-1aa71ee0c088",
   "metadata": {},
   "outputs": [
    {
     "data": {
      "text/plain": [
       "array([[1., 1., 1.],\n",
       "       [1., 1., 1.],\n",
       "       [1., 1., 1.]])"
      ]
     },
     "execution_count": 24,
     "metadata": {},
     "output_type": "execute_result"
    }
   ],
   "source": [
    "f"
   ]
  },
  {
   "cell_type": "code",
   "execution_count": 25,
   "id": "b6a4ed24-42b7-4838-9839-7c433de2aadc",
   "metadata": {},
   "outputs": [
    {
     "data": {
      "text/plain": [
       "array([0, 1, 2, 3, 4, 5, 6, 7, 8, 9])"
      ]
     },
     "execution_count": 25,
     "metadata": {},
     "output_type": "execute_result"
    }
   ],
   "source": [
    "np.arange(10)"
   ]
  },
  {
   "cell_type": "code",
   "execution_count": 26,
   "id": "955bba8e-5293-46de-9ffe-06133d3b288a",
   "metadata": {},
   "outputs": [
    {
     "data": {
      "text/plain": [
       "array([2.  , 2.25, 2.5 , 2.75, 3.  , 3.25, 3.5 , 3.75])"
      ]
     },
     "execution_count": 26,
     "metadata": {},
     "output_type": "execute_result"
    }
   ],
   "source": [
    "np.arange(2, 4, 0.25)"
   ]
  },
  {
   "cell_type": "code",
   "execution_count": 27,
   "id": "43ee5392-9b37-4d6b-a4ad-54dd7daf71c7",
   "metadata": {},
   "outputs": [],
   "source": [
    "g = np.linspace(2, 4, 20)"
   ]
  },
  {
   "cell_type": "code",
   "execution_count": 28,
   "id": "a16279ec-9bcc-4747-a286-a255d9158b8a",
   "metadata": {},
   "outputs": [
    {
     "data": {
      "text/plain": [
       "array([2.        , 2.10526316, 2.21052632, 2.31578947, 2.42105263,\n",
       "       2.52631579, 2.63157895, 2.73684211, 2.84210526, 2.94736842,\n",
       "       3.05263158, 3.15789474, 3.26315789, 3.36842105, 3.47368421,\n",
       "       3.57894737, 3.68421053, 3.78947368, 3.89473684, 4.        ])"
      ]
     },
     "execution_count": 28,
     "metadata": {},
     "output_type": "execute_result"
    }
   ],
   "source": [
    "g"
   ]
  },
  {
   "cell_type": "code",
   "execution_count": 29,
   "id": "f6b792d4-59b1-4bf3-89a4-e8a634884705",
   "metadata": {},
   "outputs": [
    {
     "data": {
      "text/plain": [
       "(20,)"
      ]
     },
     "execution_count": 29,
     "metadata": {},
     "output_type": "execute_result"
    }
   ],
   "source": [
    "g.shape"
   ]
  },
  {
   "cell_type": "code",
   "execution_count": 30,
   "id": "33864fe5-ead2-4d4d-986b-4976b407f6d1",
   "metadata": {},
   "outputs": [
    {
     "data": {
      "text/plain": [
       "array([2.71828183, 3.03773178, 3.39472319, 3.79366789, 4.23949621,\n",
       "       4.73771786, 5.29449005, 5.91669359, 6.61201791, 7.3890561 ])"
      ]
     },
     "execution_count": 30,
     "metadata": {},
     "output_type": "execute_result"
    }
   ],
   "source": [
    "np.logspace(1, 2, 10, base = np.e)"
   ]
  },
  {
   "cell_type": "code",
   "execution_count": 31,
   "id": "38a2b2b8-92ab-434d-9e7d-69a3aa5b25d3",
   "metadata": {},
   "outputs": [
    {
     "data": {
      "text/plain": [
       "\u001b[0;31mSignature:\u001b[0m      \n",
       "\u001b[0mnp\u001b[0m\u001b[0;34m.\u001b[0m\u001b[0mlogspace\u001b[0m\u001b[0;34m(\u001b[0m\u001b[0;34m\u001b[0m\n",
       "\u001b[0;34m\u001b[0m    \u001b[0mstart\u001b[0m\u001b[0;34m,\u001b[0m\u001b[0;34m\u001b[0m\n",
       "\u001b[0;34m\u001b[0m    \u001b[0mstop\u001b[0m\u001b[0;34m,\u001b[0m\u001b[0;34m\u001b[0m\n",
       "\u001b[0;34m\u001b[0m    \u001b[0mnum\u001b[0m\u001b[0;34m=\u001b[0m\u001b[0;36m50\u001b[0m\u001b[0;34m,\u001b[0m\u001b[0;34m\u001b[0m\n",
       "\u001b[0;34m\u001b[0m    \u001b[0mendpoint\u001b[0m\u001b[0;34m=\u001b[0m\u001b[0;32mTrue\u001b[0m\u001b[0;34m,\u001b[0m\u001b[0;34m\u001b[0m\n",
       "\u001b[0;34m\u001b[0m    \u001b[0mbase\u001b[0m\u001b[0;34m=\u001b[0m\u001b[0;36m10.0\u001b[0m\u001b[0;34m,\u001b[0m\u001b[0;34m\u001b[0m\n",
       "\u001b[0;34m\u001b[0m    \u001b[0mdtype\u001b[0m\u001b[0;34m=\u001b[0m\u001b[0;32mNone\u001b[0m\u001b[0;34m,\u001b[0m\u001b[0;34m\u001b[0m\n",
       "\u001b[0;34m\u001b[0m    \u001b[0maxis\u001b[0m\u001b[0;34m=\u001b[0m\u001b[0;36m0\u001b[0m\u001b[0;34m,\u001b[0m\u001b[0;34m\u001b[0m\n",
       "\u001b[0;34m\u001b[0m\u001b[0;34m)\u001b[0m\u001b[0;34m\u001b[0m\u001b[0;34m\u001b[0m\u001b[0m\n",
       "\u001b[0;31mCall signature:\u001b[0m  \u001b[0mnp\u001b[0m\u001b[0;34m.\u001b[0m\u001b[0mlogspace\u001b[0m\u001b[0;34m(\u001b[0m\u001b[0;34m*\u001b[0m\u001b[0margs\u001b[0m\u001b[0;34m,\u001b[0m \u001b[0;34m**\u001b[0m\u001b[0mkwargs\u001b[0m\u001b[0;34m)\u001b[0m\u001b[0;34m\u001b[0m\u001b[0;34m\u001b[0m\u001b[0m\n",
       "\u001b[0;31mType:\u001b[0m            _ArrayFunctionDispatcher\n",
       "\u001b[0;31mString form:\u001b[0m     <function logspace at 0x7facb89a3ec0>\n",
       "\u001b[0;31mFile:\u001b[0m            /opt/sw/anaconda3/2023.09/lib/python3.11/site-packages/numpy/core/function_base.py\n",
       "\u001b[0;31mDocstring:\u001b[0m      \n",
       "Return numbers spaced evenly on a log scale.\n",
       "\n",
       "In linear space, the sequence starts at ``base ** start``\n",
       "(`base` to the power of `start`) and ends with ``base ** stop``\n",
       "(see `endpoint` below).\n",
       "\n",
       ".. versionchanged:: 1.16.0\n",
       "    Non-scalar `start` and `stop` are now supported.\n",
       "\n",
       ".. versionchanged:: 1.25.0\n",
       "    Non-scalar 'base` is now supported\n",
       "\n",
       "Parameters\n",
       "----------\n",
       "start : array_like\n",
       "    ``base ** start`` is the starting value of the sequence.\n",
       "stop : array_like\n",
       "    ``base ** stop`` is the final value of the sequence, unless `endpoint`\n",
       "    is False.  In that case, ``num + 1`` values are spaced over the\n",
       "    interval in log-space, of which all but the last (a sequence of\n",
       "    length `num`) are returned.\n",
       "num : integer, optional\n",
       "    Number of samples to generate.  Default is 50.\n",
       "endpoint : boolean, optional\n",
       "    If true, `stop` is the last sample. Otherwise, it is not included.\n",
       "    Default is True.\n",
       "base : array_like, optional\n",
       "    The base of the log space. The step size between the elements in\n",
       "    ``ln(samples) / ln(base)`` (or ``log_base(samples)``) is uniform.\n",
       "    Default is 10.0.\n",
       "dtype : dtype\n",
       "    The type of the output array.  If `dtype` is not given, the data type\n",
       "    is inferred from `start` and `stop`. The inferred type will never be\n",
       "    an integer; `float` is chosen even if the arguments would produce an\n",
       "    array of integers.\n",
       "axis : int, optional\n",
       "    The axis in the result to store the samples.  Relevant only if start,\n",
       "    stop, or base are array-like.  By default (0), the samples will be\n",
       "    along a new axis inserted at the beginning. Use -1 to get an axis at\n",
       "    the end.\n",
       "\n",
       "    .. versionadded:: 1.16.0\n",
       "\n",
       "\n",
       "Returns\n",
       "-------\n",
       "samples : ndarray\n",
       "    `num` samples, equally spaced on a log scale.\n",
       "\n",
       "See Also\n",
       "--------\n",
       "arange : Similar to linspace, with the step size specified instead of the\n",
       "         number of samples. Note that, when used with a float endpoint, the\n",
       "         endpoint may or may not be included.\n",
       "linspace : Similar to logspace, but with the samples uniformly distributed\n",
       "           in linear space, instead of log space.\n",
       "geomspace : Similar to logspace, but with endpoints specified directly.\n",
       ":ref:`how-to-partition`\n",
       "\n",
       "Notes\n",
       "-----\n",
       "If base is a scalar, logspace is equivalent to the code\n",
       "\n",
       ">>> y = np.linspace(start, stop, num=num, endpoint=endpoint)\n",
       "... # doctest: +SKIP\n",
       ">>> power(base, y).astype(dtype)\n",
       "... # doctest: +SKIP\n",
       "\n",
       "Examples\n",
       "--------\n",
       ">>> np.logspace(2.0, 3.0, num=4)\n",
       "array([ 100.        ,  215.443469  ,  464.15888336, 1000.        ])\n",
       ">>> np.logspace(2.0, 3.0, num=4, endpoint=False)\n",
       "array([100.        ,  177.827941  ,  316.22776602,  562.34132519])\n",
       ">>> np.logspace(2.0, 3.0, num=4, base=2.0)\n",
       "array([4.        ,  5.0396842 ,  6.34960421,  8.        ])\n",
       ">>> np.logspace(2.0, 3.0, num=4, base=[2.0, 3.0], axis=-1)\n",
       "array([[ 4.        ,  5.0396842 ,  6.34960421,  8.        ],\n",
       "       [ 9.        , 12.98024613, 18.72075441, 27.        ]])\n",
       "\n",
       "Graphical illustration:\n",
       "\n",
       ">>> import matplotlib.pyplot as plt\n",
       ">>> N = 10\n",
       ">>> x1 = np.logspace(0.1, 1, N, endpoint=True)\n",
       ">>> x2 = np.logspace(0.1, 1, N, endpoint=False)\n",
       ">>> y = np.zeros(N)\n",
       ">>> plt.plot(x1, y, 'o')\n",
       "[<matplotlib.lines.Line2D object at 0x...>]\n",
       ">>> plt.plot(x2, y + 0.5, 'o')\n",
       "[<matplotlib.lines.Line2D object at 0x...>]\n",
       ">>> plt.ylim([-0.5, 1])\n",
       "(-0.5, 1)\n",
       ">>> plt.show()\n",
       "\u001b[0;31mClass docstring:\u001b[0m\n",
       "Class to wrap functions with checks for __array_function__ overrides.\n",
       "\n",
       "All arguments are required, and can only be passed by position.\n",
       "\n",
       "Parameters\n",
       "----------\n",
       "dispatcher : function or None\n",
       "    The dispatcher function that returns a single sequence-like object\n",
       "    of all arguments relevant.  It must have the same signature (except\n",
       "    the default values) as the actual implementation.\n",
       "    If ``None``, this is a ``like=`` dispatcher and the\n",
       "    ``_ArrayFunctionDispatcher`` must be called with ``like`` as the\n",
       "    first (additional and positional) argument.\n",
       "implementation : function\n",
       "    Function that implements the operation on NumPy arrays without\n",
       "    overrides.  Arguments passed calling the ``_ArrayFunctionDispatcher``\n",
       "    will be forwarded to this (and the ``dispatcher``) as if using\n",
       "    ``*args, **kwargs``.\n",
       "\n",
       "Attributes\n",
       "----------\n",
       "_implementation : function\n",
       "    The original implementation passed in."
      ]
     },
     "metadata": {},
     "output_type": "display_data"
    }
   ],
   "source": [
    "np.logspace?"
   ]
  },
  {
   "cell_type": "code",
   "execution_count": 32,
   "id": "58b8b0e3-ba6e-4213-893f-a25fc1827120",
   "metadata": {},
   "outputs": [],
   "source": [
    "x = np.linspace(-2*np.pi, np.pi, 100)\n",
    "y = np.linspace(-np.pi, 2*np.pi, 50)\n",
    "xx, yy = np.meshgrid(x, y)"
   ]
  },
  {
   "cell_type": "code",
   "execution_count": 33,
   "id": "91e11558-4195-4f08-a6aa-3d5ba3dd3d00",
   "metadata": {},
   "outputs": [
    {
     "data": {
      "text/plain": [
       "(50, 100)"
      ]
     },
     "execution_count": 33,
     "metadata": {},
     "output_type": "execute_result"
    }
   ],
   "source": [
    "xx.shape"
   ]
  },
  {
   "cell_type": "code",
   "execution_count": 34,
   "id": "046b59fd-f3ac-41da-b3b8-51d50bd7461e",
   "metadata": {},
   "outputs": [
    {
     "data": {
      "text/plain": [
       "5000"
      ]
     },
     "execution_count": 34,
     "metadata": {},
     "output_type": "execute_result"
    }
   ],
   "source": [
    "xx.size"
   ]
  },
  {
   "cell_type": "code",
   "execution_count": 35,
   "id": "60be468c-ee0d-4885-b568-8ae946832891",
   "metadata": {},
   "outputs": [
    {
     "data": {
      "text/plain": [
       "array([[-6.28318531, -6.18798553, -6.09278575, ...,  2.9511931 ,\n",
       "         3.04639288,  3.14159265],\n",
       "       [-6.28318531, -6.18798553, -6.09278575, ...,  2.9511931 ,\n",
       "         3.04639288,  3.14159265],\n",
       "       [-6.28318531, -6.18798553, -6.09278575, ...,  2.9511931 ,\n",
       "         3.04639288,  3.14159265],\n",
       "       ...,\n",
       "       [-6.28318531, -6.18798553, -6.09278575, ...,  2.9511931 ,\n",
       "         3.04639288,  3.14159265],\n",
       "       [-6.28318531, -6.18798553, -6.09278575, ...,  2.9511931 ,\n",
       "         3.04639288,  3.14159265],\n",
       "       [-6.28318531, -6.18798553, -6.09278575, ...,  2.9511931 ,\n",
       "         3.04639288,  3.14159265]])"
      ]
     },
     "execution_count": 35,
     "metadata": {},
     "output_type": "execute_result"
    }
   ],
   "source": [
    "xx"
   ]
  },
  {
   "cell_type": "markdown",
   "id": "e7b3a249-170c-4622-bcf6-cbaf4f6afc9c",
   "metadata": {},
   "source": [
    "## Indexing"
   ]
  },
  {
   "cell_type": "code",
   "execution_count": 36,
   "id": "76a66eff-c595-4236-8d11-3d70e6d159a1",
   "metadata": {},
   "outputs": [
    {
     "data": {
      "text/plain": [
       "-5.521587088127515"
      ]
     },
     "execution_count": 36,
     "metadata": {},
     "output_type": "execute_result"
    }
   ],
   "source": [
    "xx[-3, 8]"
   ]
  },
  {
   "cell_type": "code",
   "execution_count": 37,
   "id": "666c064d-55bd-47ac-a463-85c027ee60a1",
   "metadata": {},
   "outputs": [
    {
     "data": {
      "text/plain": [
       "(100,)"
      ]
     },
     "execution_count": 37,
     "metadata": {},
     "output_type": "execute_result"
    }
   ],
   "source": [
    "xx[0].shape   #first row"
   ]
  },
  {
   "cell_type": "code",
   "execution_count": 38,
   "id": "24ad2a32-a48d-40e8-8c37-5b6708014387",
   "metadata": {},
   "outputs": [
    {
     "data": {
      "text/plain": [
       "array([-6.28318531, -6.18798553, -6.09278575, -5.99758598, -5.9023862 ,\n",
       "       -5.80718642, -5.71198664, -5.61678687, -5.52158709, -5.42638731,\n",
       "       -5.33118753, -5.23598776, -5.14078798, -5.0455882 , -4.95038842,\n",
       "       -4.85518865, -4.75998887, -4.66478909, -4.56958931, -4.47438954,\n",
       "       -4.37918976, -4.28398998, -4.1887902 , -4.09359043, -3.99839065,\n",
       "       -3.90319087, -3.8079911 , -3.71279132, -3.61759154, -3.52239176,\n",
       "       -3.42719199, -3.33199221, -3.23679243, -3.14159265, -3.04639288,\n",
       "       -2.9511931 , -2.85599332, -2.76079354, -2.66559377, -2.57039399,\n",
       "       -2.47519421, -2.37999443, -2.28479466, -2.18959488, -2.0943951 ,\n",
       "       -1.99919533, -1.90399555, -1.80879577, -1.71359599, -1.61839622,\n",
       "       -1.52319644, -1.42799666, -1.33279688, -1.23759711, -1.14239733,\n",
       "       -1.04719755, -0.95199777, -0.856798  , -0.76159822, -0.66639844,\n",
       "       -0.57119866, -0.47599889, -0.38079911, -0.28559933, -0.19039955,\n",
       "       -0.09519978,  0.        ,  0.09519978,  0.19039955,  0.28559933,\n",
       "        0.38079911,  0.47599889,  0.57119866,  0.66639844,  0.76159822,\n",
       "        0.856798  ,  0.95199777,  1.04719755,  1.14239733,  1.23759711,\n",
       "        1.33279688,  1.42799666,  1.52319644,  1.61839622,  1.71359599,\n",
       "        1.80879577,  1.90399555,  1.99919533,  2.0943951 ,  2.18959488,\n",
       "        2.28479466,  2.37999443,  2.47519421,  2.57039399,  2.66559377,\n",
       "        2.76079354,  2.85599332,  2.9511931 ,  3.04639288,  3.14159265])"
      ]
     },
     "execution_count": 38,
     "metadata": {},
     "output_type": "execute_result"
    }
   ],
   "source": [
    "xx[0]"
   ]
  },
  {
   "cell_type": "code",
   "execution_count": 39,
   "id": "30f24cab-3f99-4a30-ba45-b99ad25d0c26",
   "metadata": {},
   "outputs": [
    {
     "data": {
      "text/plain": [
       "array([3.14159265, 3.14159265, 3.14159265, 3.14159265, 3.14159265,\n",
       "       3.14159265, 3.14159265, 3.14159265, 3.14159265, 3.14159265,\n",
       "       3.14159265, 3.14159265, 3.14159265, 3.14159265, 3.14159265,\n",
       "       3.14159265, 3.14159265, 3.14159265, 3.14159265, 3.14159265,\n",
       "       3.14159265, 3.14159265, 3.14159265, 3.14159265, 3.14159265,\n",
       "       3.14159265, 3.14159265, 3.14159265, 3.14159265, 3.14159265,\n",
       "       3.14159265, 3.14159265, 3.14159265, 3.14159265, 3.14159265,\n",
       "       3.14159265, 3.14159265, 3.14159265, 3.14159265, 3.14159265,\n",
       "       3.14159265, 3.14159265, 3.14159265, 3.14159265, 3.14159265,\n",
       "       3.14159265, 3.14159265, 3.14159265, 3.14159265, 3.14159265])"
      ]
     },
     "execution_count": 39,
     "metadata": {},
     "output_type": "execute_result"
    }
   ],
   "source": [
    "xx[:,-1]"
   ]
  },
  {
   "cell_type": "code",
   "execution_count": 40,
   "id": "344b1d07-5ddf-4e06-81d4-b38122e5a21a",
   "metadata": {},
   "outputs": [
    {
     "data": {
      "text/plain": [
       "(7, 10)"
      ]
     },
     "execution_count": 40,
     "metadata": {},
     "output_type": "execute_result"
    }
   ],
   "source": [
    "xx[3:10, 30:40].shape"
   ]
  },
  {
   "cell_type": "code",
   "execution_count": 41,
   "id": "12e127c5-9c9f-48a5-83d0-984ef91b8503",
   "metadata": {},
   "outputs": [],
   "source": [
    "idx = xx < 0"
   ]
  },
  {
   "cell_type": "code",
   "execution_count": 42,
   "id": "64f89152-63d8-4050-920b-73a10e46308e",
   "metadata": {},
   "outputs": [
    {
     "data": {
      "text/plain": [
       "array([[ True,  True,  True, ..., False, False, False],\n",
       "       [ True,  True,  True, ..., False, False, False],\n",
       "       [ True,  True,  True, ..., False, False, False],\n",
       "       ...,\n",
       "       [ True,  True,  True, ..., False, False, False],\n",
       "       [ True,  True,  True, ..., False, False, False],\n",
       "       [ True,  True,  True, ..., False, False, False]])"
      ]
     },
     "execution_count": 42,
     "metadata": {},
     "output_type": "execute_result"
    }
   ],
   "source": [
    "idx"
   ]
  },
  {
   "cell_type": "code",
   "execution_count": 43,
   "id": "ecc2e412-00d5-4afe-9699-e3115bfaa05e",
   "metadata": {},
   "outputs": [
    {
     "data": {
      "text/plain": [
       "(3300,)"
      ]
     },
     "execution_count": 43,
     "metadata": {},
     "output_type": "execute_result"
    }
   ],
   "source": [
    "yy[idx].shape"
   ]
  },
  {
   "cell_type": "code",
   "execution_count": 44,
   "id": "ee6ef9a5-7331-46d8-a811-7ba023917d13",
   "metadata": {},
   "outputs": [
    {
     "ename": "ValueError",
     "evalue": "cannot reshape array of size 3300 into shape (50,50)",
     "output_type": "error",
     "traceback": [
      "\u001b[0;31m---------------------------------------------------------------------------\u001b[0m",
      "\u001b[0;31mValueError\u001b[0m                                Traceback (most recent call last)",
      "Cell \u001b[0;32mIn[44], line 1\u001b[0m\n\u001b[0;32m----> 1\u001b[0m yy[idx]\u001b[38;5;241m.\u001b[39mreshape(\u001b[38;5;241m50\u001b[39m,\u001b[38;5;241m50\u001b[39m)\n",
      "\u001b[0;31mValueError\u001b[0m: cannot reshape array of size 3300 into shape (50,50)"
     ]
    }
   ],
   "source": [
    "yy[idx].reshape(50,50)"
   ]
  },
  {
   "cell_type": "code",
   "execution_count": 45,
   "id": "be67b239-477e-4363-9399-3265c3fb26bd",
   "metadata": {},
   "outputs": [
    {
     "data": {
      "text/plain": [
       "<function ndarray.reshape>"
      ]
     },
     "execution_count": 45,
     "metadata": {},
     "output_type": "execute_result"
    }
   ],
   "source": [
    "xx.reshape"
   ]
  },
  {
   "cell_type": "code",
   "execution_count": 46,
   "id": "2f5316e8-1305-46c3-b6d6-4ad64002e5d8",
   "metadata": {},
   "outputs": [
    {
     "data": {
      "text/plain": [
       "array([[-3.14159265, -3.14159265, -3.14159265, ..., -2.94925025,\n",
       "        -2.94925025, -2.94925025],\n",
       "       [-2.94925025, -2.94925025, -2.94925025, ..., -2.75690784,\n",
       "        -2.56456543, -2.56456543],\n",
       "       [-2.56456543, -2.56456543, -2.56456543, ..., -2.37222302,\n",
       "        -2.37222302, -2.37222302],\n",
       "       ...,\n",
       "       [ 5.51381568,  5.51381568,  5.51381568, ...,  5.70615809,\n",
       "         5.70615809,  5.70615809],\n",
       "       [ 5.70615809,  5.70615809,  5.89850049, ...,  6.0908429 ,\n",
       "         6.0908429 ,  6.0908429 ],\n",
       "       [ 6.0908429 ,  6.0908429 ,  6.0908429 , ...,  6.28318531,\n",
       "         6.28318531,  6.28318531]])"
      ]
     },
     "execution_count": 46,
     "metadata": {},
     "output_type": "execute_result"
    }
   ],
   "source": [
    "yy[idx].reshape(33,100) \n",
    "#fills this in by varying  the last dimension(columns) \n",
    "#row major. in other words fills in a row first by giving it 100 values"
   ]
  },
  {
   "cell_type": "markdown",
   "id": "eb250af9-a528-4d93-84dc-3c4675b4deca",
   "metadata": {},
   "source": [
    "## Matplotlib"
   ]
  },
  {
   "cell_type": "code",
   "execution_count": 47,
   "id": "7cb52a3e-8a71-4861-ae5c-377423e12597",
   "metadata": {},
   "outputs": [],
   "source": [
    "from matplotlib import pyplot as plt"
   ]
  },
  {
   "cell_type": "code",
   "execution_count": 48,
   "id": "fa650e09-7ac5-49f8-bacd-a3ac95ded801",
   "metadata": {},
   "outputs": [
    {
     "data": {
      "text/plain": [
       "(100,)"
      ]
     },
     "execution_count": 48,
     "metadata": {},
     "output_type": "execute_result"
    }
   ],
   "source": [
    "x.shape"
   ]
  },
  {
   "cell_type": "code",
   "execution_count": 49,
   "id": "d4cb4ef7-58a6-4d67-a75d-f605fe9e559c",
   "metadata": {},
   "outputs": [
    {
     "data": {
      "image/png": "[encoded data removed]",
      "text/plain": [
       "<Figure size 640x480 with 1 Axes>"
      ]
     },
     "metadata": {},
     "output_type": "display_data"
    }
   ],
   "source": [
    "plt.plot(x);"
   ]
  },
  {
   "cell_type": "code",
   "execution_count": 50,
   "id": "29d11200-f612-4699-8340-87e50858b6d2",
   "metadata": {},
   "outputs": [],
   "source": [
    "f = np.sin(xx)*np.cos(yy)"
   ]
  },
  {
   "cell_type": "code",
   "execution_count": 51,
   "id": "17ca408d-4a04-4012-a819-4afa0356ad91",
   "metadata": {},
   "outputs": [
    {
     "data": {
      "image/png": "[encoded data removed]",
      "text/plain": [
       "<Figure size 640x480 with 1 Axes>"
      ]
     },
     "metadata": {},
     "output_type": "display_data"
    }
   ],
   "source": [
    "plt.pcolormesh(f); #uses default indices"
   ]
  },
  {
   "cell_type": "code",
   "execution_count": 54,
   "id": "c566e0b5-885a-4ab7-b902-f17c3fe94849",
   "metadata": {},
   "outputs": [
    {
     "data": {
      "text/plain": [
       "<matplotlib.colorbar.Colorbar at 0x7fac9038b410>"
      ]
     },
     "execution_count": 54,
     "metadata": {},
     "output_type": "execute_result"
    },
    {
     "data": {
      "image/png": "[encoded data removed]",
      "text/plain": [
       "<Figure size 640x480 with 2 Axes>"
      ]
     },
     "metadata": {},
     "output_type": "display_data"
    }
   ],
   "source": [
    "plt.pcolormesh(f,cmap='BrBG',vmin=-1, vmax=1) \n",
    "plt.colorbar()"
   ]
  },
  {
   "cell_type": "markdown",
   "id": "1a63dd41-5f99-49b6-bcf5-882e2e20a7de",
   "metadata": {},
   "source": [
    "https://matplotlib.org/stable/users/explain/colors/colormaps.html"
   ]
  },
  {
   "cell_type": "markdown",
   "id": "4de67dac-529b-46b6-89ab-d513cfa14e27",
   "metadata": {},
   "source": [
    "## Basic Math"
   ]
  },
  {
   "cell_type": "code",
   "execution_count": 112,
   "id": "dfc28728-4945-4c85-8875-718ce9fc91c0",
   "metadata": {},
   "outputs": [],
   "source": [
    "f = np.sin(xx) * np.cos(yy)"
   ]
  },
  {
   "cell_type": "code",
   "execution_count": 113,
   "id": "32f42120-3ef4-49dc-a970-1e36809740c1",
   "metadata": {},
   "outputs": [
    {
     "data": {
      "text/plain": [
       "<matplotlib.colorbar.Colorbar at 0x7fac8cde0b50>"
      ]
     },
     "execution_count": 113,
     "metadata": {},
     "output_type": "execute_result"
    },
    {
     "data": {
      "image/png": "[encoded data removed]",
      "text/plain": [
       "<Figure size 640x480 with 2 Axes>"
      ]
     },
     "metadata": {},
     "output_type": "display_data"
    }
   ],
   "source": [
    "plt.pcolormesh(f)\n",
    "plt.colorbar()"
   ]
  },
  {
   "cell_type": "code",
   "execution_count": 115,
   "id": "6f59211f-1093-4d4b-af29-83c853299666",
   "metadata": {},
   "outputs": [
    {
     "data": {
      "text/plain": [
       "<matplotlib.colorbar.Colorbar at 0x7fac900461d0>"
      ]
     },
     "execution_count": 115,
     "metadata": {},
     "output_type": "execute_result"
    },
    {
     "data": {
      "image/png": "[encoded data removed]",
      "text/plain": [
       "<Figure size 640x480 with 2 Axes>"
      ]
     },
     "metadata": {},
     "output_type": "display_data"
    }
   ],
   "source": [
    "plt.contourf(x,y,f,cmap='jet')\n",
    "plt.colorbar()"
   ]
  },
  {
   "cell_type": "code",
   "execution_count": 57,
   "id": "6cc1c0d9-9737-45e0-b161-8ff6d182b435",
   "metadata": {},
   "outputs": [
    {
     "data": {
      "text/plain": [
       "<matplotlib.collections.QuadMesh at 0x7fac902c9e50>"
      ]
     },
     "execution_count": 57,
     "metadata": {},
     "output_type": "execute_result"
    },
    {
     "data": {
      "image/png": "[encoded data removed]",
      "text/plain": [
       "<Figure size 640x480 with 1 Axes>"
      ]
     },
     "metadata": {},
     "output_type": "display_data"
    }
   ],
   "source": [
    "f_transposed = f.transpose()\n",
    "plt.pcolormesh(f_transposed)"
   ]
  },
  {
   "cell_type": "code",
   "execution_count": 58,
   "id": "a13272e4-b3ab-4ddc-a26b-16232d72fc07",
   "metadata": {},
   "outputs": [],
   "source": [
    "f_tiled = np.tile(f, (3,2))"
   ]
  },
  {
   "cell_type": "code",
   "execution_count": 59,
   "id": "1afdde00-fc23-403e-bf6e-222f1de09fb3",
   "metadata": {},
   "outputs": [
    {
     "data": {
      "text/plain": [
       "<matplotlib.collections.QuadMesh at 0x7fac902a31d0>"
      ]
     },
     "execution_count": 59,
     "metadata": {},
     "output_type": "execute_result"
    },
    {
     "data": {
      "image/png": "[encoded data removed]",
      "text/plain": [
       "<Figure size 640x480 with 1 Axes>"
      ]
     },
     "metadata": {},
     "output_type": "display_data"
    }
   ],
   "source": [
    "plt.pcolormesh(f_tiled)"
   ]
  },
  {
   "cell_type": "code",
   "execution_count": 60,
   "id": "15b90cc4-ea5f-4fb1-90c0-5a67ac61eb07",
   "metadata": {},
   "outputs": [
    {
     "data": {
      "text/plain": [
       "(100,)"
      ]
     },
     "execution_count": 60,
     "metadata": {},
     "output_type": "execute_result"
    }
   ],
   "source": [
    "x.shape"
   ]
  },
  {
   "cell_type": "code",
   "execution_count": 61,
   "id": "02895d06-9d1b-4a6e-a87c-b4909f959e1f",
   "metadata": {},
   "outputs": [],
   "source": [
    "newx = x[None, :]"
   ]
  },
  {
   "cell_type": "code",
   "execution_count": 62,
   "id": "f32b4e57-c913-4dbe-aa51-94e55fd1358e",
   "metadata": {},
   "outputs": [
    {
     "data": {
      "text/plain": [
       "(1, 100)"
      ]
     },
     "execution_count": 62,
     "metadata": {},
     "output_type": "execute_result"
    }
   ],
   "source": [
    "newx.shape"
   ]
  },
  {
   "cell_type": "markdown",
   "id": "6fdce8a4-2a12-4199-b234-9bfdd36e99e5",
   "metadata": {},
   "source": [
    "## Reduction Operations"
   ]
  },
  {
   "cell_type": "code",
   "execution_count": 63,
   "id": "5e7c9d09-7719-4e56-a2d5-c4496919f59b",
   "metadata": {},
   "outputs": [
    {
     "data": {
      "text/plain": [
       "array([2.        , 2.10526316, 2.21052632, 2.31578947, 2.42105263,\n",
       "       2.52631579, 2.63157895, 2.73684211, 2.84210526, 2.94736842,\n",
       "       3.05263158, 3.15789474, 3.26315789, 3.36842105, 3.47368421,\n",
       "       3.57894737, 3.68421053, 3.78947368, 3.89473684, 4.        ])"
      ]
     },
     "execution_count": 63,
     "metadata": {},
     "output_type": "execute_result"
    }
   ],
   "source": [
    "g"
   ]
  },
  {
   "cell_type": "code",
   "execution_count": 64,
   "id": "2cc2b061-6ee5-43e2-ae6a-ebafb2ce1620",
   "metadata": {},
   "outputs": [
    {
     "data": {
      "text/plain": [
       "(20,)"
      ]
     },
     "execution_count": 64,
     "metadata": {},
     "output_type": "execute_result"
    }
   ],
   "source": [
    "g.shape"
   ]
  },
  {
   "cell_type": "code",
   "execution_count": 65,
   "id": "df86fc35-bdae-4472-ab19-dd1d6ee34211",
   "metadata": {},
   "outputs": [
    {
     "data": {
      "text/plain": [
       "60.0"
      ]
     },
     "execution_count": 65,
     "metadata": {},
     "output_type": "execute_result"
    }
   ],
   "source": [
    "g.sum()"
   ]
  },
  {
   "cell_type": "code",
   "execution_count": 66,
   "id": "12f7dc4e-8ee3-4983-9d92-e5dbffda2297",
   "metadata": {},
   "outputs": [
    {
     "data": {
      "text/plain": [
       "3.0"
      ]
     },
     "execution_count": 66,
     "metadata": {},
     "output_type": "execute_result"
    }
   ],
   "source": [
    "g.mean()"
   ]
  },
  {
   "cell_type": "code",
   "execution_count": 67,
   "id": "a2e3e5c3-a5f9-47c5-85cf-478ccc43fc1b",
   "metadata": {},
   "outputs": [
    {
     "data": {
      "text/plain": [
       "3.0"
      ]
     },
     "execution_count": 67,
     "metadata": {},
     "output_type": "execute_result"
    }
   ],
   "source": [
    "gg = np.nanmean(g)\n",
    "gg"
   ]
  },
  {
   "cell_type": "code",
   "execution_count": 68,
   "id": "0c9adfa8-bc9d-4181-8420-33a6f8285f53",
   "metadata": {},
   "outputs": [
    {
     "data": {
      "text/plain": [
       "0.6069769786668839"
      ]
     },
     "execution_count": 68,
     "metadata": {},
     "output_type": "execute_result"
    }
   ],
   "source": [
    "gg = np.nanstd(g)\n",
    "gg"
   ]
  },
  {
   "cell_type": "code",
   "execution_count": 69,
   "id": "daa075a5-57cf-4f71-ba64-04803038c320",
   "metadata": {},
   "outputs": [
    {
     "data": {
      "text/plain": [
       "0.6069769786668839"
      ]
     },
     "execution_count": 69,
     "metadata": {},
     "output_type": "execute_result"
    }
   ],
   "source": [
    "g.std()"
   ]
  },
  {
   "cell_type": "code",
   "execution_count": 70,
   "id": "11b6ca36-5e9c-4f58-a7bf-387527293464",
   "metadata": {},
   "outputs": [
    {
     "data": {
      "text/plain": [
       "(50, 100)"
      ]
     },
     "execution_count": 70,
     "metadata": {},
     "output_type": "execute_result"
    }
   ],
   "source": [
    "f.shape"
   ]
  },
  {
   "cell_type": "code",
   "execution_count": 71,
   "id": "079f0e5a-6aa6-446c-b9be-19ec735407fb",
   "metadata": {},
   "outputs": [
    {
     "data": {
      "text/plain": [
       "array([[-2.44929360e-16, -9.50560433e-02, -1.89251244e-01, ...,\n",
       "        -1.89251244e-01, -9.50560433e-02, -1.22464680e-16],\n",
       "       [-2.40412656e-16, -9.33031297e-02, -1.85761292e-01, ...,\n",
       "        -1.85761292e-01, -9.33031297e-02, -1.20206328e-16],\n",
       "       [-2.27029128e-16, -8.81090394e-02, -1.75420150e-01, ...,\n",
       "        -1.75420150e-01, -8.81090394e-02, -1.13514564e-16],\n",
       "       ...,\n",
       "       [ 2.27029128e-16,  8.81090394e-02,  1.75420150e-01, ...,\n",
       "         1.75420150e-01,  8.81090394e-02,  1.13514564e-16],\n",
       "       [ 2.40412656e-16,  9.33031297e-02,  1.85761292e-01, ...,\n",
       "         1.85761292e-01,  9.33031297e-02,  1.20206328e-16],\n",
       "       [ 2.44929360e-16,  9.50560433e-02,  1.89251244e-01, ...,\n",
       "         1.89251244e-01,  9.50560433e-02,  1.22464680e-16]])"
      ]
     },
     "execution_count": 71,
     "metadata": {},
     "output_type": "execute_result"
    }
   ],
   "source": [
    "f"
   ]
  },
  {
   "cell_type": "code",
   "execution_count": 72,
   "id": "cc33117c-4a83-4a81-829c-39c5c044d09e",
   "metadata": {},
   "outputs": [
    {
     "data": {
      "text/plain": [
       "array([-1.38050658e-32, -7.49400542e-18, -7.77156117e-18, -2.10942375e-17,\n",
       "        3.33066907e-18, -1.44328993e-17, -1.55431223e-17, -1.33226763e-17,\n",
       "       -2.44249065e-17, -1.99840144e-17, -1.77635684e-17, -3.55271368e-17,\n",
       "       -5.32907052e-17, -3.33066907e-17, -1.55431223e-17, -3.99680289e-17,\n",
       "       -8.65973959e-17, -8.65973959e-17, -3.99680289e-17, -3.33066907e-17,\n",
       "       -7.77156117e-17, -3.55271368e-17, -3.10862447e-17,  1.77635684e-17,\n",
       "       -1.99840144e-17, -2.88657986e-17, -5.32907052e-17, -1.11022302e-17,\n",
       "       -1.88737914e-17, -2.99760217e-17, -9.99200722e-18,  4.99600361e-18,\n",
       "       -3.60822483e-18,  6.90253292e-33,  8.32667268e-19,  2.77555756e-18,\n",
       "        1.22124533e-17,  1.66533454e-17,  7.77156117e-18,  1.55431223e-17,\n",
       "        3.10862447e-17,  2.88657986e-17,  6.43929354e-17,  1.77635684e-17,\n",
       "        4.44089210e-17,  5.32907052e-17,  3.77475828e-17,  4.21884749e-17,\n",
       "        3.99680289e-17,  8.65973959e-17,  8.65973959e-17,  3.99680289e-17,\n",
       "        3.33066907e-17,  3.77475828e-17,  3.55271368e-17,  8.88178420e-18,\n",
       "        4.44089210e-18,  5.55111512e-17,  2.88657986e-17,  2.66453526e-17,\n",
       "        2.22044605e-18,  9.99200722e-18,  2.33146835e-17,  2.10942375e-17,\n",
       "        2.77555756e-18,  6.66133815e-18,  0.00000000e+00, -6.10622664e-18,\n",
       "       -2.77555756e-18, -2.10942375e-17, -2.88657986e-17, -9.99200722e-18,\n",
       "       -1.11022302e-17, -2.66453526e-17, -2.88657986e-17, -5.10702591e-17,\n",
       "       -4.44089210e-18, -4.44089210e-17, -4.21884749e-17, -3.77475828e-17,\n",
       "       -4.21884749e-17, -3.99680289e-17, -8.65973959e-17, -8.65973959e-17,\n",
       "       -3.99680289e-17, -3.33066907e-17, -3.77475828e-17, -7.10542736e-17,\n",
       "       -8.88178420e-18, -1.77635684e-17, -4.66293670e-17, -1.99840144e-17,\n",
       "       -1.33226763e-17, -1.55431223e-17, -3.66373598e-17, -2.33146835e-17,\n",
       "       -1.22124533e-17,  2.22044605e-18, -3.88578059e-18, -6.90253292e-33])"
      ]
     },
     "execution_count": 72,
     "metadata": {},
     "output_type": "execute_result"
    }
   ],
   "source": [
    "f_ymean = f.mean(axis=0) \n",
    "#takes the columnar mean. \n",
    "#averages all values within a specific column (so 50 rows of values go into each average, \n",
    "#and there's 100 columns so it'll do the N=50 average 100 times)\n",
    "f_ymean"
   ]
  },
  {
   "cell_type": "code",
   "execution_count": 73,
   "id": "60ff111e-4b10-4f32-a11d-fa944e87ead7",
   "metadata": {},
   "outputs": [
    {
     "data": {
      "text/plain": [
       "(100,)"
      ]
     },
     "execution_count": 73,
     "metadata": {},
     "output_type": "execute_result"
    }
   ],
   "source": [
    "f_ymean.shape"
   ]
  },
  {
   "cell_type": "markdown",
   "id": "909d5ed6-e819-4846-b0e0-ac769670215e",
   "metadata": {},
   "source": [
    "# STOPPED HERE"
   ]
  },
  {
   "cell_type": "code",
   "execution_count": 74,
   "id": "ea6a4cfa-13be-4741-97b0-2da39e72b8c7",
   "metadata": {},
   "outputs": [
    {
     "data": {
      "text/plain": [
       "[<matplotlib.lines.Line2D at 0x7fac901928d0>]"
      ]
     },
     "execution_count": 74,
     "metadata": {},
     "output_type": "execute_result"
    },
    {
     "data": {
      "image/png": "[encoded data removed]",
      "text/plain": [
       "<Figure size 640x480 with 1 Axes>"
      ]
     },
     "metadata": {},
     "output_type": "display_data"
    }
   ],
   "source": [
    "plt.plot(x, f_ymean)"
   ]
  },
  {
   "cell_type": "code",
   "execution_count": 75,
   "id": "3197ccab-e6c4-4227-b571-52e9d88958b0",
   "metadata": {},
   "outputs": [],
   "source": [
    "f_xmean = f.mean(axis=1) #(takes horizontal mean. 50 rows so the size should be 50). 100 vals in each mean"
   ]
  },
  {
   "cell_type": "code",
   "execution_count": 76,
   "id": "454bf885-09b5-482a-ac8a-fb60793904d7",
   "metadata": {},
   "outputs": [
    {
     "data": {
      "text/plain": [
       "(50,)"
      ]
     },
     "execution_count": 76,
     "metadata": {},
     "output_type": "execute_result"
    }
   ],
   "source": [
    "f_xmean.shape"
   ]
  },
  {
   "cell_type": "code",
   "execution_count": 77,
   "id": "0378eb1d-0dac-44fd-8305-3b86cf98d6d3",
   "metadata": {},
   "outputs": [
    {
     "data": {
      "text/plain": [
       "[<matplotlib.lines.Line2D at 0x7fac8fff28d0>]"
      ]
     },
     "execution_count": 77,
     "metadata": {},
     "output_type": "execute_result"
    },
    {
     "data": {
      "image/png": "[encoded data removed]",
      "text/plain": [
       "<Figure size 640x480 with 1 Axes>"
      ]
     },
     "metadata": {},
     "output_type": "display_data"
    }
   ],
   "source": [
    "plt.plot(f_xmean,y)"
   ]
  },
  {
   "cell_type": "markdown",
   "id": "c066ca14-bbcc-4974-acff-adb88b01bf10",
   "metadata": {},
   "source": [
    "## More on NDArray Shapes"
   ]
  },
  {
   "cell_type": "code",
   "execution_count": 78,
   "id": "42af07fe-f110-4e8e-bd5e-07c4a9e075df",
   "metadata": {},
   "outputs": [
    {
     "data": {
      "text/plain": [
       "[3]"
      ]
     },
     "execution_count": 78,
     "metadata": {},
     "output_type": "execute_result"
    }
   ],
   "source": [
    "a = [3]\n",
    "a"
   ]
  },
  {
   "cell_type": "code",
   "execution_count": 79,
   "id": "d3a83d89-b86a-4f76-89ce-d090eb2336c6",
   "metadata": {},
   "outputs": [
    {
     "data": {
      "text/plain": [
       "list"
      ]
     },
     "execution_count": 79,
     "metadata": {},
     "output_type": "execute_result"
    }
   ],
   "source": [
    "type(a)"
   ]
  },
  {
   "cell_type": "code",
   "execution_count": 80,
   "id": "4b46be31-a15e-49c2-8e58-56e34b7c4edf",
   "metadata": {},
   "outputs": [
    {
     "data": {
      "text/plain": [
       "4"
      ]
     },
     "execution_count": 80,
     "metadata": {},
     "output_type": "execute_result"
    }
   ],
   "source": [
    "b = (4)\n",
    "b"
   ]
  },
  {
   "cell_type": "code",
   "execution_count": 81,
   "id": "c2e20da6-13b5-402d-b3e5-fd5d767b987d",
   "metadata": {},
   "outputs": [
    {
     "data": {
      "text/plain": [
       "int"
      ]
     },
     "execution_count": 81,
     "metadata": {},
     "output_type": "execute_result"
    }
   ],
   "source": [
    "type(b)"
   ]
  },
  {
   "cell_type": "code",
   "execution_count": 82,
   "id": "e8956a7c-a461-4129-a554-9d8ae358858f",
   "metadata": {},
   "outputs": [
    {
     "data": {
      "text/plain": [
       "(4,)"
      ]
     },
     "execution_count": 82,
     "metadata": {},
     "output_type": "execute_result"
    }
   ],
   "source": [
    "c = (4,)\n",
    "c"
   ]
  },
  {
   "cell_type": "code",
   "execution_count": 83,
   "id": "ef2a1534-402a-4831-a9b8-0f2c2afbb48d",
   "metadata": {},
   "outputs": [
    {
     "data": {
      "text/plain": [
       "tuple"
      ]
     },
     "execution_count": 83,
     "metadata": {},
     "output_type": "execute_result"
    }
   ],
   "source": [
    "type(c)"
   ]
  },
  {
   "cell_type": "code",
   "execution_count": 84,
   "id": "dc422962-a0c9-4b9b-9445-cd8971fa85cc",
   "metadata": {},
   "outputs": [
    {
     "data": {
      "text/plain": [
       "1"
      ]
     },
     "execution_count": 84,
     "metadata": {},
     "output_type": "execute_result"
    }
   ],
   "source": [
    "len(c)"
   ]
  },
  {
   "cell_type": "code",
   "execution_count": 85,
   "id": "fd556d3d-8b5f-4310-bca1-9baf80abb747",
   "metadata": {},
   "outputs": [
    {
     "data": {
      "text/plain": [
       "(5, 1)"
      ]
     },
     "execution_count": 85,
     "metadata": {},
     "output_type": "execute_result"
    }
   ],
   "source": [
    "d = (5,1)\n",
    "d"
   ]
  },
  {
   "cell_type": "code",
   "execution_count": 86,
   "id": "3b77bd18-eb85-4c24-bab9-330b4540884f",
   "metadata": {},
   "outputs": [
    {
     "data": {
      "text/plain": [
       "tuple"
      ]
     },
     "execution_count": 86,
     "metadata": {},
     "output_type": "execute_result"
    }
   ],
   "source": [
    "type(d)"
   ]
  },
  {
   "cell_type": "code",
   "execution_count": 87,
   "id": "4a706780-1d95-406d-8c64-9d278e563749",
   "metadata": {},
   "outputs": [
    {
     "data": {
      "text/plain": [
       "2"
      ]
     },
     "execution_count": 87,
     "metadata": {},
     "output_type": "execute_result"
    }
   ],
   "source": [
    "len(d)"
   ]
  },
  {
   "cell_type": "markdown",
   "id": "028320d3-f1a9-4453-a78c-fb1927854c48",
   "metadata": {},
   "source": [
    "## NDArrays are not entirely equivalent to math vectors and matrices "
   ]
  },
  {
   "cell_type": "markdown",
   "id": "fab34cc3-59d8-4a96-a25b-199a254080a2",
   "metadata": {},
   "source": [
    "From: [https://stats.stackexchange.com/questions/284995/are-1-dimensional-numpy-arrays-equivalent-to-vectors](https://stats.stackexchange.com/questions/284995/are-1-dimensional-numpy-arrays-equivalent-to-vectors): Linear algebra makes a distinction between \"row vectors\" and \"column vectors\". There is no such distinction in NumPy. There are only n-dimensional arrays."
   ]
  },
  {
   "cell_type": "code",
   "execution_count": 88,
   "id": "88e7e6d3-f263-4208-acb5-fb8c90594c9e",
   "metadata": {
    "tags": []
   },
   "outputs": [
    {
     "data": {
      "text/plain": [
       "array([7, 8])"
      ]
     },
     "execution_count": 88,
     "metadata": {},
     "output_type": "execute_result"
    }
   ],
   "source": [
    "e = np.array([7, 8])\n",
    "e"
   ]
  },
  {
   "cell_type": "code",
   "execution_count": 89,
   "id": "f7642fa8-5a54-45b9-99f5-b55912b8d19f",
   "metadata": {
    "tags": []
   },
   "outputs": [
    {
     "data": {
      "text/plain": [
       "(2,)"
      ]
     },
     "execution_count": 89,
     "metadata": {},
     "output_type": "execute_result"
    }
   ],
   "source": [
    "e.shape"
   ]
  },
  {
   "cell_type": "code",
   "execution_count": 90,
   "id": "7613980e-2ad7-41e7-a441-fae302bc7738",
   "metadata": {},
   "outputs": [
    {
     "data": {
      "text/plain": [
       "array([7, 8])"
      ]
     },
     "execution_count": 90,
     "metadata": {},
     "output_type": "execute_result"
    }
   ],
   "source": [
    "e.T"
   ]
  },
  {
   "cell_type": "code",
   "execution_count": 91,
   "id": "7008946a-2e60-4e58-9a2e-3d4033336c4a",
   "metadata": {},
   "outputs": [],
   "source": [
    "ee = np.array([[4,5,6],[7,8,9]])"
   ]
  },
  {
   "cell_type": "code",
   "execution_count": 92,
   "id": "343a952d-144c-4a64-aa73-08d88eb0f3ec",
   "metadata": {},
   "outputs": [
    {
     "data": {
      "text/plain": [
       "(2, 3)"
      ]
     },
     "execution_count": 92,
     "metadata": {},
     "output_type": "execute_result"
    }
   ],
   "source": [
    "ee.shape"
   ]
  },
  {
   "cell_type": "code",
   "execution_count": 93,
   "id": "ea90cdae-1ba2-4533-af33-f63bb7e3e539",
   "metadata": {},
   "outputs": [
    {
     "data": {
      "text/plain": [
       "array([[4, 7],\n",
       "       [5, 8],\n",
       "       [6, 9]])"
      ]
     },
     "execution_count": 93,
     "metadata": {},
     "output_type": "execute_result"
    }
   ],
   "source": [
    "ee.T\n"
   ]
  },
  {
   "cell_type": "code",
   "execution_count": 94,
   "id": "07d1d946-e16e-49de-b990-71a1699fec29",
   "metadata": {},
   "outputs": [
    {
     "data": {
      "text/plain": [
       "(2,)"
      ]
     },
     "execution_count": 94,
     "metadata": {},
     "output_type": "execute_result"
    }
   ],
   "source": [
    "e.shape"
   ]
  },
  {
   "cell_type": "code",
   "execution_count": 95,
   "id": "4e57eee4-787b-42d3-8ebd-c0358473a790",
   "metadata": {},
   "outputs": [
    {
     "data": {
      "text/plain": [
       "array([[7],\n",
       "       [8]])"
      ]
     },
     "execution_count": 95,
     "metadata": {},
     "output_type": "execute_result"
    }
   ],
   "source": [
    "e = e[:, np.newaxis]\n",
    "e"
   ]
  },
  {
   "cell_type": "code",
   "execution_count": 96,
   "id": "25cb7a75-bd16-458d-9309-b50f33949e3a",
   "metadata": {},
   "outputs": [
    {
     "data": {
      "text/plain": [
       "(2, 1)"
      ]
     },
     "execution_count": 96,
     "metadata": {},
     "output_type": "execute_result"
    }
   ],
   "source": [
    "e.shape"
   ]
  },
  {
   "cell_type": "code",
   "execution_count": 97,
   "id": "353374d3-9f85-4bf8-9c4b-351989d863a5",
   "metadata": {},
   "outputs": [
    {
     "data": {
      "text/plain": [
       "array([[7, 8]])"
      ]
     },
     "execution_count": 97,
     "metadata": {},
     "output_type": "execute_result"
    }
   ],
   "source": [
    "e.T"
   ]
  },
  {
   "cell_type": "code",
   "execution_count": 98,
   "id": "090ace6e-094c-4ae7-92e1-89e923a7ac2c",
   "metadata": {},
   "outputs": [
    {
     "data": {
      "text/plain": [
       "(1, 2)"
      ]
     },
     "execution_count": 98,
     "metadata": {},
     "output_type": "execute_result"
    }
   ],
   "source": [
    "e.T.shape"
   ]
  },
  {
   "cell_type": "markdown",
   "id": "2c7354f8-32f0-4316-b702-9d7b3921b5b2",
   "metadata": {},
   "source": [
    "## Automatic Broadcasting"
   ]
  },
  {
   "cell_type": "code",
   "execution_count": 99,
   "id": "53baea18-7f08-4614-b169-b849c60d682b",
   "metadata": {},
   "outputs": [
    {
     "data": {
      "text/plain": [
       "array([[1, 2],\n",
       "       [3, 4],\n",
       "       [5, 6]])"
      ]
     },
     "execution_count": 99,
     "metadata": {},
     "output_type": "execute_result"
    }
   ],
   "source": [
    "f = np.array([[1, 2], [3, 4], [5, 6]])\n",
    "f"
   ]
  },
  {
   "cell_type": "code",
   "execution_count": 100,
   "id": "ffdea239-0e36-4826-9d2e-8c54f6ab7fe8",
   "metadata": {},
   "outputs": [
    {
     "data": {
      "text/plain": [
       "(3, 2)"
      ]
     },
     "execution_count": 100,
     "metadata": {},
     "output_type": "execute_result"
    }
   ],
   "source": [
    "f.shape"
   ]
  },
  {
   "cell_type": "code",
   "execution_count": 101,
   "id": "be7f4617-9be1-472f-8edf-427aafa17d8e",
   "metadata": {
    "tags": []
   },
   "outputs": [
    {
     "data": {
      "text/plain": [
       "(2,)"
      ]
     },
     "execution_count": 101,
     "metadata": {},
     "output_type": "execute_result"
    }
   ],
   "source": [
    "e = np.array([7, 8])\n",
    "e.shape"
   ]
  },
  {
   "cell_type": "code",
   "execution_count": 102,
   "id": "b7b04b31-c07f-44df-952b-8c95b7c87967",
   "metadata": {},
   "outputs": [
    {
     "data": {
      "text/plain": [
       "array([[ 7, 16],\n",
       "       [21, 32],\n",
       "       [35, 48]])"
      ]
     },
     "execution_count": 102,
     "metadata": {},
     "output_type": "execute_result"
    }
   ],
   "source": [
    "f*e      #scalar multiplication. broadcasting the (2,) into a (3,2)"
   ]
  },
  {
   "attachments": {
    "1eb29f0f-097a-41f7-a20b-6029d01f3561.png": {
     "image/png": "[encoded data removed]"
    },
    "9a8c33ae-39af-4f55-a88b-70169e66fa8b.png": {
     "image/png": "[encoded data removed]"
    }
   },
   "cell_type": "markdown",
   "id": "fbbec618-fa35-480f-bd1c-a75af53ec7a7",
   "metadata": {},
   "source": [
    "![image.png](attachment:1eb29f0f-097a-41f7-a20b-6029d01f3561.png)![image.png](attachment:9a8c33ae-39af-4f55-a88b-70169e66fa8b.png)"
   ]
  },
  {
   "cell_type": "markdown",
   "id": "c1b0f525-b1c1-4431-b6d5-08ff096790b3",
   "metadata": {},
   "source": [
    "##### if the trailing dimension in \"a\" doesn't match \"b\", an error would be raised.\n",
    "#### the smaller array is “broadcast” across the larger array so that they have compatible shapes\n",
    "\n",
    "Two dimensions are compatible when they are equal, or one of them is a 1-D Array.\n",
    "\n",
    "https://numpy.org/doc/stable/user/basics.broadcasting.html\n"
   ]
  },
  {
   "cell_type": "code",
   "execution_count": 103,
   "id": "509c743b-3240-4b24-bb98-cdfe1588f026",
   "metadata": {},
   "outputs": [
    {
     "data": {
      "text/plain": [
       "array([[7],\n",
       "       [8]])"
      ]
     },
     "execution_count": 103,
     "metadata": {},
     "output_type": "execute_result"
    }
   ],
   "source": [
    "e = np.array([7, 8])\n",
    "e = e[:, np.newaxis]\n",
    "e"
   ]
  },
  {
   "cell_type": "code",
   "execution_count": 104,
   "id": "1db4b505-4dd5-4856-900a-0cffd8bea54e",
   "metadata": {},
   "outputs": [
    {
     "ename": "ValueError",
     "evalue": "operands could not be broadcast together with shapes (3,2) (2,1) ",
     "output_type": "error",
     "traceback": [
      "\u001b[0;31m---------------------------------------------------------------------------\u001b[0m",
      "\u001b[0;31mValueError\u001b[0m                                Traceback (most recent call last)",
      "Cell \u001b[0;32mIn[104], line 1\u001b[0m\n\u001b[0;32m----> 1\u001b[0m f\u001b[38;5;241m*\u001b[39me\n",
      "\u001b[0;31mValueError\u001b[0m: operands could not be broadcast together with shapes (3,2) (2,1) "
     ]
    }
   ],
   "source": [
    "f*e"
   ]
  },
  {
   "cell_type": "code",
   "execution_count": 105,
   "id": "fbb979f2-538d-49dd-b24e-cb6795700e4b",
   "metadata": {},
   "outputs": [
    {
     "data": {
      "text/plain": [
       "(1, 2)"
      ]
     },
     "execution_count": 105,
     "metadata": {},
     "output_type": "execute_result"
    }
   ],
   "source": [
    "e = np.array([7, 8])\n",
    "e = e[np.newaxis, :]\n",
    "e.shape"
   ]
  },
  {
   "cell_type": "code",
   "execution_count": 106,
   "id": "fd97b42e-43ac-4ff6-99ef-6526281ed949",
   "metadata": {},
   "outputs": [
    {
     "data": {
      "text/plain": [
       "array([[ 7, 16],\n",
       "       [21, 32],\n",
       "       [35, 48]])"
      ]
     },
     "execution_count": 106,
     "metadata": {},
     "output_type": "execute_result"
    }
   ],
   "source": [
    "f*e"
   ]
  },
  {
   "cell_type": "code",
   "execution_count": 107,
   "id": "6e79cb1c-4b99-4233-a362-4ac077dae702",
   "metadata": {},
   "outputs": [
    {
     "data": {
      "text/plain": [
       "array([[23],\n",
       "       [53],\n",
       "       [83]])"
      ]
     },
     "execution_count": 107,
     "metadata": {},
     "output_type": "execute_result"
    }
   ],
   "source": [
    "np.matmul(f,e.T) #numcols in f = num rows in e"
   ]
  },
  {
   "cell_type": "markdown",
   "id": "f8502804-5f43-403f-abdf-a3022ceb9584",
   "metadata": {},
   "source": [
    "# SCIPY\n",
    "#### for scientific computing, statistics, etc. plays nicely with numpy "
   ]
  },
  {
   "cell_type": "code",
   "execution_count": 1,
   "id": "3a7aa0d8-2155-4877-bb07-e08d76acfad9",
   "metadata": {},
   "outputs": [],
   "source": [
    "from scipy import stats\n",
    "import numpy as np\n",
    "import pandas as pd\n",
    "from matplotlib import pyplot as plt"
   ]
  },
  {
   "cell_type": "code",
   "execution_count": 2,
   "id": "8f3f63ee-1a49-43e2-91f5-5c731dade402",
   "metadata": {},
   "outputs": [],
   "source": [
    "dir(stats);"
   ]
  },
  {
   "cell_type": "code",
   "execution_count": 3,
   "id": "d08710f8-6507-4e59-ace3-151b47d25f6f",
   "metadata": {},
   "outputs": [],
   "source": [
    "data = pd.read_csv('/data9/GR6901/data/centralpark.csv',)"
   ]
  },
  {
   "cell_type": "code",
   "execution_count": 4,
   "id": "2e37caaa-15d5-44b9-a479-36cb6f1f0688",
   "metadata": {},
   "outputs": [],
   "source": [
    "df = pd.DataFrame(data,columns=['DATE','TMIN'])"
   ]
  },
  {
   "cell_type": "code",
   "execution_count": 5,
   "id": "41a70801-2bfb-4a9e-96bf-e2c2d060504b",
   "metadata": {},
   "outputs": [],
   "source": [
    "df = df.set_index('DATE')\n"
   ]
  },
  {
   "cell_type": "code",
   "execution_count": 6,
   "id": "a14d3ec7-95e2-434f-82bb-a2068820511a",
   "metadata": {},
   "outputs": [],
   "source": [
    "df1869 = df.loc['1869-01-01':'1869-12-31']\n"
   ]
  },
  {
   "cell_type": "code",
   "execution_count": 7,
   "id": "7910acf2-6645-4540-bdd2-616d4af7a6a2",
   "metadata": {},
   "outputs": [],
   "source": [
    "df2023 = df.loc['2023-01-01':'2023-12-31']\n"
   ]
  },
  {
   "cell_type": "code",
   "execution_count": 8,
   "id": "13e57627-4a01-4eee-9c81-3d305e04534e",
   "metadata": {},
   "outputs": [],
   "source": [
    "t1869 = np.array(df1869['TMIN'])\n",
    "t2023 = np.array(df2023['TMIN'])"
   ]
  },
  {
   "cell_type": "code",
   "execution_count": 35,
   "id": "d4bd8bf4-d265-41f0-bd86-dffa52609815",
   "metadata": {},
   "outputs": [
    {
     "data": {
      "text/plain": [
       "Text(0, 0.5, 'Temp in F')"
      ]
     },
     "execution_count": 35,
     "metadata": {},
     "output_type": "execute_result"
    },
    {
     "data": {
      "image/png": "[encoded data removed]",
      "text/plain": [
       "<Figure size 640x480 with 1 Axes>"
      ]
     },
     "metadata": {},
     "output_type": "display_data"
    }
   ],
   "source": [
    "plt.plot(t1869, label='1869')\n",
    "plt.plot(t2023, label='2023')\n",
    "plt.legend();\n",
    "plt.xlabel('day of year')\n",
    "plt.ylabel('Temp in F')"
   ]
  },
  {
   "cell_type": "code",
   "execution_count": 14,
   "id": "c4138964-bee9-48b9-b584-96aa1d281c4a",
   "metadata": {},
   "outputs": [
    {
     "data": {
      "text/plain": [
       "<matplotlib.legend.Legend at 0x7f75334f5790>"
      ]
     },
     "execution_count": 14,
     "metadata": {},
     "output_type": "execute_result"
    },
    {
     "data": {
      "image/png": "[encoded data removed]",
      "text/plain": [
       "<Figure size 640x480 with 1 Axes>"
      ]
     },
     "metadata": {},
     "output_type": "display_data"
    }
   ],
   "source": [
    "plt.hist(t1869, bins=100,label='1869')\n",
    "plt.hist(t2023,bins=100,label='2023')\n",
    "plt.legend()"
   ]
  },
  {
   "cell_type": "markdown",
   "id": "be4349d2-6d45-4575-8920-d417616f369e",
   "metadata": {},
   "source": [
    "#### null hypothesis\n",
    "#### meanT in 1869 = meanT in 2023"
   ]
  },
  {
   "cell_type": "code",
   "execution_count": 15,
   "id": "5a940eff-2d66-4199-ba53-13caa6c12227",
   "metadata": {},
   "outputs": [],
   "source": [
    "t_val, p_val = stats.ttest_rel(t1869,t2023,nan_policy='omit')"
   ]
  },
  {
   "cell_type": "code",
   "execution_count": 16,
   "id": "60709f40-8fb8-4558-aef1-196e4d3818bb",
   "metadata": {},
   "outputs": [
    {
     "data": {
      "text/plain": [
       "1.2203567240192806e-20"
      ]
     },
     "execution_count": 16,
     "metadata": {},
     "output_type": "execute_result"
    }
   ],
   "source": [
    "p_val"
   ]
  },
  {
   "cell_type": "code",
   "execution_count": 17,
   "id": "09efc198-3497-49c7-ac84-c4783b7551f0",
   "metadata": {},
   "outputs": [
    {
     "data": {
      "text/plain": [
       "-9.918314432645541"
      ]
     },
     "execution_count": 17,
     "metadata": {},
     "output_type": "execute_result"
    }
   ],
   "source": [
    "t_val"
   ]
  },
  {
   "cell_type": "code",
   "execution_count": 24,
   "id": "aa1588cf-2a1c-493b-bedf-8b6376c7be52",
   "metadata": {},
   "outputs": [],
   "source": [
    "t2,p2 = stats.ttest_1samp(t2023-t1869,2,nan_policy='omit')"
   ]
  },
  {
   "cell_type": "code",
   "execution_count": 25,
   "id": "478a22e1-f9d1-4bac-849a-9740718c675b",
   "metadata": {},
   "outputs": [
    {
     "data": {
      "text/plain": [
       "1.507705003666879e-08"
      ]
     },
     "execution_count": 25,
     "metadata": {},
     "output_type": "execute_result"
    }
   ],
   "source": [
    "p2"
   ]
  },
  {
   "cell_type": "code",
   "execution_count": null,
   "id": "86e90162-6fbd-466a-92cc-c30de10603b4",
   "metadata": {},
   "outputs": [],
   "source": []
  }
 ],
 "metadata": {
  "kernelspec": {
   "display_name": "Python 3 (ipykernel)",
   "language": "python",
   "name": "python3"
  },
  "language_info": {
   "codemirror_mode": {
    "name": "ipython",
    "version": 3
   },
   "file_extension": ".py",
   "mimetype": "text/x-python",
   "name": "python",
   "nbconvert_exporter": "python",
   "pygments_lexer": "ipython3",
   "version": "3.11.7"
  }
 },
 "nbformat": 4,
 "nbformat_minor": 5
}
