{
 "cells": [
  {
   "cell_type": "code",
   "execution_count": 1,
   "id": "73830d9e",
   "metadata": {},
   "outputs": [],
   "source": [
    "\"\"\"\n",
    "\"\"\"\n",
    "import pandas as pd\n",
    "import numpy as np\n",
    "import joblib\n",
    "#import pyarrow.feather as feather\n",
    "import feather\n",
    "import json"
   ]
  },
  {
   "cell_type": "code",
   "execution_count": 2,
   "id": "f3510f43",
   "metadata": {},
   "outputs": [],
   "source": [
    "log = dict()\n",
    "\n",
    "# load the mpaqs data\n",
    "df = pd.read_csv('final/MOD-00067.final.csv', index_col=0)"
   ]
  },
  {
   "cell_type": "code",
   "execution_count": 3,
   "id": "e6a1d69c",
   "metadata": {},
   "outputs": [],
   "source": [
    "# del unneccesary columns\n",
    "del df['timestamp']"
   ]
  },
  {
   "cell_type": "code",
   "execution_count": 4,
   "id": "341681a4",
   "metadata": {},
   "outputs": [],
   "source": [
    "# convert the timestamp to a datetime\n",
    "df['timestamp_local'] = df['timestamp_local'].map(pd.to_datetime)\n",
    "\n",
    "df.set_index(\"timestamp_local\", inplace=True)\n",
    "\n",
    "df = df.sort_index()\n",
    "\n",
    "log['timestamps'] = {\n",
    "    'raw': {\n",
    "        't0': df.index[0].isoformat(),\n",
    "        'tf': df.index[-1].isoformat()\n",
    "    }\n",
    "}"
   ]
  },
  {
   "cell_type": "code",
   "execution_count": 8,
   "id": "76b37ff8",
   "metadata": {},
   "outputs": [],
   "source": [
    "# keep only data between start and end\n",
    "#df = df[snakemake.config['t0']:snakemake.config['tf']]\n",
    "\n",
    "#df.index = df.index.tz_localize(\"UTC\").tz_convert(\"Africa/Kinshasa\")\n",
    "\n",
    "log['timestamps']['cleaned']= {\n",
    "    'cleaned': {\n",
    "        't0': df.index[0].isoformat(),\n",
    "        'tf': df.index[-1].isoformat()\n",
    "    }\n",
    "}\n",
    "\n",
    "log['shape'] = df.shape\n",
    "\n",
    "# export the data both to csv and sav formats\n",
    "df.to_csv('finaldata.csv')\n",
    "\n",
    "# write to feather format\n",
    "#feather.write_dataframe(df.reset_index(), snakemake.output[1])\n",
    "\n",
    "# dump the log\n",
    "#with open(snakemake.output[-1], \"w\") as f:\n",
    "#    json.dump(log, f, sort_keys=True, indent=4)"
   ]
  },
  {
   "cell_type": "code",
   "execution_count": null,
   "id": "246942d0",
   "metadata": {},
   "outputs": [],
   "source": []
  }
 ],
 "metadata": {
  "kernelspec": {
   "display_name": "Python 3 (ipykernel)",
   "language": "python",
   "name": "python3"
  },
  "language_info": {
   "codemirror_mode": {
    "name": "ipython",
    "version": 3
   },
   "file_extension": ".py",
   "mimetype": "text/x-python",
   "name": "python",
   "nbconvert_exporter": "python",
   "pygments_lexer": "ipython3",
   "version": "3.9.12"
  }
 },
 "nbformat": 4,
 "nbformat_minor": 5
}
