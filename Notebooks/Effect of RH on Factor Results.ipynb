{
 "cells": [
  {
   "cell_type": "markdown",
   "metadata": {},
   "source": [
    "# Determining the Effect of RH on Particle Factor Results"
   ]
  },
  {
   "cell_type": "code",
   "execution_count": 1,
   "metadata": {},
   "outputs": [],
   "source": [
    "import pandas as pd\n",
    "import seaborn as sns\n",
    "import matplotlib.pyplot as plt\n",
    "import matplotlib as mpl\n",
    "from pathlib import Path\n",
    "import matplotlib.dates as mdates\n",
    "from matplotlib.ticker import FuncFormatter\n",
    "import numpy as np\n",
    "import joblib\n",
    "import os\n",
    "from matplotlib.dates import date2num\n",
    "from datetime import timedelta\n",
    "\n",
    "mpl.rcParams['mathtext.default'] = 'regular'\n",
    "\n",
    "sns.set(\"paper\", \"ticks\", color_codes=True, palette='colorblind', font_scale=1.5)\n",
    "\n",
    "%matplotlib inline\n",
    "\n",
    "# Set the default paths\n",
    "basepath = Path(os.path.dirname(os.path.realpath('__file__')))\n",
    "datapath = basepath.parent.joinpath('data')"
   ]
  },
  {
   "cell_type": "markdown",
   "metadata": {},
   "source": [
    "## Load the Data"
   ]
  },
  {
   "cell_type": "code",
   "execution_count": 2,
   "metadata": {},
   "outputs": [],
   "source": [
    "df = pd.read_feather(datapath.joinpath(\"munged/tata2017015/final-data.feather\")).set_index(\"index\")"
   ]
  },
  {
   "cell_type": "markdown",
   "metadata": {},
   "source": [
    "## Load the NMF Results"
   ]
  },
  {
   "cell_type": "code",
   "execution_count": 3,
   "metadata": {},
   "outputs": [],
   "source": [
    "nmf = pd.read_feather(datapath.joinpath(\"output/tata2017015/nmf-tseries-results.feather\")).set_index(\"index\")"
   ]
  },
  {
   "cell_type": "markdown",
   "metadata": {},
   "source": [
    "## Merge the two frames"
   ]
  },
  {
   "cell_type": "code",
   "execution_count": 4,
   "metadata": {},
   "outputs": [],
   "source": [
    "merged = pd.merge(df[[\"rh_i\", \"temp_i\"]], nmf[[\"Factor 1\", \"Factor 2\", \"Factor 3\", \"PM1_EST\"]], left_index=True, right_index=True, how='outer')\n"
   ]
  },
  {
   "cell_type": "markdown",
   "metadata": {},
   "source": [
    "## Perform a bootstrap analysis"
   ]
  },
  {
   "cell_type": "code",
   "execution_count": 104,
   "metadata": {},
   "outputs": [
    {
     "name": "stdout",
     "output_type": "stream",
     "text": [
      "<class 'pandas.core.frame.DataFrame'>\n",
      "RangeIndex: 15000 entries, 0 to 14999\n",
      "Data columns (total 3 columns):\n",
      "index       15000 non-null object\n",
      "variable    15000 non-null object\n",
      "value       15000 non-null float64\n",
      "dtypes: float64(1), object(2)\n",
      "memory usage: 351.6+ KB\n",
      "None\n"
     ]
    }
   ],
   "source": [
    "n_samples = 5000\n",
    "boot_pct = .01\n",
    "\n",
    "results = pd.DataFrame()\n",
    "\n",
    "for _ in range(n_samples):\n",
    "    frame = merged.sample(frac=boot_pct, replace=True)\n",
    "    \n",
    "    # correlate everything\n",
    "    corr = frame.corr()**2\n",
    "    \n",
    "    # keep only the columns of interest\n",
    "    corr = corr.loc[[\"rh_i\"], [\"Factor 1\", \"Factor 2\", \"Factor 3\"]]\n",
    "    \n",
    "    # append to results\n",
    "    results = results.append(corr.reset_index().melt(id_vars=[\"index\"]).dropna(), ignore_index=True)\n",
    "    \n",
    "print (results.info())"
   ]
  },
  {
   "cell_type": "markdown",
   "metadata": {},
   "source": [
    "## Calculate the final values"
   ]
  },
  {
   "cell_type": "code",
   "execution_count": 105,
   "metadata": {},
   "outputs": [
    {
     "data": {
      "text/html": [
       "<div>\n",
       "<style scoped>\n",
       "    .dataframe tbody tr th:only-of-type {\n",
       "        vertical-align: middle;\n",
       "    }\n",
       "\n",
       "    .dataframe tbody tr th {\n",
       "        vertical-align: top;\n",
       "    }\n",
       "\n",
       "    .dataframe thead th {\n",
       "        text-align: right;\n",
       "    }\n",
       "</style>\n",
       "<table border=\"1\" class=\"dataframe\">\n",
       "  <thead>\n",
       "    <tr style=\"text-align: right;\">\n",
       "      <th></th>\n",
       "      <th></th>\n",
       "      <th></th>\n",
       "      <th>value</th>\n",
       "    </tr>\n",
       "    <tr>\n",
       "      <th>index</th>\n",
       "      <th>variable</th>\n",
       "      <th></th>\n",
       "      <th></th>\n",
       "    </tr>\n",
       "  </thead>\n",
       "  <tbody>\n",
       "    <tr>\n",
       "      <th rowspan=\"9\" valign=\"top\">rh_i</th>\n",
       "      <th rowspan=\"3\" valign=\"top\">Factor 1</th>\n",
       "      <th>0.05</th>\n",
       "      <td>0.038541</td>\n",
       "    </tr>\n",
       "    <tr>\n",
       "      <th>0.50</th>\n",
       "      <td>0.062524</td>\n",
       "    </tr>\n",
       "    <tr>\n",
       "      <th>0.95</th>\n",
       "      <td>0.091042</td>\n",
       "    </tr>\n",
       "    <tr>\n",
       "      <th rowspan=\"3\" valign=\"top\">Factor 2</th>\n",
       "      <th>0.05</th>\n",
       "      <td>0.328693</td>\n",
       "    </tr>\n",
       "    <tr>\n",
       "      <th>0.50</th>\n",
       "      <td>0.379471</td>\n",
       "    </tr>\n",
       "    <tr>\n",
       "      <th>0.95</th>\n",
       "      <td>0.430283</td>\n",
       "    </tr>\n",
       "    <tr>\n",
       "      <th rowspan=\"3\" valign=\"top\">Factor 3</th>\n",
       "      <th>0.05</th>\n",
       "      <td>0.418435</td>\n",
       "    </tr>\n",
       "    <tr>\n",
       "      <th>0.50</th>\n",
       "      <td>0.452349</td>\n",
       "    </tr>\n",
       "    <tr>\n",
       "      <th>0.95</th>\n",
       "      <td>0.488238</td>\n",
       "    </tr>\n",
       "  </tbody>\n",
       "</table>\n",
       "</div>"
      ],
      "text/plain": [
       "                        value\n",
       "index variable               \n",
       "rh_i  Factor 1 0.05  0.038541\n",
       "               0.50  0.062524\n",
       "               0.95  0.091042\n",
       "      Factor 2 0.05  0.328693\n",
       "               0.50  0.379471\n",
       "               0.95  0.430283\n",
       "      Factor 3 0.05  0.418435\n",
       "               0.50  0.452349\n",
       "               0.95  0.488238"
      ]
     },
     "execution_count": 105,
     "metadata": {},
     "output_type": "execute_result"
    }
   ],
   "source": [
    "results.groupby(['index', 'variable']).quantile([0.05, 0.5, 0.95])"
   ]
  },
  {
   "cell_type": "code",
   "execution_count": null,
   "metadata": {},
   "outputs": [],
   "source": []
  }
 ],
 "metadata": {
  "kernelspec": {
   "display_name": "Python 3",
   "language": "python",
   "name": "python3"
  },
  "language_info": {
   "codemirror_mode": {
    "name": "ipython",
    "version": 3
   },
   "file_extension": ".py",
   "mimetype": "text/x-python",
   "name": "python",
   "nbconvert_exporter": "python",
   "pygments_lexer": "ipython3",
   "version": "3.7.3"
  }
 },
 "nbformat": 4,
 "nbformat_minor": 2
}
